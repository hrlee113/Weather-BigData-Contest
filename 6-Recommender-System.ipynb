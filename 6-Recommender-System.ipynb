{
 "cells": [
  {
   "cell_type": "markdown",
   "id": "f7812c40-6fd9-4f46-95a5-dc37c87b9632",
   "metadata": {},
   "source": [
    "# #6. Recommender System"
   ]
  },
  {
   "cell_type": "code",
   "execution_count": null,
   "id": "b7b88bff-2848-44fa-a037-7f1779abccad",
   "metadata": {},
   "outputs": [],
   "source": [
    "import numpy as np\n",
    "import pandas as pd\n",
    "import datetime as datetime\n",
    "# import dataload\n",
    "from tqdm.notebook import tqdm\n",
    "import matplotlib.pyplot as plt\n",
    "%matplotlib inline\n",
    "tqdm.pandas()"
   ]
  },
  {
   "cell_type": "markdown",
   "id": "c86c9aa2-eef8-4264-bc7a-5c8fe66a961b",
   "metadata": {},
   "source": [
    "# 0. Data Load"
   ]
  },
  {
   "cell_type": "markdown",
   "id": "53df49fe-91a7-4bbb-ba15-12e9c9d562a2",
   "metadata": {},
   "source": [
    "## 0-1. 구매이력 데이터"
   ]
  },
  {
   "cell_type": "code",
   "execution_count": null,
   "id": "624ddc6f-db51-4f69-9f44-751dcefe4f5f",
   "metadata": {},
   "outputs": [],
   "source": [
    "buy_full = pd.read_csv('최종데이터/final_categorical_0622.csv', encoding='cp949')\n",
    "buy_full['date'] = buy_full['date'].apply(lambda x : pd.to_datetime(x, format='%Y-%m-%d'))\n",
    "buy_full['year'] = buy_full['date'].apply(lambda x : x.year)\n",
    "buy_full['month'] = buy_full['date'].apply(lambda x : x.month)\n",
    "buy_full['day'] = buy_full['date'].apply(lambda x : x.day)"
   ]
  },
  {
   "cell_type": "markdown",
   "id": "9962d59f-a5d1-4afa-80a4-e978e5739db9",
   "metadata": {},
   "source": [
    "## 0-2. 날씨와 상관관계 높은 상품 선택"
   ]
  },
  {
   "cell_type": "code",
   "execution_count": null,
   "id": "3ebff006-52e6-4cb2-9dc4-77ddc7af1504",
   "metadata": {},
   "outputs": [],
   "source": [
    "adf_corr = pd.read_csv('최종데이터/adf_corr_group_0617.csv', encoding='cp949')\n",
    "buy_full = buy_full.merge(adf_corr[['sm_cat', 'group']], on='sm_cat')\n",
    "data = buy_full[(buy_full.group=='정상_high')|(buy_full.group=='비정상_high')].reset_index(drop=True)"
   ]
  },
  {
   "cell_type": "markdown",
   "id": "833092dc-41f2-45c8-be81-36e8ac12b6d5",
   "metadata": {},
   "source": [
    "# 1. Recommender System  \n",
    "* Item based Collaborative Filtering 기법 사용"
   ]
  },
  {
   "cell_type": "markdown",
   "id": "5e350c8c-979f-470a-9068-4f37eb9a4cdf",
   "metadata": {},
   "source": [
    "## 1-1. 성/연령/조회월/타겟상품/날씨별 추천상품 도출"
   ]
  },
  {
   "cell_type": "code",
   "execution_count": null,
   "id": "a0cb20ce-ee5b-4950-90dc-3a80839c0be5",
   "metadata": {},
   "outputs": [],
   "source": [
    "from sklearn.metrics.pairwise import cosine_similarity\n",
    "\n",
    "class cf_item:\n",
    "    def __init__(self, data, target, age, sex, month):\n",
    "        self.data = data\n",
    "        self.target = target\n",
    "        self.age = age\n",
    "        self.sex = sex\n",
    "        self.month = month\n",
    "\n",
    "        # age\n",
    "        if self.age == 20:\n",
    "            final_data = self.data[self.data['age']==20]\n",
    "        elif self.age == 30:\n",
    "            final_data = self.data[self.data['age']==30]\n",
    "        elif self.age == 40:\n",
    "            final_data = self.data[self.data['age']==40]\n",
    "        elif self.age == 50:\n",
    "            final_data = self.data[self.data['age']==50]\n",
    "        else:\n",
    "            final_data = self.data[self.data['age']==50]        \n",
    "        # sex\n",
    "        if self.sex == 'F':\n",
    "            final_data = final_data[final_data['sex']=='F']\n",
    "        elif self.sex == 'M':\n",
    "            final_data = final_data[final_data['sex']=='M']\n",
    "        # month\n",
    "        final_data = final_data[final_data['month']==self.month]\n",
    "\n",
    "        # preprocessing\n",
    "        final_data['date'] = final_data['date'].apply(lambda x : str(x)[:10])\n",
    "        self.final_data = final_data\n",
    "\n",
    "    def recommender(self, sample_data, number):\n",
    "        # collaborative filtering\n",
    "        item_user = pd.pivot_table(sample_data, values='qty', index='sm_cat', columns='date').fillna(0)\n",
    "        cosine_similarity0 = cosine_similarity(item_user)\n",
    "        item_collabor = pd.DataFrame(data=cosine_similarity0, index=item_user.index, columns=item_user.index)\n",
    "        result = item_collabor[self.target].sort_values(ascending=False)[1:(number+1)]\n",
    "        res = pd.DataFrame(result).reset_index(); res.columns = ['rec', 'sim']\n",
    "        res['sm_cat'] = self.target; res['rank'] = np.argsort(-res['sim']) + 1\n",
    "        return res\n",
    "\n",
    "    def recommender_weather(self, number, rain, dust):\n",
    "        global weather_data\n",
    "        # 비안옴(0) & 미세먼지 좋음(0)\n",
    "        if (rain == 0)&(dust == 0):\n",
    "            weather_data = self.final_data.loc[(self.final_data['rn_day']==0)&(self.final_data['PM10']<81)]\n",
    "        # 비안옴(0) & 미세먼지 나쁨(1)    \n",
    "        elif (rain == 0)&(dust == 1):\n",
    "            if self.final_data.loc[(self.final_data['rn_day']==0)&(self.final_data['PM10']>=81)].date.nunique() <= 3:\n",
    "                weather_data = self.final_data.loc[(self.final_data['rn_day']==0)&(self.final_data['PM10']>=51)]\n",
    "        # 비옴(1) & 미세먼지 좋음(0)    \n",
    "        elif (rain == 1)&(dust == 0):\n",
    "            weather_data = self.final_data.loc[(self.final_data['rn_day']>0)&(self.final_data['PM10']<81)]\n",
    "        # 비옴(1) & 미세먼지 나쁨(1)    \n",
    "        elif (rain == 1)&(dust == 1):\n",
    "            if self.final_data.loc[(self.final_data['rn_day']>0)&(self.final_data['PM10']>=81)].date.nunique() <= 3:\n",
    "                weather_data = self.final_data.loc[(self.final_data['rn_day']>0)&(self.final_data['PM10']>=51)]\n",
    "        nrows = len(weather_data.date.unique())\n",
    "        \n",
    "        if nrows <= 3:\n",
    "            # print('오늘 날씨에 해당되는 데이터가 부족하므로 날씨를 고려하지 않고 아이템을 추천해드리겠습니다 ㅠ_ㅠ')\n",
    "            res1 = self.recommender(self.final_data, number)\n",
    "            if rain==0:\n",
    "                res1['rain'] = '맑은 날'\n",
    "            elif rain==1:\n",
    "                res1['rain'] = '비오는 날'\n",
    "            if dust==0:\n",
    "                res1['dust'] = '미세먼지 좋은 날'\n",
    "            elif dust==1:\n",
    "                res1['dust'] = '미세먼지 나쁜 날'\n",
    "            res1['age'] = self.age; res1['sex'] = self.sex; res1['month'] = self.month\n",
    "            res1['sm_cat'] = self.target\n",
    "            res1['text'] = '해당 날씨의 조건에 부합하는 데이터가 부족하여, 성연령 정보만을 고려한 추천 결과입니다.'\n",
    "            res1 = res1[['age', 'sex', 'month', 'sm_cat', 'rain', 'dust', 'rank', 'rec', 'sim', 'text']]\n",
    "            return res1\n",
    "\n",
    "        else:\n",
    "            # collaborative filtering\n",
    "            res1 = self.recommender(weather_data, number)\n",
    "            if rain==0:\n",
    "                res1['rain'] = '맑은 날'\n",
    "            elif rain==1:\n",
    "                res1['rain'] = '비오는 날'\n",
    "            if dust==0:\n",
    "                res1['dust'] = '미세먼지 좋은 날'\n",
    "            elif dust==1:\n",
    "                res1['dust'] = '미세먼지 나쁜 날'\n",
    "            res1['age'] = self.age; res1['sex'] = self.sex; res1['month'] = self.month\n",
    "            res1['text'] = ''\n",
    "            res1 = res1[['age', 'sex', 'month', 'sm_cat', 'rain', 'dust', 'rank', 'rec', 'sim', 'text']]\n",
    "            return res1"
   ]
  },
  {
   "cell_type": "code",
   "execution_count": null,
   "id": "92b923e8-bc13-401e-b743-44650c13b86c",
   "metadata": {},
   "outputs": [],
   "source": [
    "NUMBER = 10\n",
    "final_rec = pd.DataFrame()\n",
    "\n",
    "for age in data.age.unique():\n",
    "    for sex in data.sex.unique():\n",
    "        print('========{}{}========'.format(age,sex))\n",
    "        for sm_cat in data.sm_cat.unique():\n",
    "            for month in range(1, 13):\n",
    "                cf = cf_item(data, sm_cat, age, sex, month)\n",
    "                # 연령 텍스트\n",
    "                age_text = '{}대'.format(age)\n",
    "                # 성별 텍스트\n",
    "                if sex == 1:\n",
    "                    sex_text = '여성'\n",
    "                else:\n",
    "                    sex_text = '남성'\n",
    "                try:\n",
    "                    final_rec = pd.concat([final_rec, cf.recommender_weather(NUMBER, 0, 0)], axis=0)\n",
    "                except:\n",
    "                    stop = pd.DataFrame({'age' : [age_text] * NUMBER, 'sex' : [sex_text] * NUMBER, 'month' : [month] * NUMBER,\n",
    "                                         'sm_cat' : [sm_cat] * NUMBER, 'rain' : ['맑은 날'] * NUMBER,\n",
    "                                         'dust' : ['미세먼지 좋은 날'] * NUMBER, 'rank' : range(1,(1+NUMBER)),\n",
    "                                         'text' : '해당 날씨의 조건에 부합하는 데이터가 부족하여, 성연령 정보만을 고려한 추천 결과입니다.'\n",
    "                                         })\n",
    "                    final_rec = pd.concat([final_rec, stop], axis=0)\n",
    "\n",
    "                try:\n",
    "                    final_rec = pd.concat([final_rec, cf.recommender_weather(10, 0, 1)], axis=0)\n",
    "                except:\n",
    "                    stop = pd.DataFrame({'age' : [age_text] * NUMBER, 'sex' : [sex_text] * NUMBER, 'month' : [month] * NUMBER,\n",
    "                                         'sm_cat' : [sm_cat] * NUMBER, 'rain' : ['맑은 날'] * NUMBER,\n",
    "                                         'dust' : ['미세먼지 나쁜 날'] * NUMBER, 'rank' : range(1,(1+NUMBER)),\n",
    "                                         'text' : '해당 날씨의 조건에 부합하는 데이터가 부족하여, 성연령 정보만을 고려한 추천 결과입니다.'\n",
    "                                         })\n",
    "                    final_rec = pd.concat([final_rec, stop], axis=0)\n",
    "\n",
    "                try:\n",
    "                    final_rec = pd.concat([final_rec, cf.recommender_weather(10, 1, 0)], axis=0)\n",
    "                except:\n",
    "                    stop = pd.DataFrame({'age' : [age_text] * NUMBER, 'sex' : [sex_text] * NUMBER, 'month' : [month] * NUMBER,\n",
    "                                         'sm_cat' : [sm_cat] * NUMBER, 'rain' : ['비오는 날'] * NUMBER,\n",
    "                                         'dust' : ['미세먼지 좋은 날'] * NUMBER, 'rank' : range(1,(1+NUMBER)),\n",
    "                                         'text' : '해당 날씨의 조건에 부합하는 데이터가 부족하여, 성연령 정보만을 고려한 추천 결과입니다.'\n",
    "                                         })\n",
    "                    final_rec = pd.concat([final_rec, stop], axis=0)\n",
    "\n",
    "                try:\n",
    "                    final_rec = pd.concat([final_rec, cf.recommender_weather(10, 1, 1)], axis=0)\n",
    "                except:\n",
    "                    stop = pd.DataFrame({'age' : [age_text] * NUMBER, 'sex' : [sex_text] * NUMBER, 'month' : [month] * NUMBER,\n",
    "                                         'sm_cat' : [sm_cat] * NUMBER, 'rain' : ['비오는 날'] * NUMBER,\n",
    "                                         'dust' : ['미세먼지 나쁜 날'] * NUMBER, 'rank' : range(1,(1+NUMBER)),\n",
    "                                         'text' : '해당 날씨의 조건에 부합하는 데이터가 부족하여, 성연령 정보만을 고려한 추천 결과입니다.'\n",
    "                                         })\n",
    "                    final_rec = pd.concat([final_rec, stop], axis=0)"
   ]
  },
  {
   "cell_type": "code",
   "execution_count": null,
   "id": "f27ccc3c-ead1-42e9-a2c4-387e2ebf227a",
   "metadata": {},
   "outputs": [],
   "source": [
    "final_rec.to_csv('최종데이터/final_rec0625.csv', encoding='cp949')"
   ]
  }
 ],
 "metadata": {
  "kernelspec": {
   "display_name": "Python 3",
   "language": "python",
   "name": "python3"
  },
  "language_info": {
   "codemirror_mode": {
    "name": "ipython",
    "version": 3
   },
   "file_extension": ".py",
   "mimetype": "text/x-python",
   "name": "python",
   "nbconvert_exporter": "python",
   "pygments_lexer": "ipython3",
   "version": "3.8.8"
  }
 },
 "nbformat": 4,
 "nbformat_minor": 5
}
