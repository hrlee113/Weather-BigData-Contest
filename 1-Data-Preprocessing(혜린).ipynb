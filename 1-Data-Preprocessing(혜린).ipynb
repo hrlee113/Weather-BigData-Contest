{
 "cells": [
  {
   "cell_type": "code",
   "execution_count": null,
   "id": "da4f5e5c-95e7-4ee0-a096-bda007a21f70",
   "metadata": {},
   "outputs": [],
   "source": [
    "import warnings\n",
    "warnings.filterwarnings(action='ignore')\n",
    "\n",
    "import numpy as np\n",
    "import pandas as pd \n",
    "import dataload\n",
    "import datetime as datetime\n",
    "pd.set_option(\"max_rows\", 500)\n",
    "pd.set_option(\"max_columns\", 500)\n",
    "pd.set_option('float_format', '{:f}'.format)\n",
    "\n",
    "import os \n",
    "import datetime\n",
    "from tqdm.notebook import tqdm \n",
    "from functools import reduce\n",
    "%matplotlib inline\n",
    "tqdm.pandas()"
   ]
  },
  {
   "cell_type": "markdown",
   "id": "0d501807-b2cb-43b3-9cc1-31a6ef1cc7ae",
   "metadata": {},
   "source": [
    "# #1. Data preprocessing - 혜린"
   ]
  },
  {
   "cell_type": "markdown",
   "id": "7a7b4bd7-b59e-422e-b36a-10fd5da00219",
   "metadata": {},
   "source": [
    "# 1. 데이터 로드"
   ]
  },
  {
   "cell_type": "markdown",
   "id": "6e64461d-630e-4203-8a44-621a34c52dea",
   "metadata": {},
   "source": [
    "## 1-1. 내부 데이터"
   ]
  },
  {
   "cell_type": "code",
   "execution_count": null,
   "id": "cd3e9255-dc75-420c-84ff-bbbf7b6e8966",
   "metadata": {},
   "outputs": [],
   "source": []
  },
  {
   "cell_type": "markdown",
   "id": "0d087221-16cc-4e73-85b8-80769c0db876",
   "metadata": {},
   "source": [
    "## 1-2. 기상청 데이터"
   ]
  },
  {
   "cell_type": "code",
   "execution_count": null,
   "id": "44b0130c-9b86-46a5-bd1c-aecfc1790006",
   "metadata": {},
   "outputs": [],
   "source": [
    "def load_file(weather) : \n",
    "    \n",
    "    '''\n",
    "    weather : 추출하고 싶은 날씨 데이터 변수 \n",
    "    '''\n",
    "    \n",
    "    # folder path 설정 \n",
    "    file_path = os.path.join(os.path.abspath(\"..\"), 'data')\n",
    "    file_list = os.listdir(file_path)\n",
    "    \n",
    "    # startswith('i') : i로 시작하는 파일 모두 불러오기 / endswith('csv') : csv 파일 모두 불러오기 \n",
    "    data_file = sorted([file for file in file_list if file.startswith(weather)])\n",
    " \n",
    "    # csv 파일들을 DataFrame으로 불러와서 concat\n",
    "    df = pd.DataFrame()\n",
    "    for d in data_file:\n",
    "        data = pd.read_csv(os.path.join(file_path, d))\n",
    "        df = pd.concat([df, data], axis=0).reset_index(drop=True)\n",
    "    \n",
    "    # index column 삭제 ..ㅎㅎ \n",
    "    df = df.drop('Unnamed: 0', axis=1)\n",
    "    \n",
    "    return df"
   ]
  },
  {
   "cell_type": "markdown",
   "id": "075a8199-6d3e-4766-80e5-d398a86722a7",
   "metadata": {},
   "source": [
    "### 1-2-1. 습도"
   ]
  },
  {
   "cell_type": "code",
   "execution_count": null,
   "id": "855ab6d9-4f2c-495f-8d7f-15c383bed6ba",
   "metadata": {},
   "outputs": [],
   "source": [
    "tqdm.pandas()\n",
    "\n",
    "humid = load_file('humid')\n",
    "humid['date'] = humid['tm'].progress_apply(lambda x : pd.to_datetime(x[:10]))\n",
    "humid2 = humid.groupby(['date', 'aws_id']).max().reset_index()[['date', 'aws_id', 'hm_max']]"
   ]
  },
  {
   "cell_type": "code",
   "execution_count": null,
   "id": "9457b296-2d36-4fee-9dee-5efef605e2a4",
   "metadata": {},
   "outputs": [],
   "source": [
    "# 지역명 부여 함수\n",
    "def make_region(aws_id):\n",
    "    region = {'서울':108, '부산':159, '대구':143, '인천':112, '광주':156, '대전':133, '울산':152, '수원':119, \n",
    "              '강릉':105, '청주':131, '천안':232, '전주':146, '여수':168, '안동':136, '창원':155, '제주':184}\n",
    "    res = None\n",
    "    for r, code in region.items():\n",
    "        if aws_id == code:\n",
    "             res = r\n",
    "    return res\n",
    "\n",
    "humid2['region'] = humid2['aws_id'].apply(make_region)"
   ]
  },
  {
   "cell_type": "code",
   "execution_count": null,
   "id": "32c8a8f5-23cb-491a-9ceb-eade8a93db1f",
   "metadata": {},
   "outputs": [],
   "source": [
    "# 해당 지역, 해당 년월의 평균치로 결측치를 대체하는 함수\n",
    "\n",
    "def missing_value(data, aws_id, year, month, var):\n",
    "    data['year'] = data['date'].apply(lambda x : x.year)\n",
    "    data['month'] = data['date'].apply(lambda x : x.month)\n",
    "    sample = data[(data.aws_id==aws_id)&(data.year==year)&(data.month==month)]\n",
    "    alt = sample[var].mean() # 평균\n",
    "    # 대체\n",
    "    data[(data.aws_id==aws_id)&(data.year==year)&(data.month==month)] = data[(data.aws_id==aws_id)&(data.year==year)&(data.month==month)].fillna(alt) \n",
    "    data = data.drop(['year', 'month'], axis=1) # 월 변수 제거\n",
    "    return data\n",
    "\n",
    "humid2 = missing_value(humid2, 232, 2019, 3, 'hm_max') # 충남(천안)\n",
    "humid2 = missing_value(humid2, 232, 2019, 4, 'hm_max') # 대구\n",
    "humid2 = missing_value(humid2, 143, 2019, 4, 'hm_max') # 대구"
   ]
  },
  {
   "cell_type": "markdown",
   "id": "1b6d65bb-1013-4c0f-bceb-3f7760c5d418",
   "metadata": {},
   "source": [
    "### 1-2-2. 일조시간"
   ]
  },
  {
   "cell_type": "code",
   "execution_count": null,
   "id": "67f8ad55-8c51-4337-9cde-ae9e9dc8c9e3",
   "metadata": {},
   "outputs": [],
   "source": [
    "tqdm.pandas()\n",
    "\n",
    "sun = load_file('sun')\n",
    "sun['date'] = sun['tm'].progress_apply(lambda x : pd.to_datetime(x[:10]))\n",
    "sun2 = sun.groupby(['date', 'stn_id']).max().reset_index()[['date', 'stn_id', 'sum_ss_hr']]\n",
    "sun2.columns = ['date', 'aws_id', 'sum_ss_hr']\n",
    "\n",
    "# 지역명 부여\n",
    "sun2['region'] = sun2['aws_id'].apply(make_region)"
   ]
  },
  {
   "cell_type": "markdown",
   "id": "924c0bae-16ce-443a-8107-854e2c4db48c",
   "metadata": {},
   "source": [
    "### 1-2-3. 기압"
   ]
  },
  {
   "cell_type": "code",
   "execution_count": null,
   "id": "6202375e-2a09-4dbb-9add-608e3520a0ac",
   "metadata": {},
   "outputs": [],
   "source": [
    "tqdm.pandas()\n",
    "\n",
    "press = load_file('press')\n",
    "press['date'] = press['tma'].progress_apply(lambda x : pd.to_datetime(x[:10]))\n",
    "press2 = press.groupby(['date', 'stn_id']).max().reset_index()[['date', 'stn_id', 'max_pa']]\n",
    "press2.columns = ['date', 'aws_id', 'max_pa']\n",
    "\n",
    "# 지역명 부여\n",
    "press2['region'] = press2['aws_id'].apply(make_region)\n",
    "\n",
    "# 결측치 처리\n",
    "press2 = missing_value(press2, 143, 2019, 4, 'max_pa') # 대구\n",
    "press2 = missing_value(press2, 105, 2019, 12, 'max_pa') # 강릉\n",
    "press2 = missing_value(press2, 105, 2020, 1, 'max_pa') # 강릉"
   ]
  },
  {
   "cell_type": "markdown",
   "id": "50eade49-ac80-4b2e-a3c4-c6ce0357247a",
   "metadata": {},
   "source": [
    "### 1-2-4. 기온"
   ]
  },
  {
   "cell_type": "code",
   "execution_count": null,
   "id": "f6251983-f292-4041-967d-1d057b71780c",
   "metadata": {},
   "outputs": [],
   "source": [
    "tqdm.pandas()\n",
    "\n",
    "temp = load_file('temp')\n",
    "temp['date'] = temp[#'tm'#].progress_apply(lambda x : pd.to_datetime(x[:10]))\n",
    "    \n",
    "    \n",
    "# 평균기온, 최대기온, 최고기온\n",
    "temp2 = temp.groupby(['date', 'aws_id']).max().reset_index()[['date', 'aws_id', 'hm_max']]"
   ]
  },
  {
   "cell_type": "markdown",
   "id": "197682d8-e95f-470b-86fa-6967307bcfe4",
   "metadata": {},
   "source": [
    "### 1-2-5. 강수"
   ]
  },
  {
   "cell_type": "code",
   "execution_count": null,
   "id": "46db99a6-950e-4715-9661-7254193f436b",
   "metadata": {},
   "outputs": [],
   "source": [
    "tqdm.pandas()\n",
    "\n",
    "rain = load_file('rain')\n",
    "temp['date'] = temp[#'tm'#].progress_apply(lambda x : pd.to_datetime(x[:10]))\n",
    "    \n",
    "    \n",
    "# 평균기온, 최대기온, 최고기온\n",
    "temp2 = temp.groupby(['date', 'aws_id']).max().reset_index()[['date', 'aws_id', 'hm_max']]"
   ]
  },
  {
   "cell_type": "markdown",
   "id": "ec34d139-7b91-4d79-aee9-4f5969adaf63",
   "metadata": {},
   "source": [
    "### 1-2-6. 풍속"
   ]
  },
  {
   "cell_type": "code",
   "execution_count": null,
   "id": "82cee40d-1194-45b1-9071-1c5ced3c9dc9",
   "metadata": {},
   "outputs": [],
   "source": [
    "tqdm.pandas()\n",
    "\n",
    "wind = load_file('wind')\n",
    "wind['date'] = wind[#'tm'#].progress_apply(lambda x : pd.to_datetime(x[:10]))\n",
    "    \n",
    "# 평균기온, 최대기온, 최고기온\n",
    "temp2 = temp.groupby(['date', 'aws_id']).max().reset_index()[['date', 'aws_id', 'hm_max']]"
   ]
  },
  {
   "cell_type": "markdown",
   "id": "22f58d17-9ef3-4407-a088-2754efa8f82f",
   "metadata": {},
   "source": [
    "## 1-3. 외부 데이터"
   ]
  },
  {
   "cell_type": "markdown",
   "id": "04007aec-146b-475d-a56a-c46b28128b7e",
   "metadata": {},
   "source": [
    "### 1-3-1. 미세먼지"
   ]
  },
  {
   "cell_type": "code",
   "execution_count": null,
   "id": "b3c08272-f11e-45e5-a1ad-a5d8b7d9ba5f",
   "metadata": {},
   "outputs": [],
   "source": [
    "def load_dust(year) : \n",
    "    \n",
    "    # folder path 설정 \n",
    "    file_path = os.path.join(os.path.abspath(\"..\"), 'data\\\\' + year)\n",
    "    file_list = os.listdir(file_path)\n",
    "    \n",
    "    # 파일 불러오기\n",
    "    data_file = sorted([file for file in file_list if file.startswith(year)])\n",
    "    \n",
    "    # csv 파일들을 DataFrame으로 불러와서 concat\n",
    "    df = pd.DataFrame()\n",
    "    for d in data_file:\n",
    "        data = pd.read_excel(os.path.join(file_path, d), engine='openpyxl')\n",
    "        df = pd.concat([df, data], axis=0).reset_index(drop=True)\n",
    "    df = df[~df.지역.isna()] # 지역값이 없는 경우 제거\n",
    "    df = df[~df.PM10.isna()]\n",
    "    df = df[~df.PM25.isna()]\n",
    "    \n",
    "    # 지역 리스트\n",
    "    region = {'서울':108, '부산':159, '대구':143, '인천':112, '광주':156, '대전':133, '울산':152, '수원':119, \n",
    "              '강릉':105, '청주':131, '천안':232, '전주':146, '여수':168, '안동':136, '창원':155, '제주':184}\n",
    "    \n",
    "    # 시간별 데이터를 일별 데이터로 변환\n",
    "    # 지역별 평균값\n",
    "    data = pd.DataFrame()\n",
    "    for r, code in region.items(): # r:지명, code:지역코드\n",
    "        sample = df.copy()\n",
    "        sample['date'] = sample['측정일시'].apply(lambda x : str(x)[:8])\n",
    "        sample['region'] = sample['지역'].apply(lambda x : r if r in x else None)\n",
    "        sample = sample[sample.region == r]\n",
    "        sample['aws_id'] = code\n",
    "        sample = sample.groupby(['date', 'region', 'aws_id']).mean().reset_index()[['date', 'region', 'aws_id', 'PM10', 'PM25']]\n",
    "        data = pd.concat([data, sample], axis=0).reset_index(drop=True)\n",
    "\n",
    "    return data"
   ]
  },
  {
   "cell_type": "code",
   "execution_count": null,
   "id": "3ee71e10-a68f-4c5a-94e8-663169e0efc3",
   "metadata": {},
   "outputs": [],
   "source": [
    "dust2018 = load_dust('2018')\n",
    "dust2019 = load_dust('2019')\n",
    "dust2020 = load_dust('2020')"
   ]
  },
  {
   "cell_type": "code",
   "execution_count": null,
   "id": "659635fc-a960-4547-ba97-b8a55f41c145",
   "metadata": {},
   "outputs": [],
   "source": [
    "dust = pd.concat([dust2018, dust2019, dust2020], axis=0).reset_index(drop=True)\n",
    "dust.columns = ['date', 'region', 'aws_id', 'PM10', 'PM25']\n",
    "dust['date'] = dust['date'].progress_apply(lambda x : pd.to_datetime(x))"
   ]
  },
  {
   "cell_type": "markdown",
   "id": "89d5d64f-9d22-43c1-a7d4-3ba4206bd385",
   "metadata": {},
   "source": [
    "# 2. 데이터 병합"
   ]
  },
  {
   "cell_type": "code",
   "execution_count": null,
   "id": "1fcd365d-0398-4f91-aec9-8168b49f907f",
   "metadata": {},
   "outputs": [],
   "source": [
    "weather = reduce(lambda left, right : pd.merge(left, right, how='left', on=['date', 'aws_id', 'region']), [temp2, rain2, wind2, humid2, press2, dust, sun2])\n",
    "# weather = weather[['date', 'aws_id', 'region', 'PM10', 'PM25', 'hm_max', 'sum_ss_hr', 'max_pa']]\n",
    "weather['year'] = weather['date'].apply(lambda x : x.year)\n",
    "weather1819 = weather[(weather.year==2018)|(weather.year==2019)].drop('year', axis=1)"
   ]
  },
  {
   "cell_type": "markdown",
   "id": "e09978b9-91fd-4b88-91b0-fe25bbc046db",
   "metadata": {},
   "source": [
    "# 3. 파생변수 생성"
   ]
  },
  {
   "cell_type": "markdown",
   "id": "c1da4d1f-31e1-41b1-8054-574268aee357",
   "metadata": {},
   "source": [
    "## 3-1. 날씨 관련 파생변수"
   ]
  },
  {
   "cell_type": "code",
   "execution_count": null,
   "id": "0914ccbf-a1d0-42de-85c1-829301ce00ca",
   "metadata": {},
   "outputs": [],
   "source": [
    "# 체감온도 : 외부에 있는 사람이나 동물이 바람과 한기에 노출된 피부로 부터 열을 빼앗길 때 느끼는 추운 정도를 나타내는 지수\n",
    "weather['체감온도'] = 13.12 + 0.6215*weather['평균기온'] - 11.37 * weather['평균풍속'] * 0.16 + 0.3965 * weather['평균풍속'] * 0.16 * weather['평균기온']\n",
    "\n",
    "# 열지수 : 기온과 습도에 따라 사람이 실제로 느끼는 더위를 지수화한 것\n",
    "H = weather['1시간최대습도']; T = weather['평균기온']\n",
    "RH = H / sum(H) * 100 # percentage\n",
    "weather['열지수'] = -42.379 + 2.04901523*T + 10.14333127*RH - .22475541*T*RH - .00683783*T*T - .05481717*RH*RH + .00122874*T*T*RH + .00085282*T*RH*RH - .00000199*T*T*RH*RH\n",
    "\n",
    "# 폭염여부 : 일 최고기온이 33℃ 이상인 날\n",
    "weather['폭염여부'] = weather['최고기온'].apply(lambda x : 1 if x>=33 else 0)\n",
    "\n",
    "# 강수여부 : 일강수량이 0.1mm 이상인 날\n",
    "weather['강수여부'] = weather['일별강수량'].apply(lambda x : 1 if x>=0.1 else 0)"
   ]
  },
  {
   "cell_type": "markdown",
   "id": "52f8d65d-9fc9-4e65-adde-911c92337c33",
   "metadata": {},
   "source": [
    "## 3-2. 시간 관련 파생변수"
   ]
  },
  {
   "cell_type": "code",
   "execution_count": null,
   "id": "9bcde99e-a33e-4130-b560-f699c570b9d7",
   "metadata": {},
   "outputs": [],
   "source": [
    "weather['날짜'] = weather['날짜'].apply(lambda x : pd.to_datetime(x))\n",
    "weather['연']  = weather['날짜'].dt.year\n",
    "weather['월']  = weather['날짜'].dt.month\n",
    "weather['일']  = weather['날짜'].dt.day\n",
    "weather[\"분기\"] = weather['날짜'].dt.quarter\n",
    "weather['요일']  = weather['날짜'].dt.weekday # 월 0 화 1 수 2 목 3 금 4 토 5 일 6 "
   ]
  },
  {
   "cell_type": "code",
   "execution_count": null,
   "id": "161a5439-2f14-4e1a-be53-70280e9cc032",
   "metadata": {},
   "outputs": [],
   "source": [
    "# 공휴일 정보 추출 함수\n",
    "def getHoliday(year):\n",
    "    \n",
    "    '''\n",
    "    공공데이터포털 공휴일 정보 OPEN API  \n",
    "    '''\n",
    "    \n",
    "    url = f'http://apis.data.go.kr/B090041/openapi/service/SpcdeInfoService/getRestDeInfo?solYear={year}&ServiceKey={key}&_type=json&numOfRows=20'\n",
    "    response = requests.get(url)\n",
    "    holidays = response.json()['response']['body']['items']['item']\n",
    "    holidays = pd.DataFrame(holidays)\n",
    "    holidays['locdate'] = holidays['locdate'].astype(str).apply(lambda x : '-'.join([x[:4], x[4:6], x[6:]]))\n",
    "    \n",
    "    return holidays\n",
    "\n",
    "key = '8H1yac%2Bb0yetY2Waad%2BQIRU43O17onRUd7iR0k2p6%2B4i0yNYn3ym0cXgt3ZqWrR9uFw%2BDu%2B5quHbsXxjpsw5ng%3D%3D'\n",
    "\n",
    "# 공휴일 관련 변수\n",
    "holidays2018 = getHoliday(2018)\n",
    "holidays2019 = getHoliday(2019)\n",
    "\n",
    "holidays = pd.concat([holidays2018, holidays2019], axis=0, ignore_index = True)\n",
    "holidays[\"locdate\"] = holidays['locdate'].apply(lambda x: pd.to_datetime(str(x), format='%Y-%m-%d'))\n",
    "holidays = holidays.drop(['dateKind', 'seq'], axis=1)\n",
    "holidays.columns = ['공휴일명', '공휴일여부', '날짜']\n",
    "\n",
    "weather = weather.merge(holidays[['날짜', '공휴일명', '공휴일여부']], on='날짜', how='left')\n",
    "weather['공휴일여부'] = weather['공휴일여부'].apply(lambda x : 1 if x == 'Y' else 0)"
   ]
  },
  {
   "cell_type": "code",
   "execution_count": null,
   "id": "2bcabeb7-a64b-4436-bdfe-0b31592fdd7a",
   "metadata": {},
   "outputs": [],
   "source": [
    "# 주말 : [5,6]\n",
    "weather['주말여부'] = weather['요일'].apply(lambda x : 1 if x in [5,6] else 0)\n",
    "\n",
    "# 계절 : 봄 0 여름 1 가을 2 겨울 3 \n",
    "weather[\"계절\"] = weather[\"월\"].apply(lambda x : 0 if x in [3,4,5] else 1 if x in [6,7,8] \n",
    "                                   else 2 if x in [9,10,11] else 3)"
   ]
  },
  {
   "cell_type": "markdown",
   "id": "6426149b-439b-4481-9752-52b6bed7b91c",
   "metadata": {},
   "source": [
    "### 3-3. 번외) 결측치 처리"
   ]
  },
  {
   "cell_type": "code",
   "execution_count": null,
   "id": "b512ddbf-17d0-46e3-a346-994af24a752a",
   "metadata": {},
   "outputs": [],
   "source": [
    "# 해당 지역, 해당 년월의 평균치로 결측치를 대체하는 함수\n",
    "\n",
    "def missing_value2(data, aws_id, year, var):\n",
    "    month_list = data[(data[var].isnull())&(data.지점번호==aws_id)&(data.year==year)]['month'].unique()\n",
    "    for month in month_list:\n",
    "        sample = data[(data.지점번호==aws_id)&(data.year==year)&(data.month==month)&(~data[var].isnull())]\n",
    "        alt = sample[var].mean() # 평균\n",
    "        # 대체\n",
    "        if np.isnan(alt)==True: # 해당 년,월의 변수값이 하나도 없으면 전년도 월평균으로 대체\n",
    "            data.loc[(data.지점번호==aws_id)&(data.year==year)&(data.month==month),var] = data.loc[(data.지점번호==aws_id)&(data.month==month), var].mean()\n",
    "        else:\n",
    "            data.loc[(data.지점번호==aws_id)&(data.year==year)&(data.month==month),var] = alt \n",
    "    return data"
   ]
  },
  {
   "cell_type": "markdown",
   "id": "f5ce6841-85a9-414b-b17d-29ee3e3c29c5",
   "metadata": {},
   "source": [
    "### 3-3-1. `PM10`"
   ]
  },
  {
   "cell_type": "code",
   "execution_count": null,
   "id": "01aa2f41-dc3e-4673-bbc9-fcd2baf8639b",
   "metadata": {},
   "outputs": [],
   "source": [
    "# 안동\n",
    "weather = missing_value2(weather, 136, 2018, 'PM10')\n",
    "weather = missing_value2(weather, 136, 2019, 'PM10')\n",
    "# 제주\n",
    "weather = missing_value2(weather, 184, 2018, 'PM10')\n",
    "weather = missing_value2(weather, 184, 2019, 'PM10')\n",
    "# 천안\n",
    "weather = missing_value2(weather, 232, 2018, 'PM10')\n",
    "weather = missing_value2(weather, 232, 2019, 'PM10')\n",
    "# 강릉 \n",
    "weather = missing_value2(weather, 105, 2018, 'PM10')\n",
    "weather = missing_value2(weather, 105, 2019, 'PM10')"
   ]
  },
  {
   "cell_type": "markdown",
   "id": "4e4b526d-8b37-4618-88c3-cad55f0df073",
   "metadata": {},
   "source": [
    "### 3-3-2. `PM25`"
   ]
  },
  {
   "cell_type": "code",
   "execution_count": null,
   "id": "95546a30-9ae2-44c2-842e-e23271d71266",
   "metadata": {},
   "outputs": [],
   "source": [
    "# 안동\n",
    "weather = missing_value2(weather, 136, 2018, 'PM25')\n",
    "weather = missing_value2(weather, 136, 2019, 'PM25')\n",
    "# 제주\n",
    "weather = missing_value2(weather, 184, 2018, 'PM25')\n",
    "weather = missing_value2(weather, 184, 2019, 'PM25')\n",
    "# 천안\n",
    "weather = missing_value2(weather, 232, 2018, 'PM25')\n",
    "weather = missing_value2(weather, 232, 2019, 'PM25')\n",
    "# 강릉 \n",
    "weather = missing_value2(weather, 105, 2018, 'PM25')\n",
    "weather = missing_value2(weather, 105, 2019, 'PM25')"
   ]
  },
  {
   "cell_type": "markdown",
   "id": "b550e33d-414b-482e-8c81-86bcd862b378",
   "metadata": {},
   "source": [
    "### 3-3-3. 일조시간"
   ]
  },
  {
   "cell_type": "code",
   "execution_count": null,
   "id": "a1da1e30-72b8-4cdd-b916-fe5d64138443",
   "metadata": {},
   "outputs": [],
   "source": [
    "# 대구\n",
    "weather = missing_value2(weather, 143, 2018, '일조시간합')\n",
    "weather = missing_value2(weather, 143, 2019, '일조시간합')\n",
    "# 부산 \n",
    "weather = missing_value2(weather, 159, 2018, '일조시간합')\n",
    "weather = missing_value2(weather, 159, 2019, '일조시간합')\n",
    "# 서울\n",
    "weather = missing_value2(weather, 108, 2018, '일조시간합')\n",
    "weather = missing_value2(weather, 108, 2019, '일조시간합')"
   ]
  },
  {
   "cell_type": "code",
   "execution_count": null,
   "id": "d1f12507-d328-4ff1-9cbf-ffce29fff066",
   "metadata": {},
   "outputs": [],
   "source": [
    "# ======= output : weather_final2 ======="
   ]
  },
  {
   "cell_type": "markdown",
   "id": "3e3b44a0-e473-47b5-a944-3a240b7d3fdc",
   "metadata": {},
   "source": [
    "======= 여기 final_0606 만드는 코드 들어가야함"
   ]
  }
 ],
 "metadata": {
  "kernelspec": {
   "display_name": "Python 3",
   "language": "python",
   "name": "python3"
  },
  "language_info": {
   "codemirror_mode": {
    "name": "ipython",
    "version": 3
   },
   "file_extension": ".py",
   "mimetype": "text/x-python",
   "name": "python",
   "nbconvert_exporter": "python",
   "pygments_lexer": "ipython3",
   "version": "3.8.3"
  }
 },
 "nbformat": 4,
 "nbformat_minor": 5
}
