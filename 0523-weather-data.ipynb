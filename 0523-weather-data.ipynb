{
 "cells": [
  {
   "cell_type": "markdown",
   "id": "corrected-longitude",
   "metadata": {},
   "source": [
    "# 미세먼지, 습도, 일조시간, 기압"
   ]
  },
  {
   "cell_type": "code",
   "execution_count": 3,
   "id": "twelve-colors",
   "metadata": {},
   "outputs": [],
   "source": [
    "import warnings\n",
    "warnings.filterwarnings(action='ignore')\n",
    "\n",
    "import pandas as pd \n",
    "import numpy as np\n",
    "pd.set_option(\"max_rows\", 500)\n",
    "pd.set_option(\"max_columns\", 500)\n",
    "pd.set_option('float_format', '{:f}'.format)\n",
    "\n",
    "import os \n",
    "import datetime\n",
    "from tqdm import tqdm \n",
    "from functools import reduce"
   ]
  },
  {
   "cell_type": "markdown",
   "id": "elegant-shore",
   "metadata": {},
   "source": [
    "## 0. 데이터 로드"
   ]
  },
  {
   "cell_type": "markdown",
   "id": "numerous-chuck",
   "metadata": {},
   "source": [
    "### 0-1. 미세먼지 데이터"
   ]
  },
  {
   "cell_type": "code",
   "execution_count": 6,
   "id": "differential-atlantic",
   "metadata": {},
   "outputs": [],
   "source": [
    "def load_dust(year) : \n",
    "    \n",
    "    # folder path 설정 \n",
    "    file_path = os.path.join(os.path.abspath(\"..\"), 'data\\\\' + year)\n",
    "    file_list = os.listdir(file_path)\n",
    "    \n",
    "    # 파일 불러오기\n",
    "    data_file = sorted([file for file in file_list if file.startswith(year)])\n",
    "    \n",
    "    # csv 파일들을 DataFrame으로 불러와서 concat\n",
    "    df = pd.DataFrame()\n",
    "    for d in data_file:\n",
    "        data = pd.read_excel(os.path.join(file_path, d), engine='openpyxl')\n",
    "        df = pd.concat([df, data], axis=0).reset_index(drop=True)\n",
    "    df = df[~df.지역.isna()] # 지역값이 없는 경우 제거\n",
    "    df = df[~df.PM10.isna()]\n",
    "    df = df[~df.PM25.isna()]\n",
    "    \n",
    "    # 지역 리스트\n",
    "    region = {'서울':108, '부산':159, '대구':143, '인천':112, '광주':156, '대전':133, '울산':152, '수원':118, \n",
    "              '춘천':101, '강릉':105, '청주':131, '천안':232, '전주':146, '여수':168, '안동':136, '창원':155}\n",
    "    \n",
    "    # 시간별 데이터를 일별 데이터로 변환\n",
    "    # 지역별 평균값\n",
    "    data = pd.DataFrame()\n",
    "    for r, code in region.items(): # r:지명, code:지역코드\n",
    "        sample = df.copy()\n",
    "        sample['date'] = sample['측정일시'].apply(lambda x : str(x)[:8])\n",
    "        sample['region'] = sample['지역'].apply(lambda x : r if r in x else None)\n",
    "        sample = sample[sample.region == r]\n",
    "        sample['aws_id'] = code\n",
    "        sample = sample.groupby(['date', 'region', 'aws_id']).mean().reset_index()[['date', 'region', 'aws_id', 'PM10', 'PM25']]\n",
    "        data = pd.concat([data, sample], axis=0).reset_index(drop=True)\n",
    "\n",
    "    return data"
   ]
  },
  {
   "cell_type": "code",
   "execution_count": 7,
   "id": "fantastic-encounter",
   "metadata": {},
   "outputs": [],
   "source": [
    "dust2018 = load_dust('2018')\n",
    "dust2019 = load_dust('2019')\n",
    "dust2020 = load_dust('2020')"
   ]
  },
  {
   "cell_type": "code",
   "execution_count": 8,
   "id": "optional-water",
   "metadata": {},
   "outputs": [
    {
     "data": {
      "text/plain": [
       "(17241, 5)"
      ]
     },
     "execution_count": 8,
     "metadata": {},
     "output_type": "execute_result"
    }
   ],
   "source": [
    "dust = pd.concat([dust2018, dust2019, dust2020], axis=0).reset_index(drop=True)\n",
    "dust.shape"
   ]
  },
  {
   "cell_type": "code",
   "execution_count": 9,
   "id": "japanese-louisville",
   "metadata": {},
   "outputs": [],
   "source": [
    "dust.columns = ['date', 'region', 'aws_id', 'PM10', 'PM2.5']"
   ]
  },
  {
   "cell_type": "code",
   "execution_count": 10,
   "id": "widespread-congress",
   "metadata": {},
   "outputs": [
    {
     "data": {
      "text/html": [
       "<div>\n",
       "<style scoped>\n",
       "    .dataframe tbody tr th:only-of-type {\n",
       "        vertical-align: middle;\n",
       "    }\n",
       "\n",
       "    .dataframe tbody tr th {\n",
       "        vertical-align: top;\n",
       "    }\n",
       "\n",
       "    .dataframe thead th {\n",
       "        text-align: right;\n",
       "    }\n",
       "</style>\n",
       "<table border=\"1\" class=\"dataframe\">\n",
       "  <thead>\n",
       "    <tr style=\"text-align: right;\">\n",
       "      <th></th>\n",
       "      <th>date</th>\n",
       "      <th>region</th>\n",
       "      <th>aws_id</th>\n",
       "      <th>PM10</th>\n",
       "      <th>PM2.5</th>\n",
       "    </tr>\n",
       "  </thead>\n",
       "  <tbody>\n",
       "    <tr>\n",
       "      <th>0</th>\n",
       "      <td>20180101</td>\n",
       "      <td>서울</td>\n",
       "      <td>108</td>\n",
       "      <td>42.307692</td>\n",
       "      <td>21.470696</td>\n",
       "    </tr>\n",
       "    <tr>\n",
       "      <th>1</th>\n",
       "      <td>20180102</td>\n",
       "      <td>서울</td>\n",
       "      <td>108</td>\n",
       "      <td>40.470588</td>\n",
       "      <td>22.711397</td>\n",
       "    </tr>\n",
       "    <tr>\n",
       "      <th>2</th>\n",
       "      <td>20180103</td>\n",
       "      <td>서울</td>\n",
       "      <td>108</td>\n",
       "      <td>35.242478</td>\n",
       "      <td>19.042478</td>\n",
       "    </tr>\n",
       "    <tr>\n",
       "      <th>3</th>\n",
       "      <td>20180104</td>\n",
       "      <td>서울</td>\n",
       "      <td>108</td>\n",
       "      <td>46.385027</td>\n",
       "      <td>25.381462</td>\n",
       "    </tr>\n",
       "    <tr>\n",
       "      <th>4</th>\n",
       "      <td>20180105</td>\n",
       "      <td>서울</td>\n",
       "      <td>108</td>\n",
       "      <td>57.841918</td>\n",
       "      <td>37.159858</td>\n",
       "    </tr>\n",
       "  </tbody>\n",
       "</table>\n",
       "</div>"
      ],
      "text/plain": [
       "       date region  aws_id      PM10     PM2.5\n",
       "0  20180101     서울     108 42.307692 21.470696\n",
       "1  20180102     서울     108 40.470588 22.711397\n",
       "2  20180103     서울     108 35.242478 19.042478\n",
       "3  20180104     서울     108 46.385027 25.381462\n",
       "4  20180105     서울     108 57.841918 37.159858"
      ]
     },
     "execution_count": 10,
     "metadata": {},
     "output_type": "execute_result"
    }
   ],
   "source": [
    "dust.head()"
   ]
  },
  {
   "cell_type": "markdown",
   "id": "authentic-commission",
   "metadata": {},
   "source": [
    "### 0-2. 날씨 데이터"
   ]
  },
  {
   "cell_type": "code",
   "execution_count": 11,
   "id": "exempt-budget",
   "metadata": {},
   "outputs": [],
   "source": [
    "def load_file(weather) : \n",
    "    \n",
    "    '''\n",
    "    weather : 추출하고 싶은 날씨 데이터 변수 \n",
    "    '''\n",
    "    \n",
    "    # folder path 설정 \n",
    "    file_path = os.path.join(os.path.abspath(\"..\"), 'data')\n",
    "    file_list = os.listdir(file_path)\n",
    "    \n",
    "    # startswith('i') : i로 시작하는 파일 모두 불러오기 / endswith('csv') : csv 파일 모두 불러오기 \n",
    "    data_file = sorted([file for file in file_list if file.startswith(weather)])\n",
    " \n",
    "    # csv 파일들을 DataFrame으로 불러와서 concat\n",
    "    df = pd.DataFrame()\n",
    "    for d in data_file:\n",
    "        data = pd.read_csv(os.path.join(file_path, d))\n",
    "        df = pd.concat([df, data], axis=0).reset_index(drop=True)\n",
    "    \n",
    "    # index column 삭제 ..ㅎㅎ \n",
    "    df = df.drop('Unnamed: 0', axis=1)\n",
    "    \n",
    "    return df"
   ]
  },
  {
   "cell_type": "code",
   "execution_count": 12,
   "id": "unlike-creator",
   "metadata": {},
   "outputs": [
    {
     "data": {
      "text/plain": [
       "((420864, 4), (17441, 3), (17536, 4))"
      ]
     },
     "execution_count": 12,
     "metadata": {},
     "output_type": "execute_result"
    }
   ],
   "source": [
    "humid = load_file('humid')\n",
    "sun = load_file('sun')\n",
    "press = load_file('press')\n",
    "\n",
    "humid.shape, sun.shape, press.shape"
   ]
  },
  {
   "cell_type": "markdown",
   "id": "ancient-country",
   "metadata": {},
   "source": [
    "## 1. 미세먼지"
   ]
  },
  {
   "cell_type": "code",
   "execution_count": 13,
   "id": "raising-ireland",
   "metadata": {},
   "outputs": [
    {
     "name": "stderr",
     "output_type": "stream",
     "text": [
      "100%|██████████████████████████████████████████████████████████████████████████| 17241/17241 [00:02<00:00, 7093.60it/s]\n"
     ]
    }
   ],
   "source": [
    "tqdm.pandas()\n",
    "dust['date'] = dust['date'].progress_apply(lambda x : pd.to_datetime(x))"
   ]
  },
  {
   "cell_type": "markdown",
   "id": "provincial-franchise",
   "metadata": {},
   "source": [
    "### 결측치"
   ]
  },
  {
   "cell_type": "code",
   "execution_count": 14,
   "id": "synthetic-component",
   "metadata": {},
   "outputs": [
    {
     "data": {
      "text/plain": [
       "date      0\n",
       "region    0\n",
       "aws_id    0\n",
       "PM10      0\n",
       "PM2.5     0\n",
       "dtype: int64"
      ]
     },
     "execution_count": 14,
     "metadata": {},
     "output_type": "execute_result"
    }
   ],
   "source": [
    "dust.isnull().sum()"
   ]
  },
  {
   "cell_type": "markdown",
   "id": "atlantic-bahrain",
   "metadata": {},
   "source": [
    "## 2. 습도  \n",
    "* 일별 데이터  \n",
    "  * `date` : 날짜  \n",
    "  * `aws_id` : 관측지점  \n",
    "  * `hm_max` : 시간당 최대 습도"
   ]
  },
  {
   "cell_type": "code",
   "execution_count": 17,
   "id": "owned-chess",
   "metadata": {},
   "outputs": [
    {
     "name": "stderr",
     "output_type": "stream",
     "text": [
      "100%|████████████████████████████████████████████████████████████████████████| 420864/420864 [01:01<00:00, 6834.69it/s]\n"
     ]
    }
   ],
   "source": [
    "tqdm.pandas()\n",
    "humid['date'] = humid['tm'].progress_apply(lambda x : pd.to_datetime(x[:10]))"
   ]
  },
  {
   "cell_type": "code",
   "execution_count": 18,
   "id": "representative-elevation",
   "metadata": {},
   "outputs": [
    {
     "data": {
      "text/html": [
       "<div>\n",
       "<style scoped>\n",
       "    .dataframe tbody tr th:only-of-type {\n",
       "        vertical-align: middle;\n",
       "    }\n",
       "\n",
       "    .dataframe tbody tr th {\n",
       "        vertical-align: top;\n",
       "    }\n",
       "\n",
       "    .dataframe thead th {\n",
       "        text-align: right;\n",
       "    }\n",
       "</style>\n",
       "<table border=\"1\" class=\"dataframe\">\n",
       "  <thead>\n",
       "    <tr style=\"text-align: right;\">\n",
       "      <th></th>\n",
       "      <th>date</th>\n",
       "      <th>aws_id</th>\n",
       "      <th>hm_max</th>\n",
       "    </tr>\n",
       "  </thead>\n",
       "  <tbody>\n",
       "    <tr>\n",
       "      <th>0</th>\n",
       "      <td>2018-01-01</td>\n",
       "      <td>105</td>\n",
       "      <td>25.400000</td>\n",
       "    </tr>\n",
       "    <tr>\n",
       "      <th>1</th>\n",
       "      <td>2018-01-01</td>\n",
       "      <td>108</td>\n",
       "      <td>57.100000</td>\n",
       "    </tr>\n",
       "    <tr>\n",
       "      <th>2</th>\n",
       "      <td>2018-01-01</td>\n",
       "      <td>112</td>\n",
       "      <td>67.200000</td>\n",
       "    </tr>\n",
       "    <tr>\n",
       "      <th>3</th>\n",
       "      <td>2018-01-01</td>\n",
       "      <td>119</td>\n",
       "      <td>84.700000</td>\n",
       "    </tr>\n",
       "    <tr>\n",
       "      <th>4</th>\n",
       "      <td>2018-01-01</td>\n",
       "      <td>131</td>\n",
       "      <td>71.400000</td>\n",
       "    </tr>\n",
       "  </tbody>\n",
       "</table>\n",
       "</div>"
      ],
      "text/plain": [
       "        date  aws_id    hm_max\n",
       "0 2018-01-01     105 25.400000\n",
       "1 2018-01-01     108 57.100000\n",
       "2 2018-01-01     112 67.200000\n",
       "3 2018-01-01     119 84.700000\n",
       "4 2018-01-01     131 71.400000"
      ]
     },
     "execution_count": 18,
     "metadata": {},
     "output_type": "execute_result"
    }
   ],
   "source": [
    "humid2 = humid.groupby(['date', 'aws_id']).max().reset_index()[['date', 'aws_id', 'hm_max']]\n",
    "humid2.head()"
   ]
  },
  {
   "cell_type": "markdown",
   "id": "greater-header",
   "metadata": {},
   "source": [
    "### 결측치"
   ]
  },
  {
   "cell_type": "code",
   "execution_count": 19,
   "id": "talented-fence",
   "metadata": {},
   "outputs": [],
   "source": [
    "''' 해당 지역, 해당 년월의 평균치로 결측치를 대체하는 함수'''\n",
    "\n",
    "def missing_value(data, aws_id, year, month, var):\n",
    "    data['year'] = data['date'].apply(lambda x : x.year)\n",
    "    data['month'] = data['date'].apply(lambda x : x.month)\n",
    "    sample = data[(data.aws_id==aws_id)&(data.year==year)&(data.month==month)]\n",
    "    alt = sample[var].mean() # 평균\n",
    "    # 대체\n",
    "    data[(data.aws_id==aws_id)&(data.year==year)&(data.month==month)] = data[(data.aws_id==aws_id)&(data.year==year)&(data.month==month)].fillna(alt) \n",
    "    data = data.drop(['year', 'month'], axis=1) # 월 변수 제거\n",
    "    return data"
   ]
  },
  {
   "cell_type": "code",
   "execution_count": 20,
   "id": "passing-connectivity",
   "metadata": {},
   "outputs": [
    {
     "data": {
      "text/plain": [
       "date      0\n",
       "aws_id    0\n",
       "hm_max    9\n",
       "dtype: int64"
      ]
     },
     "execution_count": 20,
     "metadata": {},
     "output_type": "execute_result"
    }
   ],
   "source": [
    "humid2.isnull().sum()"
   ]
  },
  {
   "cell_type": "code",
   "execution_count": 21,
   "id": "prompt-hollywood",
   "metadata": {},
   "outputs": [
    {
     "data": {
      "text/html": [
       "<div>\n",
       "<style scoped>\n",
       "    .dataframe tbody tr th:only-of-type {\n",
       "        vertical-align: middle;\n",
       "    }\n",
       "\n",
       "    .dataframe tbody tr th {\n",
       "        vertical-align: top;\n",
       "    }\n",
       "\n",
       "    .dataframe thead th {\n",
       "        text-align: right;\n",
       "    }\n",
       "</style>\n",
       "<table border=\"1\" class=\"dataframe\">\n",
       "  <thead>\n",
       "    <tr style=\"text-align: right;\">\n",
       "      <th></th>\n",
       "      <th>date</th>\n",
       "      <th>aws_id</th>\n",
       "      <th>hm_max</th>\n",
       "    </tr>\n",
       "  </thead>\n",
       "  <tbody>\n",
       "    <tr>\n",
       "      <th>7087</th>\n",
       "      <td>2019-03-19</td>\n",
       "      <td>232</td>\n",
       "      <td>nan</td>\n",
       "    </tr>\n",
       "    <tr>\n",
       "      <th>7103</th>\n",
       "      <td>2019-03-20</td>\n",
       "      <td>232</td>\n",
       "      <td>nan</td>\n",
       "    </tr>\n",
       "    <tr>\n",
       "      <th>7119</th>\n",
       "      <td>2019-03-21</td>\n",
       "      <td>232</td>\n",
       "      <td>nan</td>\n",
       "    </tr>\n",
       "    <tr>\n",
       "      <th>7231</th>\n",
       "      <td>2019-03-28</td>\n",
       "      <td>232</td>\n",
       "      <td>nan</td>\n",
       "    </tr>\n",
       "    <tr>\n",
       "      <th>7247</th>\n",
       "      <td>2019-03-29</td>\n",
       "      <td>232</td>\n",
       "      <td>nan</td>\n",
       "    </tr>\n",
       "    <tr>\n",
       "      <th>7263</th>\n",
       "      <td>2019-03-30</td>\n",
       "      <td>232</td>\n",
       "      <td>nan</td>\n",
       "    </tr>\n",
       "    <tr>\n",
       "      <th>7279</th>\n",
       "      <td>2019-03-31</td>\n",
       "      <td>232</td>\n",
       "      <td>nan</td>\n",
       "    </tr>\n",
       "    <tr>\n",
       "      <th>7295</th>\n",
       "      <td>2019-04-01</td>\n",
       "      <td>232</td>\n",
       "      <td>nan</td>\n",
       "    </tr>\n",
       "    <tr>\n",
       "      <th>7511</th>\n",
       "      <td>2019-04-15</td>\n",
       "      <td>143</td>\n",
       "      <td>nan</td>\n",
       "    </tr>\n",
       "  </tbody>\n",
       "</table>\n",
       "</div>"
      ],
      "text/plain": [
       "           date  aws_id  hm_max\n",
       "7087 2019-03-19     232     nan\n",
       "7103 2019-03-20     232     nan\n",
       "7119 2019-03-21     232     nan\n",
       "7231 2019-03-28     232     nan\n",
       "7247 2019-03-29     232     nan\n",
       "7263 2019-03-30     232     nan\n",
       "7279 2019-03-31     232     nan\n",
       "7295 2019-04-01     232     nan\n",
       "7511 2019-04-15     143     nan"
      ]
     },
     "execution_count": 21,
     "metadata": {},
     "output_type": "execute_result"
    }
   ],
   "source": [
    "humid2[humid2.hm_max.isna()] # 232 : 충남(천안)"
   ]
  },
  {
   "cell_type": "code",
   "execution_count": 22,
   "id": "third-moldova",
   "metadata": {},
   "outputs": [],
   "source": [
    "humid2 = missing_value(humid2, 232, 2019, 3, 'hm_max')\n",
    "humid2 = missing_value(humid2, 232, 2019, 4, 'hm_max')\n",
    "humid2 = missing_value(humid2, 143, 2019, 4, 'hm_max')"
   ]
  },
  {
   "cell_type": "code",
   "execution_count": 23,
   "id": "external-affairs",
   "metadata": {},
   "outputs": [
    {
     "data": {
      "text/plain": [
       "date      0\n",
       "aws_id    0\n",
       "hm_max    0\n",
       "dtype: int64"
      ]
     },
     "execution_count": 23,
     "metadata": {},
     "output_type": "execute_result"
    }
   ],
   "source": [
    "humid2.isnull().sum()"
   ]
  },
  {
   "cell_type": "markdown",
   "id": "golden-vacation",
   "metadata": {},
   "source": [
    "## 3. 일조시간  \n",
    "* 일별 데이터  \n",
    "  * `date` : 날짜  \n",
    "  * `stn_id` : 지역  \n",
    "  * `sum_ss_hr` : 합계 일조시간"
   ]
  },
  {
   "cell_type": "code",
   "execution_count": 24,
   "id": "afraid-lecture",
   "metadata": {},
   "outputs": [
    {
     "name": "stderr",
     "output_type": "stream",
     "text": [
      "100%|██████████████████████████████████████████████████████████████████████████| 17441/17441 [00:02<00:00, 7515.69it/s]\n"
     ]
    }
   ],
   "source": [
    "tqdm.pandas()\n",
    "sun['date'] = sun['tma'].progress_apply(lambda x : pd.to_datetime(x[:10]))"
   ]
  },
  {
   "cell_type": "code",
   "execution_count": 25,
   "id": "familiar-relief",
   "metadata": {},
   "outputs": [],
   "source": [
    "sun2 = sun.groupby(['date', 'stn_id']).max().reset_index()[['date', 'stn_id', 'sum_ss_hr']]\n",
    "sun2.columns = ['date', 'aws_id', 'sum_ss_hr']"
   ]
  },
  {
   "cell_type": "code",
   "execution_count": 26,
   "id": "quick-typing",
   "metadata": {},
   "outputs": [
    {
     "data": {
      "text/html": [
       "<div>\n",
       "<style scoped>\n",
       "    .dataframe tbody tr th:only-of-type {\n",
       "        vertical-align: middle;\n",
       "    }\n",
       "\n",
       "    .dataframe tbody tr th {\n",
       "        vertical-align: top;\n",
       "    }\n",
       "\n",
       "    .dataframe thead th {\n",
       "        text-align: right;\n",
       "    }\n",
       "</style>\n",
       "<table border=\"1\" class=\"dataframe\">\n",
       "  <thead>\n",
       "    <tr style=\"text-align: right;\">\n",
       "      <th></th>\n",
       "      <th>date</th>\n",
       "      <th>aws_id</th>\n",
       "      <th>sum_ss_hr</th>\n",
       "    </tr>\n",
       "  </thead>\n",
       "  <tbody>\n",
       "    <tr>\n",
       "      <th>0</th>\n",
       "      <td>2018-01-01</td>\n",
       "      <td>105</td>\n",
       "      <td>57.900000</td>\n",
       "    </tr>\n",
       "    <tr>\n",
       "      <th>1</th>\n",
       "      <td>2018-01-01</td>\n",
       "      <td>108</td>\n",
       "      <td>51.600000</td>\n",
       "    </tr>\n",
       "    <tr>\n",
       "      <th>2</th>\n",
       "      <td>2018-01-01</td>\n",
       "      <td>112</td>\n",
       "      <td>53.800000</td>\n",
       "    </tr>\n",
       "    <tr>\n",
       "      <th>3</th>\n",
       "      <td>2018-01-01</td>\n",
       "      <td>119</td>\n",
       "      <td>52.700000</td>\n",
       "    </tr>\n",
       "    <tr>\n",
       "      <th>4</th>\n",
       "      <td>2018-01-01</td>\n",
       "      <td>131</td>\n",
       "      <td>54.600000</td>\n",
       "    </tr>\n",
       "  </tbody>\n",
       "</table>\n",
       "</div>"
      ],
      "text/plain": [
       "        date  aws_id  sum_ss_hr\n",
       "0 2018-01-01     105  57.900000\n",
       "1 2018-01-01     108  51.600000\n",
       "2 2018-01-01     112  53.800000\n",
       "3 2018-01-01     119  52.700000\n",
       "4 2018-01-01     131  54.600000"
      ]
     },
     "execution_count": 26,
     "metadata": {},
     "output_type": "execute_result"
    }
   ],
   "source": [
    "sun2.head()"
   ]
  },
  {
   "cell_type": "markdown",
   "id": "collect-sphere",
   "metadata": {},
   "source": [
    "### 결측치"
   ]
  },
  {
   "cell_type": "code",
   "execution_count": 27,
   "id": "sufficient-microphone",
   "metadata": {
    "scrolled": true
   },
   "outputs": [
    {
     "data": {
      "text/plain": [
       "date         0\n",
       "aws_id       0\n",
       "sum_ss_hr    0\n",
       "dtype: int64"
      ]
     },
     "execution_count": 27,
     "metadata": {},
     "output_type": "execute_result"
    }
   ],
   "source": [
    "sun2.isnull().sum() # 결측치 없음"
   ]
  },
  {
   "cell_type": "markdown",
   "id": "professional-productivity",
   "metadata": {},
   "source": [
    "## 4. 기압  \n",
    "* 일별 데이터  \n",
    "  * `date` : 날짜  \n",
    "  * `stn_id` : 지역  \n",
    "  * `max_pa` : 최고 현지기압"
   ]
  },
  {
   "cell_type": "code",
   "execution_count": 28,
   "id": "charitable-james",
   "metadata": {},
   "outputs": [
    {
     "name": "stderr",
     "output_type": "stream",
     "text": [
      "100%|██████████████████████████████████████████████████████████████████████████| 17536/17536 [00:02<00:00, 6193.16it/s]\n"
     ]
    }
   ],
   "source": [
    "tqdm.pandas()\n",
    "press['date'] = press['tma'].progress_apply(lambda x : pd.to_datetime(x[:10]))"
   ]
  },
  {
   "cell_type": "code",
   "execution_count": 29,
   "id": "fantastic-greene",
   "metadata": {},
   "outputs": [],
   "source": [
    "press2 = press.groupby(['date', 'stn_id']).max().reset_index()[['date', 'stn_id', 'max_pa']]\n",
    "press2.columns = ['date', 'aws_id', 'max_pa']"
   ]
  },
  {
   "cell_type": "code",
   "execution_count": 30,
   "id": "present-transportation",
   "metadata": {},
   "outputs": [
    {
     "data": {
      "text/html": [
       "<div>\n",
       "<style scoped>\n",
       "    .dataframe tbody tr th:only-of-type {\n",
       "        vertical-align: middle;\n",
       "    }\n",
       "\n",
       "    .dataframe tbody tr th {\n",
       "        vertical-align: top;\n",
       "    }\n",
       "\n",
       "    .dataframe thead th {\n",
       "        text-align: right;\n",
       "    }\n",
       "</style>\n",
       "<table border=\"1\" class=\"dataframe\">\n",
       "  <thead>\n",
       "    <tr style=\"text-align: right;\">\n",
       "      <th></th>\n",
       "      <th>date</th>\n",
       "      <th>aws_id</th>\n",
       "      <th>max_pa</th>\n",
       "    </tr>\n",
       "  </thead>\n",
       "  <tbody>\n",
       "    <tr>\n",
       "      <th>0</th>\n",
       "      <td>2018-01-01</td>\n",
       "      <td>105</td>\n",
       "      <td>1023.000000</td>\n",
       "    </tr>\n",
       "    <tr>\n",
       "      <th>1</th>\n",
       "      <td>2018-01-01</td>\n",
       "      <td>108</td>\n",
       "      <td>1018.100000</td>\n",
       "    </tr>\n",
       "    <tr>\n",
       "      <th>2</th>\n",
       "      <td>2018-01-01</td>\n",
       "      <td>112</td>\n",
       "      <td>1020.300000</td>\n",
       "    </tr>\n",
       "    <tr>\n",
       "      <th>3</th>\n",
       "      <td>2018-01-01</td>\n",
       "      <td>119</td>\n",
       "      <td>1025.100000</td>\n",
       "    </tr>\n",
       "    <tr>\n",
       "      <th>4</th>\n",
       "      <td>2018-01-01</td>\n",
       "      <td>131</td>\n",
       "      <td>1022.000000</td>\n",
       "    </tr>\n",
       "  </tbody>\n",
       "</table>\n",
       "</div>"
      ],
      "text/plain": [
       "        date  aws_id      max_pa\n",
       "0 2018-01-01     105 1023.000000\n",
       "1 2018-01-01     108 1018.100000\n",
       "2 2018-01-01     112 1020.300000\n",
       "3 2018-01-01     119 1025.100000\n",
       "4 2018-01-01     131 1022.000000"
      ]
     },
     "execution_count": 30,
     "metadata": {},
     "output_type": "execute_result"
    }
   ],
   "source": [
    "press2.head()"
   ]
  },
  {
   "cell_type": "markdown",
   "id": "comparative-assumption",
   "metadata": {},
   "source": [
    "### 결측치"
   ]
  },
  {
   "cell_type": "code",
   "execution_count": 31,
   "id": "reverse-offer",
   "metadata": {
    "scrolled": true
   },
   "outputs": [
    {
     "data": {
      "text/plain": [
       "date      0\n",
       "aws_id    0\n",
       "max_pa    4\n",
       "dtype: int64"
      ]
     },
     "execution_count": 31,
     "metadata": {},
     "output_type": "execute_result"
    }
   ],
   "source": [
    "press2.isnull().sum()"
   ]
  },
  {
   "cell_type": "code",
   "execution_count": 32,
   "id": "sapphire-secret",
   "metadata": {},
   "outputs": [
    {
     "data": {
      "text/html": [
       "<div>\n",
       "<style scoped>\n",
       "    .dataframe tbody tr th:only-of-type {\n",
       "        vertical-align: middle;\n",
       "    }\n",
       "\n",
       "    .dataframe tbody tr th {\n",
       "        vertical-align: top;\n",
       "    }\n",
       "\n",
       "    .dataframe thead th {\n",
       "        text-align: right;\n",
       "    }\n",
       "</style>\n",
       "<table border=\"1\" class=\"dataframe\">\n",
       "  <thead>\n",
       "    <tr style=\"text-align: right;\">\n",
       "      <th></th>\n",
       "      <th>date</th>\n",
       "      <th>aws_id</th>\n",
       "      <th>max_pa</th>\n",
       "    </tr>\n",
       "  </thead>\n",
       "  <tbody>\n",
       "    <tr>\n",
       "      <th>7511</th>\n",
       "      <td>2019-04-15</td>\n",
       "      <td>143</td>\n",
       "      <td>nan</td>\n",
       "    </tr>\n",
       "    <tr>\n",
       "      <th>11648</th>\n",
       "      <td>2019-12-30</td>\n",
       "      <td>105</td>\n",
       "      <td>nan</td>\n",
       "    </tr>\n",
       "    <tr>\n",
       "      <th>11664</th>\n",
       "      <td>2019-12-31</td>\n",
       "      <td>105</td>\n",
       "      <td>nan</td>\n",
       "    </tr>\n",
       "    <tr>\n",
       "      <th>11680</th>\n",
       "      <td>2020-01-01</td>\n",
       "      <td>105</td>\n",
       "      <td>nan</td>\n",
       "    </tr>\n",
       "  </tbody>\n",
       "</table>\n",
       "</div>"
      ],
      "text/plain": [
       "            date  aws_id  max_pa\n",
       "7511  2019-04-15     143     nan\n",
       "11648 2019-12-30     105     nan\n",
       "11664 2019-12-31     105     nan\n",
       "11680 2020-01-01     105     nan"
      ]
     },
     "execution_count": 32,
     "metadata": {},
     "output_type": "execute_result"
    }
   ],
   "source": [
    "press2[press2.max_pa.isna()] # 143 : 대구 / 105 : 강릉"
   ]
  },
  {
   "cell_type": "code",
   "execution_count": 33,
   "id": "failing-rugby",
   "metadata": {},
   "outputs": [],
   "source": [
    "press2 = missing_value(press2, 143, 2019, 4, 'max_pa')\n",
    "press2 = missing_value(press2, 105, 2019, 12, 'max_pa')\n",
    "press2 = missing_value(press2, 105, 2020, 1, 'max_pa')"
   ]
  },
  {
   "cell_type": "code",
   "execution_count": 34,
   "id": "knowing-bradford",
   "metadata": {},
   "outputs": [
    {
     "data": {
      "text/plain": [
       "date      0\n",
       "aws_id    0\n",
       "max_pa    0\n",
       "dtype: int64"
      ]
     },
     "execution_count": 34,
     "metadata": {},
     "output_type": "execute_result"
    }
   ],
   "source": [
    "press2.isnull().sum()"
   ]
  },
  {
   "cell_type": "markdown",
   "id": "framed-dragon",
   "metadata": {},
   "source": [
    "# 데이터 병합"
   ]
  },
  {
   "cell_type": "code",
   "execution_count": 35,
   "id": "concrete-destination",
   "metadata": {},
   "outputs": [
    {
     "data": {
      "text/plain": [
       "((17241, 5), (17536, 3), (17441, 3), (17536, 3))"
      ]
     },
     "execution_count": 35,
     "metadata": {},
     "output_type": "execute_result"
    }
   ],
   "source": [
    "dust.shape, humid2.shape, sun2.shape, press2.shape # total = 17536"
   ]
  },
  {
   "cell_type": "code",
   "execution_count": 57,
   "id": "documented-chicken",
   "metadata": {},
   "outputs": [
    {
     "data": {
      "text/html": [
       "<div>\n",
       "<style scoped>\n",
       "    .dataframe tbody tr th:only-of-type {\n",
       "        vertical-align: middle;\n",
       "    }\n",
       "\n",
       "    .dataframe tbody tr th {\n",
       "        vertical-align: top;\n",
       "    }\n",
       "\n",
       "    .dataframe thead th {\n",
       "        text-align: right;\n",
       "    }\n",
       "</style>\n",
       "<table border=\"1\" class=\"dataframe\">\n",
       "  <thead>\n",
       "    <tr style=\"text-align: right;\">\n",
       "      <th></th>\n",
       "      <th>date</th>\n",
       "      <th>region</th>\n",
       "      <th>aws_id</th>\n",
       "      <th>PM10</th>\n",
       "      <th>PM2.5</th>\n",
       "    </tr>\n",
       "  </thead>\n",
       "  <tbody>\n",
       "    <tr>\n",
       "      <th>0</th>\n",
       "      <td>2018-01-01</td>\n",
       "      <td>서울</td>\n",
       "      <td>108</td>\n",
       "      <td>42.307692</td>\n",
       "      <td>21.470696</td>\n",
       "    </tr>\n",
       "    <tr>\n",
       "      <th>1</th>\n",
       "      <td>2018-01-02</td>\n",
       "      <td>서울</td>\n",
       "      <td>108</td>\n",
       "      <td>40.470588</td>\n",
       "      <td>22.711397</td>\n",
       "    </tr>\n",
       "    <tr>\n",
       "      <th>2</th>\n",
       "      <td>2018-01-03</td>\n",
       "      <td>서울</td>\n",
       "      <td>108</td>\n",
       "      <td>35.242478</td>\n",
       "      <td>19.042478</td>\n",
       "    </tr>\n",
       "    <tr>\n",
       "      <th>3</th>\n",
       "      <td>2018-01-04</td>\n",
       "      <td>서울</td>\n",
       "      <td>108</td>\n",
       "      <td>46.385027</td>\n",
       "      <td>25.381462</td>\n",
       "    </tr>\n",
       "    <tr>\n",
       "      <th>4</th>\n",
       "      <td>2018-01-05</td>\n",
       "      <td>서울</td>\n",
       "      <td>108</td>\n",
       "      <td>57.841918</td>\n",
       "      <td>37.159858</td>\n",
       "    </tr>\n",
       "    <tr>\n",
       "      <th>...</th>\n",
       "      <td>...</td>\n",
       "      <td>...</td>\n",
       "      <td>...</td>\n",
       "      <td>...</td>\n",
       "      <td>...</td>\n",
       "    </tr>\n",
       "    <tr>\n",
       "      <th>17236</th>\n",
       "      <td>2020-12-27</td>\n",
       "      <td>창원</td>\n",
       "      <td>155</td>\n",
       "      <td>41.212766</td>\n",
       "      <td>28.989362</td>\n",
       "    </tr>\n",
       "    <tr>\n",
       "      <th>17237</th>\n",
       "      <td>2020-12-28</td>\n",
       "      <td>창원</td>\n",
       "      <td>155</td>\n",
       "      <td>28.828897</td>\n",
       "      <td>20.368821</td>\n",
       "    </tr>\n",
       "    <tr>\n",
       "      <th>17238</th>\n",
       "      <td>2020-12-29</td>\n",
       "      <td>창원</td>\n",
       "      <td>155</td>\n",
       "      <td>38.098901</td>\n",
       "      <td>28.183150</td>\n",
       "    </tr>\n",
       "    <tr>\n",
       "      <th>17239</th>\n",
       "      <td>2020-12-30</td>\n",
       "      <td>창원</td>\n",
       "      <td>155</td>\n",
       "      <td>13.068702</td>\n",
       "      <td>7.732824</td>\n",
       "    </tr>\n",
       "    <tr>\n",
       "      <th>17240</th>\n",
       "      <td>2020-12-31</td>\n",
       "      <td>창원</td>\n",
       "      <td>155</td>\n",
       "      <td>11.335766</td>\n",
       "      <td>6.386861</td>\n",
       "    </tr>\n",
       "  </tbody>\n",
       "</table>\n",
       "<p>17241 rows × 5 columns</p>\n",
       "</div>"
      ],
      "text/plain": [
       "            date region  aws_id      PM10     PM2.5\n",
       "0     2018-01-01     서울     108 42.307692 21.470696\n",
       "1     2018-01-02     서울     108 40.470588 22.711397\n",
       "2     2018-01-03     서울     108 35.242478 19.042478\n",
       "3     2018-01-04     서울     108 46.385027 25.381462\n",
       "4     2018-01-05     서울     108 57.841918 37.159858\n",
       "...          ...    ...     ...       ...       ...\n",
       "17236 2020-12-27     창원     155 41.212766 28.989362\n",
       "17237 2020-12-28     창원     155 28.828897 20.368821\n",
       "17238 2020-12-29     창원     155 38.098901 28.183150\n",
       "17239 2020-12-30     창원     155 13.068702  7.732824\n",
       "17240 2020-12-31     창원     155 11.335766  6.386861\n",
       "\n",
       "[17241 rows x 5 columns]"
      ]
     },
     "execution_count": 57,
     "metadata": {},
     "output_type": "execute_result"
    }
   ],
   "source": [
    "dust"
   ]
  },
  {
   "cell_type": "code",
   "execution_count": 72,
   "id": "willing-petersburg",
   "metadata": {},
   "outputs": [],
   "source": [
    "weather = reduce(lambda left, right : pd.merge(left, right, how='left', on=['date', 'aws_id']), [humid2, dust, sun2, press2])\n",
    "weather = weather[['date', 'region', 'aws_id', 'PM10', 'PM2.5', 'hm_max', 'sum_ss_hr', 'max_pa']]"
   ]
  },
  {
   "cell_type": "code",
   "execution_count": 73,
   "id": "combined-glasgow",
   "metadata": {},
   "outputs": [
    {
     "name": "stdout",
     "output_type": "stream",
     "text": [
      "(17536, 8)\n"
     ]
    },
    {
     "data": {
      "text/html": [
       "<div>\n",
       "<style scoped>\n",
       "    .dataframe tbody tr th:only-of-type {\n",
       "        vertical-align: middle;\n",
       "    }\n",
       "\n",
       "    .dataframe tbody tr th {\n",
       "        vertical-align: top;\n",
       "    }\n",
       "\n",
       "    .dataframe thead th {\n",
       "        text-align: right;\n",
       "    }\n",
       "</style>\n",
       "<table border=\"1\" class=\"dataframe\">\n",
       "  <thead>\n",
       "    <tr style=\"text-align: right;\">\n",
       "      <th></th>\n",
       "      <th>date</th>\n",
       "      <th>region</th>\n",
       "      <th>aws_id</th>\n",
       "      <th>PM10</th>\n",
       "      <th>PM2.5</th>\n",
       "      <th>hm_max</th>\n",
       "      <th>sum_ss_hr</th>\n",
       "      <th>max_pa</th>\n",
       "    </tr>\n",
       "  </thead>\n",
       "  <tbody>\n",
       "    <tr>\n",
       "      <th>0</th>\n",
       "      <td>2018-01-01</td>\n",
       "      <td>강릉</td>\n",
       "      <td>105</td>\n",
       "      <td>20.066667</td>\n",
       "      <td>13.400000</td>\n",
       "      <td>25.400000</td>\n",
       "      <td>57.900000</td>\n",
       "      <td>1023.000000</td>\n",
       "    </tr>\n",
       "    <tr>\n",
       "      <th>1</th>\n",
       "      <td>2018-01-01</td>\n",
       "      <td>서울</td>\n",
       "      <td>108</td>\n",
       "      <td>42.307692</td>\n",
       "      <td>21.470696</td>\n",
       "      <td>57.100000</td>\n",
       "      <td>51.600000</td>\n",
       "      <td>1018.100000</td>\n",
       "    </tr>\n",
       "    <tr>\n",
       "      <th>2</th>\n",
       "      <td>2018-01-01</td>\n",
       "      <td>인천</td>\n",
       "      <td>112</td>\n",
       "      <td>37.518681</td>\n",
       "      <td>18.641758</td>\n",
       "      <td>67.200000</td>\n",
       "      <td>53.800000</td>\n",
       "      <td>1020.300000</td>\n",
       "    </tr>\n",
       "    <tr>\n",
       "      <th>3</th>\n",
       "      <td>2018-01-01</td>\n",
       "      <td>NaN</td>\n",
       "      <td>119</td>\n",
       "      <td>nan</td>\n",
       "      <td>nan</td>\n",
       "      <td>84.700000</td>\n",
       "      <td>52.700000</td>\n",
       "      <td>1025.100000</td>\n",
       "    </tr>\n",
       "    <tr>\n",
       "      <th>4</th>\n",
       "      <td>2018-01-01</td>\n",
       "      <td>청주</td>\n",
       "      <td>131</td>\n",
       "      <td>51.349650</td>\n",
       "      <td>32.706294</td>\n",
       "      <td>71.400000</td>\n",
       "      <td>54.600000</td>\n",
       "      <td>1022.000000</td>\n",
       "    </tr>\n",
       "  </tbody>\n",
       "</table>\n",
       "</div>"
      ],
      "text/plain": [
       "        date region  aws_id      PM10     PM2.5    hm_max  sum_ss_hr  \\\n",
       "0 2018-01-01     강릉     105 20.066667 13.400000 25.400000  57.900000   \n",
       "1 2018-01-01     서울     108 42.307692 21.470696 57.100000  51.600000   \n",
       "2 2018-01-01     인천     112 37.518681 18.641758 67.200000  53.800000   \n",
       "3 2018-01-01    NaN     119       nan       nan 84.700000  52.700000   \n",
       "4 2018-01-01     청주     131 51.349650 32.706294 71.400000  54.600000   \n",
       "\n",
       "       max_pa  \n",
       "0 1023.000000  \n",
       "1 1018.100000  \n",
       "2 1020.300000  \n",
       "3 1025.100000  \n",
       "4 1022.000000  "
      ]
     },
     "execution_count": 73,
     "metadata": {},
     "output_type": "execute_result"
    }
   ],
   "source": [
    "print(weather.shape)\n",
    "weather.head()"
   ]
  }
 ],
 "metadata": {
  "kernelspec": {
   "display_name": "tensorflow2_py36",
   "language": "python",
   "name": "tensorflow2_py36"
  },
  "language_info": {
   "codemirror_mode": {
    "name": "ipython",
    "version": 3
   },
   "file_extension": ".py",
   "mimetype": "text/x-python",
   "name": "python",
   "nbconvert_exporter": "python",
   "pygments_lexer": "ipython3",
   "version": "3.6.12"
  }
 },
 "nbformat": 4,
 "nbformat_minor": 5
}
