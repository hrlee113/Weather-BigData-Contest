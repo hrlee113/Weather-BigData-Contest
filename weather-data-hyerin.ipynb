{
 "cells": [
  {
   "cell_type": "markdown",
   "id": "alpine-cincinnati",
   "metadata": {},
   "source": [
    "# 날씨 데이터"
   ]
  },
  {
   "cell_type": "markdown",
   "id": "minus-milton",
   "metadata": {},
   "source": [
    "## 0. 데이터 로드"
   ]
  },
  {
   "cell_type": "code",
   "execution_count": 1,
   "id": "industrial-warner",
   "metadata": {},
   "outputs": [],
   "source": [
    "import numpy as np\n",
    "import pandas as pd\n",
    "import datetime as datetime\n",
    "import dataload\n",
    "from tqdm.notebook import tqdm\n",
    "%matplotlib inline\n",
    "tqdm.pandas()"
   ]
  },
  {
   "cell_type": "code",
   "execution_count": 34,
   "id": "faced-disease",
   "metadata": {},
   "outputs": [],
   "source": [
    "hm_full, icsr_full, prsr_full = dataload.load_weather() # 습도, 일조시간, 기압"
   ]
  },
  {
   "cell_type": "code",
   "execution_count": 35,
   "id": "productive-greek",
   "metadata": {},
   "outputs": [],
   "source": [
    "hm_full['date'] = hm_full['tm'].apply(lambda x : pd.to_datetime(x[:10]))\n",
    "icsr_full['date'] = icsr_full['tma'].apply(lambda x : pd.to_datetime(x[:10]))\n",
    "prsr_full['date'] = prsr_full['tma'].apply(lambda x : pd.to_datetime(x[:10]))\n",
    "\n",
    "hm_full = hm_full.groupby(['date', 'aws_id']).max().reset_index()[['date', 'aws_id', 'hm_max']]\n",
    "icsr_full = icsr_full.groupby(['date', 'stn_id']).max().reset_index()[['date', 'stn_id', 'sum_ss_hr']]\n",
    "prsr_full = prsr_full.groupby(['date', 'stn_id']).max().reset_index()[['date', 'stn_id', 'max_pa']]\n",
    "\n",
    "icsr_full.columns = ['date', 'aws_id', 'sum_ss_hr_max']\n",
    "prsr_full.columns = ['date', 'aws_id', 'pa_max']"
   ]
  },
  {
   "cell_type": "code",
   "execution_count": 36,
   "id": "recovered-chemistry",
   "metadata": {},
   "outputs": [
    {
     "data": {
      "text/plain": [
       "((11680, 3), (11674, 3), (11680, 3))"
      ]
     },
     "execution_count": 36,
     "metadata": {},
     "output_type": "execute_result"
    }
   ],
   "source": [
    "hm_full.shape, icsr_full.shape, prsr_full.shape"
   ]
  },
  {
   "cell_type": "code",
   "execution_count": 37,
   "id": "tracked-suggestion",
   "metadata": {},
   "outputs": [
    {
     "data": {
      "text/html": [
       "<div>\n",
       "<style scoped>\n",
       "    .dataframe tbody tr th:only-of-type {\n",
       "        vertical-align: middle;\n",
       "    }\n",
       "\n",
       "    .dataframe tbody tr th {\n",
       "        vertical-align: top;\n",
       "    }\n",
       "\n",
       "    .dataframe thead th {\n",
       "        text-align: right;\n",
       "    }\n",
       "</style>\n",
       "<table border=\"1\" class=\"dataframe\">\n",
       "  <thead>\n",
       "    <tr style=\"text-align: right;\">\n",
       "      <th></th>\n",
       "      <th>date</th>\n",
       "      <th>aws_id</th>\n",
       "      <th>hm_max</th>\n",
       "      <th>sum_ss_hr_max</th>\n",
       "      <th>pa_max</th>\n",
       "    </tr>\n",
       "  </thead>\n",
       "  <tbody>\n",
       "    <tr>\n",
       "      <th>0</th>\n",
       "      <td>2018-01-01</td>\n",
       "      <td>101</td>\n",
       "      <td>91.6</td>\n",
       "      <td>50.6</td>\n",
       "      <td>1019.4</td>\n",
       "    </tr>\n",
       "    <tr>\n",
       "      <th>1</th>\n",
       "      <td>2018-01-01</td>\n",
       "      <td>105</td>\n",
       "      <td>25.4</td>\n",
       "      <td>57.9</td>\n",
       "      <td>1023.0</td>\n",
       "    </tr>\n",
       "    <tr>\n",
       "      <th>2</th>\n",
       "      <td>2018-01-01</td>\n",
       "      <td>108</td>\n",
       "      <td>57.1</td>\n",
       "      <td>51.6</td>\n",
       "      <td>1018.1</td>\n",
       "    </tr>\n",
       "    <tr>\n",
       "      <th>3</th>\n",
       "      <td>2018-01-01</td>\n",
       "      <td>112</td>\n",
       "      <td>67.2</td>\n",
       "      <td>53.8</td>\n",
       "      <td>1020.3</td>\n",
       "    </tr>\n",
       "    <tr>\n",
       "      <th>4</th>\n",
       "      <td>2018-01-01</td>\n",
       "      <td>131</td>\n",
       "      <td>71.4</td>\n",
       "      <td>54.6</td>\n",
       "      <td>1022.0</td>\n",
       "    </tr>\n",
       "  </tbody>\n",
       "</table>\n",
       "</div>"
      ],
      "text/plain": [
       "        date  aws_id  hm_max  sum_ss_hr_max  pa_max\n",
       "0 2018-01-01     101    91.6           50.6  1019.4\n",
       "1 2018-01-01     105    25.4           57.9  1023.0\n",
       "2 2018-01-01     108    57.1           51.6  1018.1\n",
       "3 2018-01-01     112    67.2           53.8  1020.3\n",
       "4 2018-01-01     131    71.4           54.6  1022.0"
      ]
     },
     "execution_count": 37,
     "metadata": {},
     "output_type": "execute_result"
    }
   ],
   "source": [
    "weather_full = hm_full.merge(icsr_full, on=['date', 'aws_id'], how='outer').merge(prsr_full, on=['date', 'aws_id'], how='outer')\n",
    "weather_full.head()"
   ]
  }
 ],
 "metadata": {
  "kernelspec": {
   "display_name": "tensorflow2_py36",
   "language": "python",
   "name": "tensorflow2_py36"
  },
  "language_info": {
   "codemirror_mode": {
    "name": "ipython",
    "version": 3
   },
   "file_extension": ".py",
   "mimetype": "text/x-python",
   "name": "python",
   "nbconvert_exporter": "python",
   "pygments_lexer": "ipython3",
   "version": "3.6.12"
  }
 },
 "nbformat": 4,
 "nbformat_minor": 5
}
