{
 "cells": [
  {
   "cell_type": "markdown",
   "metadata": {
    "id": "EexABax1rDp0"
   },
   "source": [
    "# #1. Data Preprocessing"
   ]
  },
  {
   "cell_type": "markdown",
   "metadata": {
    "id": "Q40voXdNrIuX"
   },
   "source": [
    "* 날씨 지수 생성을 위한 파일입니다."
   ]
  },
  {
   "cell_type": "markdown",
   "metadata": {
    "id": "2wgj3dh6-Y27"
   },
   "source": [
    "# 1. 소비자심리지수"
   ]
  },
  {
   "cell_type": "markdown",
   "metadata": {
    "id": "xggM6omh-cog"
   },
   "source": [
    "## 0. 데이터 불러오기"
   ]
  },
  {
   "cell_type": "code",
   "execution_count": null,
   "metadata": {
    "colab": {
     "base_uri": "https://localhost:8080/"
    },
    "id": "s--Ckmew6fO5",
    "outputId": "12b5d7d4-f780-41d3-8510-3521393d65b5"
   },
   "outputs": [
    {
     "name": "stderr",
     "output_type": "stream",
     "text": [
      "/usr/local/lib/python3.7/dist-packages/tqdm/std.py:658: FutureWarning: The Panel class is removed from pandas. Accessing it from the top-level namespace will also be removed in the next version\n",
      "  from pandas import Panel\n"
     ]
    }
   ],
   "source": [
    "import numpy as np\n",
    "import pandas as pd\n",
    "import datetime\n",
    "from tqdm.notebook import tqdm\n",
    "tqdm.pandas()\n",
    "\n",
    "import matplotlib.pyplot as plt\n",
    "from matplotlib import rc\n",
    "import seaborn as sns\n",
    "%matplotlib inline\n",
    "\n",
    "rc('font', family='MalgunGothic')\n",
    "plt.rcParams['axes.unicode_minus'] = False"
   ]
  },
  {
   "cell_type": "code",
   "execution_count": null,
   "metadata": {
    "colab": {
     "base_uri": "https://localhost:8080/"
    },
    "id": "lwCyGpTS6y0A",
    "outputId": "679768ee-6e24-44e1-e226-d853f734e861"
   },
   "outputs": [
    {
     "name": "stdout",
     "output_type": "stream",
     "text": [
      "Mounted at /content/drive\n"
     ]
    }
   ],
   "source": [
    "from google.colab import drive\n",
    "drive.mount('/content/drive')"
   ]
  },
  {
   "cell_type": "code",
   "execution_count": null,
   "metadata": {
    "id": "_jXeOl_s68xT"
   },
   "outputs": [],
   "source": [
    "import os\n",
    "os.chdir('/content/drive/MyDrive/기상청/데이터')"
   ]
  },
  {
   "cell_type": "code",
   "execution_count": null,
   "metadata": {
    "id": "brHJo1j-61DR"
   },
   "outputs": [],
   "source": [
    "df_seoul = pd.read_csv('./소비자심리지수/소비자심리지수_seoul_past.csv', encoding='CP949')\n",
    "df_others = pd.read_csv('./소비자심리지수/소비자심리지수_other_past.csv', encoding='CP949')"
   ]
  },
  {
   "cell_type": "code",
   "execution_count": null,
   "metadata": {
    "colab": {
     "base_uri": "https://localhost:8080/",
     "height": 403
    },
    "id": "dw2alT_P7TBB",
    "outputId": "9ca5393c-5d9b-4be7-a583-5a14783b0a5a"
   },
   "outputs": [
    {
     "data": {
      "text/html": [
       "<div>\n",
       "<style scoped>\n",
       "    .dataframe tbody tr th:only-of-type {\n",
       "        vertical-align: middle;\n",
       "    }\n",
       "\n",
       "    .dataframe tbody tr th {\n",
       "        vertical-align: top;\n",
       "    }\n",
       "\n",
       "    .dataframe thead th {\n",
       "        text-align: right;\n",
       "    }\n",
       "</style>\n",
       "<table border=\"1\" class=\"dataframe\">\n",
       "  <thead>\n",
       "    <tr style=\"text-align: right;\">\n",
       "      <th></th>\n",
       "      <th>지수코드별</th>\n",
       "      <th>분류코드별</th>\n",
       "      <th>항목</th>\n",
       "      <th>단위</th>\n",
       "      <th>2018. 01 월</th>\n",
       "      <th>2018. 02 월</th>\n",
       "      <th>2018. 03 월</th>\n",
       "      <th>2018. 04 월</th>\n",
       "      <th>2018. 05 월</th>\n",
       "      <th>2018. 06 월</th>\n",
       "      <th>2018. 07 월</th>\n",
       "      <th>2018. 08 월</th>\n",
       "      <th>2018. 09 월</th>\n",
       "      <th>2018. 10 월</th>\n",
       "      <th>2018. 11 월</th>\n",
       "      <th>2018. 12 월</th>\n",
       "      <th>2019. 01 월</th>\n",
       "      <th>2019. 02 월</th>\n",
       "      <th>2019. 03 월</th>\n",
       "      <th>2019. 04 월</th>\n",
       "      <th>2019. 05 월</th>\n",
       "      <th>2019. 06 월</th>\n",
       "      <th>2019. 07 월</th>\n",
       "      <th>2019. 08 월</th>\n",
       "      <th>2019. 09 월</th>\n",
       "      <th>2019. 10 월</th>\n",
       "      <th>2019. 11 월</th>\n",
       "      <th>2019. 12 월</th>\n",
       "      <th>Unnamed: 28</th>\n",
       "    </tr>\n",
       "  </thead>\n",
       "  <tbody>\n",
       "    <tr>\n",
       "      <th>0</th>\n",
       "      <td>현재생활형편CSI</td>\n",
       "      <td>전체</td>\n",
       "      <td>소비자동향</td>\n",
       "      <td>NaN</td>\n",
       "      <td>94.0</td>\n",
       "      <td>94</td>\n",
       "      <td>95.0</td>\n",
       "      <td>95.0</td>\n",
       "      <td>95.0</td>\n",
       "      <td>94.0</td>\n",
       "      <td>91.0</td>\n",
       "      <td>89.0</td>\n",
       "      <td>90.0</td>\n",
       "      <td>91.0</td>\n",
       "      <td>90.0</td>\n",
       "      <td>89.0</td>\n",
       "      <td>90.0</td>\n",
       "      <td>93.0</td>\n",
       "      <td>91.0</td>\n",
       "      <td>93.0</td>\n",
       "      <td>91.0</td>\n",
       "      <td>91.0</td>\n",
       "      <td>91.0</td>\n",
       "      <td>90.0</td>\n",
       "      <td>92.0</td>\n",
       "      <td>92.0</td>\n",
       "      <td>92.0</td>\n",
       "      <td>92.0</td>\n",
       "      <td>NaN</td>\n",
       "    </tr>\n",
       "    <tr>\n",
       "      <th>1</th>\n",
       "      <td>현재생활형편CSI</td>\n",
       "      <td>남자</td>\n",
       "      <td>소비자동향</td>\n",
       "      <td>NaN</td>\n",
       "      <td>94.0</td>\n",
       "      <td>94</td>\n",
       "      <td>95.0</td>\n",
       "      <td>94.0</td>\n",
       "      <td>95.0</td>\n",
       "      <td>94.0</td>\n",
       "      <td>92.0</td>\n",
       "      <td>89.0</td>\n",
       "      <td>90.0</td>\n",
       "      <td>91.0</td>\n",
       "      <td>90.0</td>\n",
       "      <td>90.0</td>\n",
       "      <td>90.0</td>\n",
       "      <td>93.0</td>\n",
       "      <td>91.0</td>\n",
       "      <td>92.0</td>\n",
       "      <td>91.0</td>\n",
       "      <td>91.0</td>\n",
       "      <td>90.0</td>\n",
       "      <td>89.0</td>\n",
       "      <td>92.0</td>\n",
       "      <td>91.0</td>\n",
       "      <td>92.0</td>\n",
       "      <td>91.0</td>\n",
       "      <td>NaN</td>\n",
       "    </tr>\n",
       "  </tbody>\n",
       "</table>\n",
       "</div>"
      ],
      "text/plain": [
       "       지수코드별 분류코드별     항목  단위  ...  2019. 10 월  2019. 11 월  2019. 12 월  Unnamed: 28\n",
       "0  현재생활형편CSI    전체  소비자동향 NaN  ...        92.0        92.0        92.0          NaN\n",
       "1  현재생활형편CSI    남자  소비자동향 NaN  ...        91.0        92.0        91.0          NaN\n",
       "\n",
       "[2 rows x 29 columns]"
      ]
     },
     "execution_count": 16,
     "metadata": {
      "tags": []
     },
     "output_type": "execute_result"
    }
   ],
   "source": [
    "df_seoul.head(2)"
   ]
  },
  {
   "cell_type": "code",
   "execution_count": null,
   "metadata": {
    "colab": {
     "base_uri": "https://localhost:8080/",
     "height": 182
    },
    "id": "m4OCLaJ--tWd",
    "outputId": "065abc35-f26f-42a5-9ada-05ef3d4295ea"
   },
   "outputs": [
    {
     "data": {
      "text/html": [
       "<div>\n",
       "<style scoped>\n",
       "    .dataframe tbody tr th:only-of-type {\n",
       "        vertical-align: middle;\n",
       "    }\n",
       "\n",
       "    .dataframe tbody tr th {\n",
       "        vertical-align: top;\n",
       "    }\n",
       "\n",
       "    .dataframe thead th {\n",
       "        text-align: right;\n",
       "    }\n",
       "</style>\n",
       "<table border=\"1\" class=\"dataframe\">\n",
       "  <thead>\n",
       "    <tr style=\"text-align: right;\">\n",
       "      <th></th>\n",
       "      <th>CSI_CODE별</th>\n",
       "      <th>BRANCH_CODE별</th>\n",
       "      <th>2018. 01</th>\n",
       "      <th>2018. 02</th>\n",
       "      <th>2018. 03</th>\n",
       "      <th>2018. 04</th>\n",
       "      <th>2018. 05</th>\n",
       "      <th>2018. 06</th>\n",
       "      <th>2018. 07</th>\n",
       "      <th>2018. 08</th>\n",
       "      <th>2018. 09</th>\n",
       "      <th>2018. 10</th>\n",
       "      <th>2018. 11</th>\n",
       "      <th>2018. 12</th>\n",
       "      <th>2019. 01</th>\n",
       "      <th>2019. 02</th>\n",
       "      <th>2019. 03</th>\n",
       "      <th>2019. 04</th>\n",
       "      <th>2019. 05</th>\n",
       "      <th>2019. 06</th>\n",
       "      <th>2019. 07</th>\n",
       "      <th>2019. 08</th>\n",
       "      <th>2019. 09</th>\n",
       "      <th>2019. 10</th>\n",
       "      <th>2019. 11</th>\n",
       "      <th>2019. 12</th>\n",
       "    </tr>\n",
       "  </thead>\n",
       "  <tbody>\n",
       "    <tr>\n",
       "      <th>0</th>\n",
       "      <td>현재생활형편CSI</td>\n",
       "      <td>부산</td>\n",
       "      <td>90.0</td>\n",
       "      <td>84.0</td>\n",
       "      <td>88.0</td>\n",
       "      <td>89.0</td>\n",
       "      <td>91.0</td>\n",
       "      <td>87.0</td>\n",
       "      <td>86.0</td>\n",
       "      <td>87.0</td>\n",
       "      <td>85.0</td>\n",
       "      <td>84.0</td>\n",
       "      <td>82.0</td>\n",
       "      <td>82.0</td>\n",
       "      <td>82.0</td>\n",
       "      <td>87.0</td>\n",
       "      <td>84.0</td>\n",
       "      <td>87.0</td>\n",
       "      <td>87.0</td>\n",
       "      <td>85.0</td>\n",
       "      <td>85.0</td>\n",
       "      <td>86.0</td>\n",
       "      <td>85.0</td>\n",
       "      <td>89.0</td>\n",
       "      <td>86.0</td>\n",
       "      <td>85.0</td>\n",
       "    </tr>\n",
       "    <tr>\n",
       "      <th>1</th>\n",
       "      <td>현재생활형편CSI</td>\n",
       "      <td>대구경북</td>\n",
       "      <td>89.0</td>\n",
       "      <td>91.0</td>\n",
       "      <td>91.0</td>\n",
       "      <td>92.0</td>\n",
       "      <td>92.0</td>\n",
       "      <td>89.0</td>\n",
       "      <td>87.0</td>\n",
       "      <td>87.0</td>\n",
       "      <td>90.0</td>\n",
       "      <td>88.0</td>\n",
       "      <td>87.0</td>\n",
       "      <td>87.0</td>\n",
       "      <td>86.0</td>\n",
       "      <td>88.0</td>\n",
       "      <td>87.0</td>\n",
       "      <td>89.0</td>\n",
       "      <td>89.0</td>\n",
       "      <td>88.0</td>\n",
       "      <td>88.0</td>\n",
       "      <td>83.0</td>\n",
       "      <td>85.0</td>\n",
       "      <td>85.0</td>\n",
       "      <td>87.0</td>\n",
       "      <td>87.0</td>\n",
       "    </tr>\n",
       "  </tbody>\n",
       "</table>\n",
       "</div>"
      ],
      "text/plain": [
       "   CSI_CODE별 BRANCH_CODE별  2018. 01  ...  2019. 10  2019. 11  2019. 12\n",
       "0  현재생활형편CSI           부산      90.0  ...      89.0      86.0      85.0\n",
       "1  현재생활형편CSI         대구경북      89.0  ...      85.0      87.0      87.0\n",
       "\n",
       "[2 rows x 26 columns]"
      ]
     },
     "execution_count": 17,
     "metadata": {
      "tags": []
     },
     "output_type": "execute_result"
    }
   ],
   "source": [
    "df_others.head(2)"
   ]
  },
  {
   "cell_type": "markdown",
   "metadata": {
    "id": "9ifqKf0B-lb7"
   },
   "source": [
    "## 1. 서울 소비자 심리지수 계산"
   ]
  },
  {
   "cell_type": "code",
   "execution_count": null,
   "metadata": {
    "id": "3qreDhqh7eEM"
   },
   "outputs": [],
   "source": [
    "df_seoul1 = df_seoul[df_seoul['분류코드별']=='서울'].reset_index(drop=True)"
   ]
  },
  {
   "cell_type": "code",
   "execution_count": null,
   "metadata": {
    "colab": {
     "base_uri": "https://localhost:8080/"
    },
    "id": "kRn82-7y2oAE",
    "outputId": "fa1b48b9-902f-4522-9e17-38a54a1a558f"
   },
   "outputs": [
    {
     "name": "stdout",
     "output_type": "stream",
     "text": [
      "(24, 29)\n"
     ]
    }
   ],
   "source": [
    "print(df_seoul1.shape)"
   ]
  },
  {
   "cell_type": "code",
   "execution_count": null,
   "metadata": {
    "colab": {
     "base_uri": "https://localhost:8080/",
     "height": 403
    },
    "id": "lr26Zysy23KV",
    "outputId": "183237a3-dbd2-4f81-f1bb-24121604eaef"
   },
   "outputs": [
    {
     "data": {
      "text/html": [
       "<div>\n",
       "<style scoped>\n",
       "    .dataframe tbody tr th:only-of-type {\n",
       "        vertical-align: middle;\n",
       "    }\n",
       "\n",
       "    .dataframe tbody tr th {\n",
       "        vertical-align: top;\n",
       "    }\n",
       "\n",
       "    .dataframe thead th {\n",
       "        text-align: right;\n",
       "    }\n",
       "</style>\n",
       "<table border=\"1\" class=\"dataframe\">\n",
       "  <thead>\n",
       "    <tr style=\"text-align: right;\">\n",
       "      <th></th>\n",
       "      <th>지수코드별</th>\n",
       "      <th>분류코드별</th>\n",
       "      <th>항목</th>\n",
       "      <th>단위</th>\n",
       "      <th>2018. 01 월</th>\n",
       "      <th>2018. 02 월</th>\n",
       "      <th>2018. 03 월</th>\n",
       "      <th>2018. 04 월</th>\n",
       "      <th>2018. 05 월</th>\n",
       "      <th>2018. 06 월</th>\n",
       "      <th>2018. 07 월</th>\n",
       "      <th>2018. 08 월</th>\n",
       "      <th>2018. 09 월</th>\n",
       "      <th>2018. 10 월</th>\n",
       "      <th>2018. 11 월</th>\n",
       "      <th>2018. 12 월</th>\n",
       "      <th>2019. 01 월</th>\n",
       "      <th>2019. 02 월</th>\n",
       "      <th>2019. 03 월</th>\n",
       "      <th>2019. 04 월</th>\n",
       "      <th>2019. 05 월</th>\n",
       "      <th>2019. 06 월</th>\n",
       "      <th>2019. 07 월</th>\n",
       "      <th>2019. 08 월</th>\n",
       "      <th>2019. 09 월</th>\n",
       "      <th>2019. 10 월</th>\n",
       "      <th>2019. 11 월</th>\n",
       "      <th>2019. 12 월</th>\n",
       "      <th>Unnamed: 28</th>\n",
       "    </tr>\n",
       "  </thead>\n",
       "  <tbody>\n",
       "    <tr>\n",
       "      <th>0</th>\n",
       "      <td>현재생활형편CSI</td>\n",
       "      <td>서울</td>\n",
       "      <td>소비자동향</td>\n",
       "      <td>NaN</td>\n",
       "      <td>93.0</td>\n",
       "      <td>95</td>\n",
       "      <td>94.0</td>\n",
       "      <td>91.0</td>\n",
       "      <td>92.0</td>\n",
       "      <td>93.0</td>\n",
       "      <td>89.0</td>\n",
       "      <td>85.0</td>\n",
       "      <td>93.0</td>\n",
       "      <td>94.0</td>\n",
       "      <td>92.0</td>\n",
       "      <td>91.0</td>\n",
       "      <td>91.0</td>\n",
       "      <td>96.0</td>\n",
       "      <td>95.0</td>\n",
       "      <td>96.0</td>\n",
       "      <td>95.0</td>\n",
       "      <td>95.0</td>\n",
       "      <td>91.0</td>\n",
       "      <td>92.0</td>\n",
       "      <td>94.0</td>\n",
       "      <td>92.0</td>\n",
       "      <td>93.0</td>\n",
       "      <td>93.0</td>\n",
       "      <td>NaN</td>\n",
       "    </tr>\n",
       "    <tr>\n",
       "      <th>1</th>\n",
       "      <td>현재경기판단CSI</td>\n",
       "      <td>서울</td>\n",
       "      <td>소비자동향</td>\n",
       "      <td>NaN</td>\n",
       "      <td>87.0</td>\n",
       "      <td>86</td>\n",
       "      <td>86.0</td>\n",
       "      <td>84.0</td>\n",
       "      <td>84.0</td>\n",
       "      <td>81.0</td>\n",
       "      <td>78.0</td>\n",
       "      <td>68.0</td>\n",
       "      <td>64.0</td>\n",
       "      <td>66.0</td>\n",
       "      <td>62.0</td>\n",
       "      <td>62.0</td>\n",
       "      <td>66.0</td>\n",
       "      <td>72.0</td>\n",
       "      <td>71.0</td>\n",
       "      <td>75.0</td>\n",
       "      <td>70.0</td>\n",
       "      <td>70.0</td>\n",
       "      <td>68.0</td>\n",
       "      <td>64.0</td>\n",
       "      <td>68.0</td>\n",
       "      <td>72.0</td>\n",
       "      <td>74.0</td>\n",
       "      <td>72.0</td>\n",
       "      <td>NaN</td>\n",
       "    </tr>\n",
       "  </tbody>\n",
       "</table>\n",
       "</div>"
      ],
      "text/plain": [
       "       지수코드별 분류코드별     항목  단위  ...  2019. 10 월  2019. 11 월  2019. 12 월  Unnamed: 28\n",
       "0  현재생활형편CSI    서울  소비자동향 NaN  ...        92.0        93.0        93.0          NaN\n",
       "1  현재경기판단CSI    서울  소비자동향 NaN  ...        72.0        74.0        72.0          NaN\n",
       "\n",
       "[2 rows x 29 columns]"
      ]
     },
     "execution_count": 20,
     "metadata": {
      "tags": []
     },
     "output_type": "execute_result"
    }
   ],
   "source": [
    "df_seoul1.head(2)"
   ]
  },
  {
   "cell_type": "code",
   "execution_count": null,
   "metadata": {
    "colab": {
     "base_uri": "https://localhost:8080/"
    },
    "id": "4HYPKNp78b-D",
    "outputId": "355a83e3-c088-4333-b774-2a3da8b7eb2f"
   },
   "outputs": [
    {
     "data": {
      "text/plain": [
       "array(['현재생활형편CSI', '현재경기판단CSI', '생활형편전망CSI', '향후경기전망CSI', '취업기회전망CSI',\n",
       "       '금리수준전망CSI', '가계수입전망CSI', '소비지출전망CSI', '내구재 지출전망CSI',\n",
       "       '의류비 지출전망CSI', '외식비 지출전망CSI', '여행비 지출전망CSI', '교육비 지출전망CSI',\n",
       "       '의료·보건비 지출전망CSI', '교양·오락·문화생활비 지출전망CSI', '교통비 및 통신비 지출전망CSI',\n",
       "       '주거비 지출전망CSI', '현재가계저축CSI', '가계저축전망CSI', '현재가계부채CSI', '가계부채전망CSI',\n",
       "       '물가수준전망(1년후)CSI', '주택가격전망CSI', '임금수준전망CSI'], dtype=object)"
      ]
     },
     "execution_count": 21,
     "metadata": {
      "tags": []
     },
     "output_type": "execute_result"
    }
   ],
   "source": [
    "df_seoul1['지수코드별'].unique()"
   ]
  },
  {
   "cell_type": "code",
   "execution_count": null,
   "metadata": {
    "id": "AWKGF4Xj7nxI"
   },
   "outputs": [],
   "source": [
    "df_csi = df_seoul1[df_seoul1['지수코드별'].apply(lambda x: x in [\"현재생활형편CSI\",\"생활형편전망CSI\",\"현재경기판단CSI\",\"향후경기전망CSI\",\"소비지출전망CSI\",\"가계수입전망CSI\"])].reset_index(drop=True)"
   ]
  },
  {
   "cell_type": "code",
   "execution_count": null,
   "metadata": {
    "colab": {
     "base_uri": "https://localhost:8080/",
     "height": 403
    },
    "id": "aD5aGVuU8AZN",
    "outputId": "18ed3ad7-2044-40d4-9cdf-1cc626b39480"
   },
   "outputs": [
    {
     "data": {
      "text/html": [
       "<div>\n",
       "<style scoped>\n",
       "    .dataframe tbody tr th:only-of-type {\n",
       "        vertical-align: middle;\n",
       "    }\n",
       "\n",
       "    .dataframe tbody tr th {\n",
       "        vertical-align: top;\n",
       "    }\n",
       "\n",
       "    .dataframe thead th {\n",
       "        text-align: right;\n",
       "    }\n",
       "</style>\n",
       "<table border=\"1\" class=\"dataframe\">\n",
       "  <thead>\n",
       "    <tr style=\"text-align: right;\">\n",
       "      <th></th>\n",
       "      <th>지수코드별</th>\n",
       "      <th>분류코드별</th>\n",
       "      <th>항목</th>\n",
       "      <th>단위</th>\n",
       "      <th>2018. 01 월</th>\n",
       "      <th>2018. 02 월</th>\n",
       "      <th>2018. 03 월</th>\n",
       "      <th>2018. 04 월</th>\n",
       "      <th>2018. 05 월</th>\n",
       "      <th>2018. 06 월</th>\n",
       "      <th>2018. 07 월</th>\n",
       "      <th>2018. 08 월</th>\n",
       "      <th>2018. 09 월</th>\n",
       "      <th>2018. 10 월</th>\n",
       "      <th>2018. 11 월</th>\n",
       "      <th>2018. 12 월</th>\n",
       "      <th>2019. 01 월</th>\n",
       "      <th>2019. 02 월</th>\n",
       "      <th>2019. 03 월</th>\n",
       "      <th>2019. 04 월</th>\n",
       "      <th>2019. 05 월</th>\n",
       "      <th>2019. 06 월</th>\n",
       "      <th>2019. 07 월</th>\n",
       "      <th>2019. 08 월</th>\n",
       "      <th>2019. 09 월</th>\n",
       "      <th>2019. 10 월</th>\n",
       "      <th>2019. 11 월</th>\n",
       "      <th>2019. 12 월</th>\n",
       "      <th>Unnamed: 28</th>\n",
       "    </tr>\n",
       "  </thead>\n",
       "  <tbody>\n",
       "    <tr>\n",
       "      <th>0</th>\n",
       "      <td>현재생활형편CSI</td>\n",
       "      <td>서울</td>\n",
       "      <td>소비자동향</td>\n",
       "      <td>NaN</td>\n",
       "      <td>93.0</td>\n",
       "      <td>95</td>\n",
       "      <td>94.0</td>\n",
       "      <td>91.0</td>\n",
       "      <td>92.0</td>\n",
       "      <td>93.0</td>\n",
       "      <td>89.0</td>\n",
       "      <td>85.0</td>\n",
       "      <td>93.0</td>\n",
       "      <td>94.0</td>\n",
       "      <td>92.0</td>\n",
       "      <td>91.0</td>\n",
       "      <td>91.0</td>\n",
       "      <td>96.0</td>\n",
       "      <td>95.0</td>\n",
       "      <td>96.0</td>\n",
       "      <td>95.0</td>\n",
       "      <td>95.0</td>\n",
       "      <td>91.0</td>\n",
       "      <td>92.0</td>\n",
       "      <td>94.0</td>\n",
       "      <td>92.0</td>\n",
       "      <td>93.0</td>\n",
       "      <td>93.0</td>\n",
       "      <td>NaN</td>\n",
       "    </tr>\n",
       "    <tr>\n",
       "      <th>1</th>\n",
       "      <td>현재경기판단CSI</td>\n",
       "      <td>서울</td>\n",
       "      <td>소비자동향</td>\n",
       "      <td>NaN</td>\n",
       "      <td>87.0</td>\n",
       "      <td>86</td>\n",
       "      <td>86.0</td>\n",
       "      <td>84.0</td>\n",
       "      <td>84.0</td>\n",
       "      <td>81.0</td>\n",
       "      <td>78.0</td>\n",
       "      <td>68.0</td>\n",
       "      <td>64.0</td>\n",
       "      <td>66.0</td>\n",
       "      <td>62.0</td>\n",
       "      <td>62.0</td>\n",
       "      <td>66.0</td>\n",
       "      <td>72.0</td>\n",
       "      <td>71.0</td>\n",
       "      <td>75.0</td>\n",
       "      <td>70.0</td>\n",
       "      <td>70.0</td>\n",
       "      <td>68.0</td>\n",
       "      <td>64.0</td>\n",
       "      <td>68.0</td>\n",
       "      <td>72.0</td>\n",
       "      <td>74.0</td>\n",
       "      <td>72.0</td>\n",
       "      <td>NaN</td>\n",
       "    </tr>\n",
       "  </tbody>\n",
       "</table>\n",
       "</div>"
      ],
      "text/plain": [
       "       지수코드별 분류코드별     항목  단위  ...  2019. 10 월  2019. 11 월  2019. 12 월  Unnamed: 28\n",
       "0  현재생활형편CSI    서울  소비자동향 NaN  ...        92.0        93.0        93.0          NaN\n",
       "1  현재경기판단CSI    서울  소비자동향 NaN  ...        72.0        74.0        72.0          NaN\n",
       "\n",
       "[2 rows x 29 columns]"
      ]
     },
     "execution_count": 23,
     "metadata": {
      "tags": []
     },
     "output_type": "execute_result"
    }
   ],
   "source": [
    "df_csi.head(2)"
   ]
  },
  {
   "cell_type": "code",
   "execution_count": null,
   "metadata": {
    "id": "av0SvKev_bFq"
   },
   "outputs": [],
   "source": [
    "df_csi.drop(['단위','Unnamed: 28'], axis=1, inplace=True)"
   ]
  },
  {
   "cell_type": "code",
   "execution_count": null,
   "metadata": {
    "id": "KlsS7Y7_9_fa"
   },
   "outputs": [],
   "source": [
    "df_csi_seoul = df_csi.mean().tolist()"
   ]
  },
  {
   "cell_type": "markdown",
   "metadata": {
    "id": "Qg_J0A7V-3jO"
   },
   "source": [
    "## 2. 서울 이외의 지역"
   ]
  },
  {
   "cell_type": "code",
   "execution_count": null,
   "metadata": {
    "colab": {
     "base_uri": "https://localhost:8080/",
     "height": 182
    },
    "id": "yCifb1I_-MTt",
    "outputId": "96848488-e3ed-49d7-c0ec-2c7e773d3d4f"
   },
   "outputs": [
    {
     "data": {
      "text/html": [
       "<div>\n",
       "<style scoped>\n",
       "    .dataframe tbody tr th:only-of-type {\n",
       "        vertical-align: middle;\n",
       "    }\n",
       "\n",
       "    .dataframe tbody tr th {\n",
       "        vertical-align: top;\n",
       "    }\n",
       "\n",
       "    .dataframe thead th {\n",
       "        text-align: right;\n",
       "    }\n",
       "</style>\n",
       "<table border=\"1\" class=\"dataframe\">\n",
       "  <thead>\n",
       "    <tr style=\"text-align: right;\">\n",
       "      <th></th>\n",
       "      <th>CSI_CODE별</th>\n",
       "      <th>BRANCH_CODE별</th>\n",
       "      <th>2018. 01</th>\n",
       "      <th>2018. 02</th>\n",
       "      <th>2018. 03</th>\n",
       "      <th>2018. 04</th>\n",
       "      <th>2018. 05</th>\n",
       "      <th>2018. 06</th>\n",
       "      <th>2018. 07</th>\n",
       "      <th>2018. 08</th>\n",
       "      <th>2018. 09</th>\n",
       "      <th>2018. 10</th>\n",
       "      <th>2018. 11</th>\n",
       "      <th>2018. 12</th>\n",
       "      <th>2019. 01</th>\n",
       "      <th>2019. 02</th>\n",
       "      <th>2019. 03</th>\n",
       "      <th>2019. 04</th>\n",
       "      <th>2019. 05</th>\n",
       "      <th>2019. 06</th>\n",
       "      <th>2019. 07</th>\n",
       "      <th>2019. 08</th>\n",
       "      <th>2019. 09</th>\n",
       "      <th>2019. 10</th>\n",
       "      <th>2019. 11</th>\n",
       "      <th>2019. 12</th>\n",
       "    </tr>\n",
       "  </thead>\n",
       "  <tbody>\n",
       "    <tr>\n",
       "      <th>0</th>\n",
       "      <td>현재생활형편CSI</td>\n",
       "      <td>부산</td>\n",
       "      <td>90.0</td>\n",
       "      <td>84.0</td>\n",
       "      <td>88.0</td>\n",
       "      <td>89.0</td>\n",
       "      <td>91.0</td>\n",
       "      <td>87.0</td>\n",
       "      <td>86.0</td>\n",
       "      <td>87.0</td>\n",
       "      <td>85.0</td>\n",
       "      <td>84.0</td>\n",
       "      <td>82.0</td>\n",
       "      <td>82.0</td>\n",
       "      <td>82.0</td>\n",
       "      <td>87.0</td>\n",
       "      <td>84.0</td>\n",
       "      <td>87.0</td>\n",
       "      <td>87.0</td>\n",
       "      <td>85.0</td>\n",
       "      <td>85.0</td>\n",
       "      <td>86.0</td>\n",
       "      <td>85.0</td>\n",
       "      <td>89.0</td>\n",
       "      <td>86.0</td>\n",
       "      <td>85.0</td>\n",
       "    </tr>\n",
       "    <tr>\n",
       "      <th>1</th>\n",
       "      <td>현재생활형편CSI</td>\n",
       "      <td>대구경북</td>\n",
       "      <td>89.0</td>\n",
       "      <td>91.0</td>\n",
       "      <td>91.0</td>\n",
       "      <td>92.0</td>\n",
       "      <td>92.0</td>\n",
       "      <td>89.0</td>\n",
       "      <td>87.0</td>\n",
       "      <td>87.0</td>\n",
       "      <td>90.0</td>\n",
       "      <td>88.0</td>\n",
       "      <td>87.0</td>\n",
       "      <td>87.0</td>\n",
       "      <td>86.0</td>\n",
       "      <td>88.0</td>\n",
       "      <td>87.0</td>\n",
       "      <td>89.0</td>\n",
       "      <td>89.0</td>\n",
       "      <td>88.0</td>\n",
       "      <td>88.0</td>\n",
       "      <td>83.0</td>\n",
       "      <td>85.0</td>\n",
       "      <td>85.0</td>\n",
       "      <td>87.0</td>\n",
       "      <td>87.0</td>\n",
       "    </tr>\n",
       "  </tbody>\n",
       "</table>\n",
       "</div>"
      ],
      "text/plain": [
       "   CSI_CODE별 BRANCH_CODE별  2018. 01  ...  2019. 10  2019. 11  2019. 12\n",
       "0  현재생활형편CSI           부산      90.0  ...      89.0      86.0      85.0\n",
       "1  현재생활형편CSI         대구경북      89.0  ...      85.0      87.0      87.0\n",
       "\n",
       "[2 rows x 26 columns]"
      ]
     },
     "execution_count": 26,
     "metadata": {
      "tags": []
     },
     "output_type": "execute_result"
    }
   ],
   "source": [
    "df_others.head(2)"
   ]
  },
  {
   "cell_type": "code",
   "execution_count": null,
   "metadata": {
    "id": "RJu281tIG-Py"
   },
   "outputs": [],
   "source": [
    "df_others_csi = df_others[df_others['CSI_CODE별'].apply(lambda x: x in [\"현재생활형편CSI\",\"생활형편전망CSI\",\"현재경기판단CSI\",\"향후경기전망CSI\",\"소비지출전망CSI\",\"가계수입전망CSI\"])].reset_index(drop=True)"
   ]
  },
  {
   "cell_type": "code",
   "execution_count": null,
   "metadata": {
    "colab": {
     "base_uri": "https://localhost:8080/",
     "height": 182
    },
    "id": "SGZr5mNV5P-G",
    "outputId": "169ab130-022f-4688-a34e-a394de5e43f5"
   },
   "outputs": [
    {
     "data": {
      "text/html": [
       "<div>\n",
       "<style scoped>\n",
       "    .dataframe tbody tr th:only-of-type {\n",
       "        vertical-align: middle;\n",
       "    }\n",
       "\n",
       "    .dataframe tbody tr th {\n",
       "        vertical-align: top;\n",
       "    }\n",
       "\n",
       "    .dataframe thead th {\n",
       "        text-align: right;\n",
       "    }\n",
       "</style>\n",
       "<table border=\"1\" class=\"dataframe\">\n",
       "  <thead>\n",
       "    <tr style=\"text-align: right;\">\n",
       "      <th></th>\n",
       "      <th>CSI_CODE별</th>\n",
       "      <th>BRANCH_CODE별</th>\n",
       "      <th>2018. 01</th>\n",
       "      <th>2018. 02</th>\n",
       "      <th>2018. 03</th>\n",
       "      <th>2018. 04</th>\n",
       "      <th>2018. 05</th>\n",
       "      <th>2018. 06</th>\n",
       "      <th>2018. 07</th>\n",
       "      <th>2018. 08</th>\n",
       "      <th>2018. 09</th>\n",
       "      <th>2018. 10</th>\n",
       "      <th>2018. 11</th>\n",
       "      <th>2018. 12</th>\n",
       "      <th>2019. 01</th>\n",
       "      <th>2019. 02</th>\n",
       "      <th>2019. 03</th>\n",
       "      <th>2019. 04</th>\n",
       "      <th>2019. 05</th>\n",
       "      <th>2019. 06</th>\n",
       "      <th>2019. 07</th>\n",
       "      <th>2019. 08</th>\n",
       "      <th>2019. 09</th>\n",
       "      <th>2019. 10</th>\n",
       "      <th>2019. 11</th>\n",
       "      <th>2019. 12</th>\n",
       "    </tr>\n",
       "  </thead>\n",
       "  <tbody>\n",
       "    <tr>\n",
       "      <th>0</th>\n",
       "      <td>현재생활형편CSI</td>\n",
       "      <td>부산</td>\n",
       "      <td>90.0</td>\n",
       "      <td>84.0</td>\n",
       "      <td>88.0</td>\n",
       "      <td>89.0</td>\n",
       "      <td>91.0</td>\n",
       "      <td>87.0</td>\n",
       "      <td>86.0</td>\n",
       "      <td>87.0</td>\n",
       "      <td>85.0</td>\n",
       "      <td>84.0</td>\n",
       "      <td>82.0</td>\n",
       "      <td>82.0</td>\n",
       "      <td>82.0</td>\n",
       "      <td>87.0</td>\n",
       "      <td>84.0</td>\n",
       "      <td>87.0</td>\n",
       "      <td>87.0</td>\n",
       "      <td>85.0</td>\n",
       "      <td>85.0</td>\n",
       "      <td>86.0</td>\n",
       "      <td>85.0</td>\n",
       "      <td>89.0</td>\n",
       "      <td>86.0</td>\n",
       "      <td>85.0</td>\n",
       "    </tr>\n",
       "    <tr>\n",
       "      <th>1</th>\n",
       "      <td>현재생활형편CSI</td>\n",
       "      <td>대구경북</td>\n",
       "      <td>89.0</td>\n",
       "      <td>91.0</td>\n",
       "      <td>91.0</td>\n",
       "      <td>92.0</td>\n",
       "      <td>92.0</td>\n",
       "      <td>89.0</td>\n",
       "      <td>87.0</td>\n",
       "      <td>87.0</td>\n",
       "      <td>90.0</td>\n",
       "      <td>88.0</td>\n",
       "      <td>87.0</td>\n",
       "      <td>87.0</td>\n",
       "      <td>86.0</td>\n",
       "      <td>88.0</td>\n",
       "      <td>87.0</td>\n",
       "      <td>89.0</td>\n",
       "      <td>89.0</td>\n",
       "      <td>88.0</td>\n",
       "      <td>88.0</td>\n",
       "      <td>83.0</td>\n",
       "      <td>85.0</td>\n",
       "      <td>85.0</td>\n",
       "      <td>87.0</td>\n",
       "      <td>87.0</td>\n",
       "    </tr>\n",
       "  </tbody>\n",
       "</table>\n",
       "</div>"
      ],
      "text/plain": [
       "   CSI_CODE별 BRANCH_CODE별  2018. 01  ...  2019. 10  2019. 11  2019. 12\n",
       "0  현재생활형편CSI           부산      90.0  ...      89.0      86.0      85.0\n",
       "1  현재생활형편CSI         대구경북      89.0  ...      85.0      87.0      87.0\n",
       "\n",
       "[2 rows x 26 columns]"
      ]
     },
     "execution_count": 28,
     "metadata": {
      "tags": []
     },
     "output_type": "execute_result"
    }
   ],
   "source": [
    "df_others_csi.head(2)"
   ]
  },
  {
   "cell_type": "code",
   "execution_count": null,
   "metadata": {
    "id": "FKRy45eAHO8T"
   },
   "outputs": [],
   "source": [
    "df_group = df_others_csi.groupby(['BRANCH_CODE별']).mean().reset_index()"
   ]
  },
  {
   "cell_type": "code",
   "execution_count": null,
   "metadata": {
    "colab": {
     "base_uri": "https://localhost:8080/",
     "height": 148
    },
    "id": "7IyzxvKOBdSj",
    "outputId": "b7a5a5f7-eb58-4e8a-cf6d-656c9401e280"
   },
   "outputs": [
    {
     "data": {
      "text/html": [
       "<div>\n",
       "<style scoped>\n",
       "    .dataframe tbody tr th:only-of-type {\n",
       "        vertical-align: middle;\n",
       "    }\n",
       "\n",
       "    .dataframe tbody tr th {\n",
       "        vertical-align: top;\n",
       "    }\n",
       "\n",
       "    .dataframe thead th {\n",
       "        text-align: right;\n",
       "    }\n",
       "</style>\n",
       "<table border=\"1\" class=\"dataframe\">\n",
       "  <thead>\n",
       "    <tr style=\"text-align: right;\">\n",
       "      <th></th>\n",
       "      <th>BRANCH_CODE별</th>\n",
       "      <th>2018. 01</th>\n",
       "      <th>2018. 02</th>\n",
       "      <th>2018. 03</th>\n",
       "      <th>2018. 04</th>\n",
       "      <th>2018. 05</th>\n",
       "      <th>2018. 06</th>\n",
       "      <th>2018. 07</th>\n",
       "      <th>2018. 08</th>\n",
       "      <th>2018. 09</th>\n",
       "      <th>2018. 10</th>\n",
       "      <th>2018. 11</th>\n",
       "      <th>2018. 12</th>\n",
       "      <th>2019. 01</th>\n",
       "      <th>2019. 02</th>\n",
       "      <th>2019. 03</th>\n",
       "      <th>2019. 04</th>\n",
       "      <th>2019. 05</th>\n",
       "      <th>2019. 06</th>\n",
       "      <th>2019. 07</th>\n",
       "      <th>2019. 08</th>\n",
       "      <th>2019. 09</th>\n",
       "      <th>2019. 10</th>\n",
       "      <th>2019. 11</th>\n",
       "      <th>2019. 12</th>\n",
       "    </tr>\n",
       "  </thead>\n",
       "  <tbody>\n",
       "    <tr>\n",
       "      <th>0</th>\n",
       "      <td>강릉</td>\n",
       "      <td>102.500000</td>\n",
       "      <td>98.333333</td>\n",
       "      <td>101.333333</td>\n",
       "      <td>97.333333</td>\n",
       "      <td>101.833333</td>\n",
       "      <td>99.0</td>\n",
       "      <td>97.666667</td>\n",
       "      <td>93.0</td>\n",
       "      <td>86.166667</td>\n",
       "      <td>86.333333</td>\n",
       "      <td>82.166667</td>\n",
       "      <td>82.666667</td>\n",
       "      <td>86.666667</td>\n",
       "      <td>88.0</td>\n",
       "      <td>87.500000</td>\n",
       "      <td>87.000000</td>\n",
       "      <td>84.166667</td>\n",
       "      <td>86.333333</td>\n",
       "      <td>86.166667</td>\n",
       "      <td>83.166667</td>\n",
       "      <td>87.333333</td>\n",
       "      <td>86.833333</td>\n",
       "      <td>88.500000</td>\n",
       "      <td>87.666667</td>\n",
       "    </tr>\n",
       "    <tr>\n",
       "      <th>1</th>\n",
       "      <td>강원</td>\n",
       "      <td>103.166667</td>\n",
       "      <td>100.000000</td>\n",
       "      <td>101.666667</td>\n",
       "      <td>98.333333</td>\n",
       "      <td>101.833333</td>\n",
       "      <td>98.5</td>\n",
       "      <td>95.000000</td>\n",
       "      <td>91.5</td>\n",
       "      <td>86.000000</td>\n",
       "      <td>87.333333</td>\n",
       "      <td>84.500000</td>\n",
       "      <td>84.500000</td>\n",
       "      <td>87.000000</td>\n",
       "      <td>88.5</td>\n",
       "      <td>88.166667</td>\n",
       "      <td>89.833333</td>\n",
       "      <td>86.833333</td>\n",
       "      <td>87.166667</td>\n",
       "      <td>87.000000</td>\n",
       "      <td>84.666667</td>\n",
       "      <td>88.166667</td>\n",
       "      <td>88.166667</td>\n",
       "      <td>88.333333</td>\n",
       "      <td>88.833333</td>\n",
       "    </tr>\n",
       "  </tbody>\n",
       "</table>\n",
       "</div>"
      ],
      "text/plain": [
       "  BRANCH_CODE별    2018. 01    2018. 02  ...   2019. 10   2019. 11   2019. 12\n",
       "0           강릉  102.500000   98.333333  ...  86.833333  88.500000  87.666667\n",
       "1           강원  103.166667  100.000000  ...  88.166667  88.333333  88.833333\n",
       "\n",
       "[2 rows x 25 columns]"
      ]
     },
     "execution_count": 30,
     "metadata": {
      "tags": []
     },
     "output_type": "execute_result"
    }
   ],
   "source": [
    "df_group.head(2)"
   ]
  },
  {
   "cell_type": "markdown",
   "metadata": {
    "id": "rqCN-8vCCWvK"
   },
   "source": [
    "## 3. 데이터 병합"
   ]
  },
  {
   "cell_type": "code",
   "execution_count": null,
   "metadata": {
    "id": "FFp1h_b_FH08"
   },
   "outputs": [],
   "source": [
    "df_csi_seoul = [\"서울\"] + df_csi_seoul"
   ]
  },
  {
   "cell_type": "code",
   "execution_count": null,
   "metadata": {
    "id": "2lqJ8BxZFMTC"
   },
   "outputs": [],
   "source": [
    "df_final = df_group.append(pd.DataFrame([df_csi_seoul], columns = df_group.columns)).reset_index(drop=True)"
   ]
  },
  {
   "cell_type": "code",
   "execution_count": null,
   "metadata": {
    "id": "bFEAUiVhFXSl"
   },
   "outputs": [],
   "source": [
    "df_final.rename(columns={\"BRANCH_CODE별\":\"시도\"},inplace=True)"
   ]
  },
  {
   "cell_type": "code",
   "execution_count": null,
   "metadata": {
    "colab": {
     "base_uri": "https://localhost:8080/",
     "height": 182
    },
    "id": "MaT0jT4N5bIi",
    "outputId": "8afd18ef-7165-4161-8d33-0b1f381809a6"
   },
   "outputs": [
    {
     "data": {
      "text/html": [
       "<div>\n",
       "<style scoped>\n",
       "    .dataframe tbody tr th:only-of-type {\n",
       "        vertical-align: middle;\n",
       "    }\n",
       "\n",
       "    .dataframe tbody tr th {\n",
       "        vertical-align: top;\n",
       "    }\n",
       "\n",
       "    .dataframe thead th {\n",
       "        text-align: right;\n",
       "    }\n",
       "</style>\n",
       "<table border=\"1\" class=\"dataframe\">\n",
       "  <thead>\n",
       "    <tr style=\"text-align: right;\">\n",
       "      <th></th>\n",
       "      <th>시도</th>\n",
       "      <th>2018. 01</th>\n",
       "      <th>2018. 02</th>\n",
       "      <th>2018. 03</th>\n",
       "      <th>2018. 04</th>\n",
       "      <th>2018. 05</th>\n",
       "      <th>2018. 06</th>\n",
       "      <th>2018. 07</th>\n",
       "      <th>2018. 08</th>\n",
       "      <th>2018. 09</th>\n",
       "      <th>2018. 10</th>\n",
       "      <th>2018. 11</th>\n",
       "      <th>2018. 12</th>\n",
       "      <th>2019. 01</th>\n",
       "      <th>2019. 02</th>\n",
       "      <th>2019. 03</th>\n",
       "      <th>2019. 04</th>\n",
       "      <th>2019. 05</th>\n",
       "      <th>2019. 06</th>\n",
       "      <th>2019. 07</th>\n",
       "      <th>2019. 08</th>\n",
       "      <th>2019. 09</th>\n",
       "      <th>2019. 10</th>\n",
       "      <th>2019. 11</th>\n",
       "      <th>2019. 12</th>\n",
       "    </tr>\n",
       "  </thead>\n",
       "  <tbody>\n",
       "    <tr>\n",
       "      <th>0</th>\n",
       "      <td>강릉</td>\n",
       "      <td>102.500000</td>\n",
       "      <td>98.333333</td>\n",
       "      <td>101.333333</td>\n",
       "      <td>97.333333</td>\n",
       "      <td>101.833333</td>\n",
       "      <td>99.0</td>\n",
       "      <td>97.666667</td>\n",
       "      <td>93.0</td>\n",
       "      <td>86.166667</td>\n",
       "      <td>86.333333</td>\n",
       "      <td>82.166667</td>\n",
       "      <td>82.666667</td>\n",
       "      <td>86.666667</td>\n",
       "      <td>88.0</td>\n",
       "      <td>87.500000</td>\n",
       "      <td>87.000000</td>\n",
       "      <td>84.166667</td>\n",
       "      <td>86.333333</td>\n",
       "      <td>86.166667</td>\n",
       "      <td>83.166667</td>\n",
       "      <td>87.333333</td>\n",
       "      <td>86.833333</td>\n",
       "      <td>88.500000</td>\n",
       "      <td>87.666667</td>\n",
       "    </tr>\n",
       "    <tr>\n",
       "      <th>1</th>\n",
       "      <td>강원</td>\n",
       "      <td>103.166667</td>\n",
       "      <td>100.000000</td>\n",
       "      <td>101.666667</td>\n",
       "      <td>98.333333</td>\n",
       "      <td>101.833333</td>\n",
       "      <td>98.5</td>\n",
       "      <td>95.000000</td>\n",
       "      <td>91.5</td>\n",
       "      <td>86.000000</td>\n",
       "      <td>87.333333</td>\n",
       "      <td>84.500000</td>\n",
       "      <td>84.500000</td>\n",
       "      <td>87.000000</td>\n",
       "      <td>88.5</td>\n",
       "      <td>88.166667</td>\n",
       "      <td>89.833333</td>\n",
       "      <td>86.833333</td>\n",
       "      <td>87.166667</td>\n",
       "      <td>87.000000</td>\n",
       "      <td>84.666667</td>\n",
       "      <td>88.166667</td>\n",
       "      <td>88.166667</td>\n",
       "      <td>88.333333</td>\n",
       "      <td>88.833333</td>\n",
       "    </tr>\n",
       "  </tbody>\n",
       "</table>\n",
       "</div>"
      ],
      "text/plain": [
       "   시도    2018. 01    2018. 02  ...   2019. 10   2019. 11   2019. 12\n",
       "0  강릉  102.500000   98.333333  ...  86.833333  88.500000  87.666667\n",
       "1  강원  103.166667  100.000000  ...  88.166667  88.333333  88.833333\n",
       "\n",
       "[2 rows x 25 columns]"
      ]
     },
     "execution_count": 34,
     "metadata": {
      "tags": []
     },
     "output_type": "execute_result"
    }
   ],
   "source": [
    "df_final.head(2)"
   ]
  },
  {
   "cell_type": "code",
   "execution_count": null,
   "metadata": {
    "colab": {
     "base_uri": "https://localhost:8080/"
    },
    "id": "TYBYo74G5fEu",
    "outputId": "6b1ce21e-dfee-4e1c-93cf-bf6ddc18930b"
   },
   "outputs": [
    {
     "name": "stdout",
     "output_type": "stream",
     "text": [
      "(14, 25)\n"
     ]
    }
   ],
   "source": [
    "print(df_final.shape)"
   ]
  },
  {
   "cell_type": "code",
   "execution_count": null,
   "metadata": {
    "colab": {
     "base_uri": "https://localhost:8080/"
    },
    "id": "WaLblfJg5iq1",
    "outputId": "aeb33262-0631-4374-f6ca-898c50e3fe10"
   },
   "outputs": [
    {
     "data": {
      "text/plain": [
       "array(['강릉', '강원', '경기', '경남', '광주전남', '대구경북', '대전충남', '부산', '울산', '인천',\n",
       "       '전북', '제주', '충북', '서울'], dtype=object)"
      ]
     },
     "execution_count": 36,
     "metadata": {
      "tags": []
     },
     "output_type": "execute_result"
    }
   ],
   "source": [
    "df_final['시도'].unique()"
   ]
  },
  {
   "cell_type": "code",
   "execution_count": null,
   "metadata": {
    "id": "BhS8J1BAIGMI"
   },
   "outputs": [],
   "source": [
    "df_final.to_csv('./외부데이터/소비자심리지수.csv',encoding='CP949',index=False)"
   ]
  },
  {
   "cell_type": "markdown",
   "metadata": {
    "id": "r5WF1-SRp_le"
   },
   "source": [
    "# 2. 날씨지수 생성 함수"
   ]
  },
  {
   "cell_type": "markdown",
   "metadata": {
    "id": "5SwabbPqrZmZ"
   },
   "source": [
    "## 0. Data Load"
   ]
  },
  {
   "cell_type": "code",
   "execution_count": null,
   "metadata": {
    "id": "eBXWQ8T0qCM0"
   },
   "outputs": [],
   "source": [
    "df_final = pd.read_csv('./소비자심리지수.csv',encoding='CP949')"
   ]
  },
  {
   "cell_type": "code",
   "execution_count": null,
   "metadata": {
    "colab": {
     "base_uri": "https://localhost:8080/",
     "height": 360
    },
    "executionInfo": {
     "elapsed": 370,
     "status": "ok",
     "timestamp": 1621717753992,
     "user": {
      "displayName": "‎김보민(자연과학대학 통계학과)",
      "photoUrl": "",
      "userId": "15390259587588584717"
     },
     "user_tz": -540
    },
    "id": "i9e5d-BxrNIL",
    "outputId": "bf61a57d-4f48-4e83-e542-2c05c578a9a0"
   },
   "outputs": [
    {
     "data": {
      "text/html": [
       "<div>\n",
       "<style scoped>\n",
       "    .dataframe tbody tr th:only-of-type {\n",
       "        vertical-align: middle;\n",
       "    }\n",
       "\n",
       "    .dataframe tbody tr th {\n",
       "        vertical-align: top;\n",
       "    }\n",
       "\n",
       "    .dataframe thead th {\n",
       "        text-align: right;\n",
       "    }\n",
       "</style>\n",
       "<table border=\"1\" class=\"dataframe\">\n",
       "  <thead>\n",
       "    <tr style=\"text-align: right;\">\n",
       "      <th></th>\n",
       "      <th>시도</th>\n",
       "      <th>2018. 01</th>\n",
       "      <th>2018. 02</th>\n",
       "      <th>2018. 03</th>\n",
       "      <th>2018. 04</th>\n",
       "      <th>2018. 05</th>\n",
       "      <th>2018. 06</th>\n",
       "      <th>2018. 07</th>\n",
       "      <th>2018. 08</th>\n",
       "      <th>2018. 09</th>\n",
       "      <th>2018. 10</th>\n",
       "      <th>2018. 11</th>\n",
       "      <th>2018. 12</th>\n",
       "      <th>2019. 01</th>\n",
       "      <th>2019. 02</th>\n",
       "      <th>2019. 03</th>\n",
       "      <th>2019. 04</th>\n",
       "      <th>2019. 05</th>\n",
       "      <th>2019. 06</th>\n",
       "      <th>2019. 07</th>\n",
       "      <th>2019. 08</th>\n",
       "      <th>2019. 09</th>\n",
       "      <th>2019. 10</th>\n",
       "      <th>2019. 11</th>\n",
       "      <th>2019. 12</th>\n",
       "      <th>2020. 01</th>\n",
       "      <th>2020. 02</th>\n",
       "      <th>2020. 03</th>\n",
       "      <th>2020. 04</th>\n",
       "      <th>2020. 05</th>\n",
       "      <th>2020. 06</th>\n",
       "      <th>2020. 07</th>\n",
       "      <th>2020. 08</th>\n",
       "      <th>2020. 09</th>\n",
       "      <th>2020. 10</th>\n",
       "      <th>2020. 11</th>\n",
       "      <th>2020. 12</th>\n",
       "    </tr>\n",
       "  </thead>\n",
       "  <tbody>\n",
       "    <tr>\n",
       "      <th>0</th>\n",
       "      <td>강릉</td>\n",
       "      <td>102.500000</td>\n",
       "      <td>98.333333</td>\n",
       "      <td>101.333333</td>\n",
       "      <td>97.333333</td>\n",
       "      <td>101.833333</td>\n",
       "      <td>99.000000</td>\n",
       "      <td>97.666667</td>\n",
       "      <td>93.000000</td>\n",
       "      <td>86.166667</td>\n",
       "      <td>86.333333</td>\n",
       "      <td>82.166667</td>\n",
       "      <td>82.666667</td>\n",
       "      <td>86.666667</td>\n",
       "      <td>88.000000</td>\n",
       "      <td>87.500000</td>\n",
       "      <td>87.000000</td>\n",
       "      <td>84.166667</td>\n",
       "      <td>86.333333</td>\n",
       "      <td>86.166667</td>\n",
       "      <td>83.166667</td>\n",
       "      <td>87.333333</td>\n",
       "      <td>86.833333</td>\n",
       "      <td>88.500000</td>\n",
       "      <td>87.666667</td>\n",
       "      <td>89.666667</td>\n",
       "      <td>86.666667</td>\n",
       "      <td>70.000000</td>\n",
       "      <td>67.166667</td>\n",
       "      <td>75.000000</td>\n",
       "      <td>79.000000</td>\n",
       "      <td>79.000000</td>\n",
       "      <td>80.000000</td>\n",
       "      <td>71.333333</td>\n",
       "      <td>78.833333</td>\n",
       "      <td>83.833333</td>\n",
       "      <td>78.333333</td>\n",
       "    </tr>\n",
       "    <tr>\n",
       "      <th>1</th>\n",
       "      <td>강원</td>\n",
       "      <td>103.166667</td>\n",
       "      <td>100.000000</td>\n",
       "      <td>101.666667</td>\n",
       "      <td>98.333333</td>\n",
       "      <td>101.833333</td>\n",
       "      <td>98.500000</td>\n",
       "      <td>95.000000</td>\n",
       "      <td>91.500000</td>\n",
       "      <td>86.000000</td>\n",
       "      <td>87.333333</td>\n",
       "      <td>84.500000</td>\n",
       "      <td>84.500000</td>\n",
       "      <td>87.000000</td>\n",
       "      <td>88.500000</td>\n",
       "      <td>88.166667</td>\n",
       "      <td>89.833333</td>\n",
       "      <td>86.833333</td>\n",
       "      <td>87.166667</td>\n",
       "      <td>87.000000</td>\n",
       "      <td>84.666667</td>\n",
       "      <td>88.166667</td>\n",
       "      <td>88.166667</td>\n",
       "      <td>88.333333</td>\n",
       "      <td>88.833333</td>\n",
       "      <td>90.666667</td>\n",
       "      <td>88.000000</td>\n",
       "      <td>72.833333</td>\n",
       "      <td>70.000000</td>\n",
       "      <td>75.666667</td>\n",
       "      <td>78.166667</td>\n",
       "      <td>79.166667</td>\n",
       "      <td>80.666667</td>\n",
       "      <td>72.833333</td>\n",
       "      <td>81.166667</td>\n",
       "      <td>85.000000</td>\n",
       "      <td>78.833333</td>\n",
       "    </tr>\n",
       "    <tr>\n",
       "      <th>2</th>\n",
       "      <td>경기</td>\n",
       "      <td>102.333333</td>\n",
       "      <td>102.666667</td>\n",
       "      <td>101.333333</td>\n",
       "      <td>100.500000</td>\n",
       "      <td>102.166667</td>\n",
       "      <td>98.833333</td>\n",
       "      <td>95.500000</td>\n",
       "      <td>91.833333</td>\n",
       "      <td>90.666667</td>\n",
       "      <td>90.500000</td>\n",
       "      <td>87.000000</td>\n",
       "      <td>87.833333</td>\n",
       "      <td>89.500000</td>\n",
       "      <td>90.666667</td>\n",
       "      <td>90.000000</td>\n",
       "      <td>92.333333</td>\n",
       "      <td>89.833333</td>\n",
       "      <td>89.500000</td>\n",
       "      <td>88.500000</td>\n",
       "      <td>86.333333</td>\n",
       "      <td>89.333333</td>\n",
       "      <td>91.166667</td>\n",
       "      <td>93.666667</td>\n",
       "      <td>93.500000</td>\n",
       "      <td>95.500000</td>\n",
       "      <td>89.666667</td>\n",
       "      <td>75.666667</td>\n",
       "      <td>71.666667</td>\n",
       "      <td>76.000000</td>\n",
       "      <td>78.500000</td>\n",
       "      <td>81.833333</td>\n",
       "      <td>83.833333</td>\n",
       "      <td>75.833333</td>\n",
       "      <td>86.500000</td>\n",
       "      <td>92.166667</td>\n",
       "      <td>84.500000</td>\n",
       "    </tr>\n",
       "    <tr>\n",
       "      <th>3</th>\n",
       "      <td>경남</td>\n",
       "      <td>94.666667</td>\n",
       "      <td>92.833333</td>\n",
       "      <td>93.166667</td>\n",
       "      <td>93.000000</td>\n",
       "      <td>94.666667</td>\n",
       "      <td>91.500000</td>\n",
       "      <td>88.666667</td>\n",
       "      <td>87.500000</td>\n",
       "      <td>83.666667</td>\n",
       "      <td>84.166667</td>\n",
       "      <td>80.666667</td>\n",
       "      <td>81.333333</td>\n",
       "      <td>83.000000</td>\n",
       "      <td>83.833333</td>\n",
       "      <td>84.833333</td>\n",
       "      <td>87.500000</td>\n",
       "      <td>85.666667</td>\n",
       "      <td>84.000000</td>\n",
       "      <td>84.000000</td>\n",
       "      <td>81.500000</td>\n",
       "      <td>83.500000</td>\n",
       "      <td>85.000000</td>\n",
       "      <td>87.833333</td>\n",
       "      <td>87.500000</td>\n",
       "      <td>88.666667</td>\n",
       "      <td>85.333333</td>\n",
       "      <td>71.500000</td>\n",
       "      <td>63.833333</td>\n",
       "      <td>71.333333</td>\n",
       "      <td>72.500000</td>\n",
       "      <td>76.666667</td>\n",
       "      <td>79.666667</td>\n",
       "      <td>70.500000</td>\n",
       "      <td>79.500000</td>\n",
       "      <td>85.833333</td>\n",
       "      <td>80.500000</td>\n",
       "    </tr>\n",
       "    <tr>\n",
       "      <th>4</th>\n",
       "      <td>광주전남</td>\n",
       "      <td>104.000000</td>\n",
       "      <td>103.666667</td>\n",
       "      <td>102.000000</td>\n",
       "      <td>102.000000</td>\n",
       "      <td>104.000000</td>\n",
       "      <td>101.500000</td>\n",
       "      <td>97.166667</td>\n",
       "      <td>93.500000</td>\n",
       "      <td>92.166667</td>\n",
       "      <td>94.333333</td>\n",
       "      <td>92.833333</td>\n",
       "      <td>91.500000</td>\n",
       "      <td>93.166667</td>\n",
       "      <td>95.500000</td>\n",
       "      <td>94.166667</td>\n",
       "      <td>94.333333</td>\n",
       "      <td>92.833333</td>\n",
       "      <td>94.000000</td>\n",
       "      <td>91.833333</td>\n",
       "      <td>88.000000</td>\n",
       "      <td>93.333333</td>\n",
       "      <td>93.833333</td>\n",
       "      <td>95.500000</td>\n",
       "      <td>96.166667</td>\n",
       "      <td>97.166667</td>\n",
       "      <td>91.000000</td>\n",
       "      <td>76.500000</td>\n",
       "      <td>73.500000</td>\n",
       "      <td>76.833333</td>\n",
       "      <td>80.166667</td>\n",
       "      <td>77.833333</td>\n",
       "      <td>82.500000</td>\n",
       "      <td>74.500000</td>\n",
       "      <td>84.666667</td>\n",
       "      <td>89.833333</td>\n",
       "      <td>83.500000</td>\n",
       "    </tr>\n",
       "  </tbody>\n",
       "</table>\n",
       "</div>"
      ],
      "text/plain": [
       "     시도    2018. 01    2018. 02  ...   2020. 10   2020. 11   2020. 12\n",
       "0    강릉  102.500000   98.333333  ...  78.833333  83.833333  78.333333\n",
       "1    강원  103.166667  100.000000  ...  81.166667  85.000000  78.833333\n",
       "2    경기  102.333333  102.666667  ...  86.500000  92.166667  84.500000\n",
       "3    경남   94.666667   92.833333  ...  79.500000  85.833333  80.500000\n",
       "4  광주전남  104.000000  103.666667  ...  84.666667  89.833333  83.500000\n",
       "\n",
       "[5 rows x 37 columns]"
      ]
     },
     "execution_count": 5,
     "metadata": {
      "tags": []
     },
     "output_type": "execute_result"
    }
   ],
   "source": [
    "df_final.head()"
   ]
  },
  {
   "cell_type": "markdown",
   "metadata": {
    "id": "chn_Gp-arVck"
   },
   "source": [
    "## 1. 데이터 재구조화"
   ]
  },
  {
   "cell_type": "code",
   "execution_count": null,
   "metadata": {
    "id": "xdfYZIbnrTQ6"
   },
   "outputs": [],
   "source": [
    "df_melt = pd.melt(df_final, id_vars=['시도'])"
   ]
  },
  {
   "cell_type": "code",
   "execution_count": null,
   "metadata": {
    "id": "ZjWjtkeUO-7I"
   },
   "outputs": [],
   "source": [
    "df_melt['yymm'] = df_melt['variable'].apply(lambda x: x[:4] + x[6:8])"
   ]
  },
  {
   "cell_type": "code",
   "execution_count": null,
   "metadata": {
    "colab": {
     "base_uri": "https://localhost:8080/"
    },
    "executionInfo": {
     "elapsed": 246,
     "status": "ok",
     "timestamp": 1621718393702,
     "user": {
      "displayName": "‎김보민(자연과학대학 통계학과)",
      "photoUrl": "",
      "userId": "15390259587588584717"
     },
     "user_tz": -540
    },
    "id": "QG8IaN3J8slT",
    "outputId": "094cbb46-ef7f-4c80-fad5-c5587cf27329"
   },
   "outputs": [
    {
     "name": "stdout",
     "output_type": "stream",
     "text": [
      "(504, 4)\n"
     ]
    }
   ],
   "source": [
    "print(df_melt.shape)"
   ]
  },
  {
   "cell_type": "code",
   "execution_count": null,
   "metadata": {
    "colab": {
     "base_uri": "https://localhost:8080/",
     "height": 204
    },
    "executionInfo": {
     "elapsed": 239,
     "status": "ok",
     "timestamp": 1621718401067,
     "user": {
      "displayName": "‎김보민(자연과학대학 통계학과)",
      "photoUrl": "",
      "userId": "15390259587588584717"
     },
     "user_tz": -540
    },
    "id": "2ufLpAW5ruMJ",
    "outputId": "93f5a724-0726-4ba9-ad5c-2a760784a2c6"
   },
   "outputs": [
    {
     "data": {
      "text/html": [
       "<div>\n",
       "<style scoped>\n",
       "    .dataframe tbody tr th:only-of-type {\n",
       "        vertical-align: middle;\n",
       "    }\n",
       "\n",
       "    .dataframe tbody tr th {\n",
       "        vertical-align: top;\n",
       "    }\n",
       "\n",
       "    .dataframe thead th {\n",
       "        text-align: right;\n",
       "    }\n",
       "</style>\n",
       "<table border=\"1\" class=\"dataframe\">\n",
       "  <thead>\n",
       "    <tr style=\"text-align: right;\">\n",
       "      <th></th>\n",
       "      <th>시도</th>\n",
       "      <th>variable</th>\n",
       "      <th>value</th>\n",
       "      <th>yymm</th>\n",
       "    </tr>\n",
       "  </thead>\n",
       "  <tbody>\n",
       "    <tr>\n",
       "      <th>0</th>\n",
       "      <td>강릉</td>\n",
       "      <td>2018. 01</td>\n",
       "      <td>102.500000</td>\n",
       "      <td>201801</td>\n",
       "    </tr>\n",
       "    <tr>\n",
       "      <th>1</th>\n",
       "      <td>강원</td>\n",
       "      <td>2018. 01</td>\n",
       "      <td>103.166667</td>\n",
       "      <td>201801</td>\n",
       "    </tr>\n",
       "    <tr>\n",
       "      <th>2</th>\n",
       "      <td>경기</td>\n",
       "      <td>2018. 01</td>\n",
       "      <td>102.333333</td>\n",
       "      <td>201801</td>\n",
       "    </tr>\n",
       "    <tr>\n",
       "      <th>3</th>\n",
       "      <td>경남</td>\n",
       "      <td>2018. 01</td>\n",
       "      <td>94.666667</td>\n",
       "      <td>201801</td>\n",
       "    </tr>\n",
       "    <tr>\n",
       "      <th>4</th>\n",
       "      <td>광주전남</td>\n",
       "      <td>2018. 01</td>\n",
       "      <td>104.000000</td>\n",
       "      <td>201801</td>\n",
       "    </tr>\n",
       "  </tbody>\n",
       "</table>\n",
       "</div>"
      ],
      "text/plain": [
       "     시도  variable       value    yymm\n",
       "0    강릉  2018. 01  102.500000  201801\n",
       "1    강원  2018. 01  103.166667  201801\n",
       "2    경기  2018. 01  102.333333  201801\n",
       "3    경남  2018. 01   94.666667  201801\n",
       "4  광주전남  2018. 01  104.000000  201801"
      ]
     },
     "execution_count": 30,
     "metadata": {
      "tags": []
     },
     "output_type": "execute_result"
    }
   ],
   "source": [
    "df_melt.head()"
   ]
  },
  {
   "cell_type": "code",
   "execution_count": null,
   "metadata": {
    "colab": {
     "base_uri": "https://localhost:8080/"
    },
    "executionInfo": {
     "elapsed": 235,
     "status": "ok",
     "timestamp": 1621717779365,
     "user": {
      "displayName": "‎김보민(자연과학대학 통계학과)",
      "photoUrl": "",
      "userId": "15390259587588584717"
     },
     "user_tz": -540
    },
    "id": "5Gj0MVhssQku",
    "outputId": "9803c776-d8c6-4c23-dc0c-b0f3f923e6ba"
   },
   "outputs": [
    {
     "data": {
      "text/plain": [
       "array(['강릉', '강원', '경기', '경남', '광주전남', '대구경북', '대전충남', '부산', '울산', '인천',\n",
       "       '전북', '제주', '충북', '서울'], dtype=object)"
      ]
     },
     "execution_count": 9,
     "metadata": {
      "tags": []
     },
     "output_type": "execute_result"
    }
   ],
   "source": [
    "df_melt['시도'].unique()"
   ]
  },
  {
   "cell_type": "markdown",
   "metadata": {
    "id": "2pcMHk9FTYUf"
   },
   "source": [
    "## 2. 함수"
   ]
  },
  {
   "cell_type": "markdown",
   "metadata": {
    "id": "fpQdj0uYXPHr"
   },
   "source": [
    "* 강원 숫자 처리 필요"
   ]
  },
  {
   "cell_type": "code",
   "execution_count": null,
   "metadata": {
    "id": "PZnKCno9Oo8r"
   },
   "outputs": [],
   "source": [
    "def score(data, col_name):\n",
    "    # 데이터 전처리\n",
    "    data['시도'] = data['aws_id'].map({108:'서울', 159:'부산', 143:'대구', 112:'인천', 156:'광주',\n",
    "                                     133:'대전', 152:'울산', 119:'경기', 105:'강원', 131:'충북', 232:'충남',\n",
    "                                     146:'전북', 168:'전남', 136:'경북', 155:'경남', 184:'제주'})\n",
    "    data['date'] = pd.to_datetime(data['date'], format='%Y-%m-%d')\n",
    "    data['year'] = data['date'].dt.year\n",
    "    data['month'] = data['date'].dt.month\n",
    "    data['yymm'] = data['year'].map(str) + data['month'].apply(lambda x: str(x) if x >= 10 else '0'+str(x))\n",
    "\n",
    "    # score 계산\n",
    "    data['score'] = np.nan\n",
    "    for i in range(len(data)):\n",
    "        for j in range(len(df_melt)):\n",
    "            if (data.loc[i,'yymm'] == df_melt.loc[j,'yymm']) & (data.loc[i,'시도'] in df_melt.loc[j,'시도']):\n",
    "                data.loc[i,'score'] = data.loc[i,col_name]*(df_melt.loc[j,'value']/100)\n",
    "    return pd.DataFrame(data.groupby(['date'])['score'].mean()).reset_index()"
   ]
  },
  {
   "cell_type": "markdown",
   "metadata": {
    "id": "v-UHiZ8ETamt"
   },
   "source": [
    "## 3. 실행예시"
   ]
  },
  {
   "cell_type": "code",
   "execution_count": null,
   "metadata": {
    "id": "U8MQPPHl1Juv"
   },
   "outputs": [],
   "source": [
    "example = pd.DataFrame({'date' : ['2018-01-01','2018-01-01','2018-01-01','2018-02-01','2018-12-31'],\n",
    "                        'aws_id' : [108,159,143,112,156],\n",
    "                        'hm_max' : [91,25,89,67,85]})"
   ]
  },
  {
   "cell_type": "code",
   "execution_count": null,
   "metadata": {
    "colab": {
     "base_uri": "https://localhost:8080/",
     "height": 204
    },
    "executionInfo": {
     "elapsed": 11,
     "status": "ok",
     "timestamp": 1621717948675,
     "user": {
      "displayName": "‎김보민(자연과학대학 통계학과)",
      "photoUrl": "",
      "userId": "15390259587588584717"
     },
     "user_tz": -540
    },
    "id": "Lg3uTtKCM3kf",
    "outputId": "789f05a7-e8a2-4d3f-b8f0-42d0d6af89ff"
   },
   "outputs": [
    {
     "data": {
      "text/html": [
       "<div>\n",
       "<style scoped>\n",
       "    .dataframe tbody tr th:only-of-type {\n",
       "        vertical-align: middle;\n",
       "    }\n",
       "\n",
       "    .dataframe tbody tr th {\n",
       "        vertical-align: top;\n",
       "    }\n",
       "\n",
       "    .dataframe thead th {\n",
       "        text-align: right;\n",
       "    }\n",
       "</style>\n",
       "<table border=\"1\" class=\"dataframe\">\n",
       "  <thead>\n",
       "    <tr style=\"text-align: right;\">\n",
       "      <th></th>\n",
       "      <th>date</th>\n",
       "      <th>aws_id</th>\n",
       "      <th>hm_max</th>\n",
       "    </tr>\n",
       "  </thead>\n",
       "  <tbody>\n",
       "    <tr>\n",
       "      <th>0</th>\n",
       "      <td>2018-01-01</td>\n",
       "      <td>108</td>\n",
       "      <td>91</td>\n",
       "    </tr>\n",
       "    <tr>\n",
       "      <th>1</th>\n",
       "      <td>2018-01-01</td>\n",
       "      <td>159</td>\n",
       "      <td>25</td>\n",
       "    </tr>\n",
       "    <tr>\n",
       "      <th>2</th>\n",
       "      <td>2018-01-01</td>\n",
       "      <td>143</td>\n",
       "      <td>89</td>\n",
       "    </tr>\n",
       "    <tr>\n",
       "      <th>3</th>\n",
       "      <td>2018-02-01</td>\n",
       "      <td>112</td>\n",
       "      <td>67</td>\n",
       "    </tr>\n",
       "    <tr>\n",
       "      <th>4</th>\n",
       "      <td>2018-12-31</td>\n",
       "      <td>156</td>\n",
       "      <td>85</td>\n",
       "    </tr>\n",
       "  </tbody>\n",
       "</table>\n",
       "</div>"
      ],
      "text/plain": [
       "         date  aws_id  hm_max\n",
       "0  2018-01-01     108      91\n",
       "1  2018-01-01     159      25\n",
       "2  2018-01-01     143      89\n",
       "3  2018-02-01     112      67\n",
       "4  2018-12-31     156      85"
      ]
     },
     "execution_count": 15,
     "metadata": {
      "tags": []
     },
     "output_type": "execute_result"
    }
   ],
   "source": [
    "example"
   ]
  },
  {
   "cell_type": "code",
   "execution_count": null,
   "metadata": {
    "id": "rrDJln5XR4-G"
   },
   "outputs": [],
   "source": [
    "daily_score = score(example, 'hm_max')"
   ]
  },
  {
   "cell_type": "code",
   "execution_count": null,
   "metadata": {
    "colab": {
     "base_uri": "https://localhost:8080/",
     "height": 142
    },
    "executionInfo": {
     "elapsed": 519,
     "status": "ok",
     "timestamp": 1621718847532,
     "user": {
      "displayName": "‎김보민(자연과학대학 통계학과)",
      "photoUrl": "",
      "userId": "15390259587588584717"
     },
     "user_tz": -540
    },
    "id": "oqTB0Oju-cDr",
    "outputId": "fd985ea4-5d86-4a1f-c401-7e3a8542243a"
   },
   "outputs": [
    {
     "data": {
      "text/html": [
       "<div>\n",
       "<style scoped>\n",
       "    .dataframe tbody tr th:only-of-type {\n",
       "        vertical-align: middle;\n",
       "    }\n",
       "\n",
       "    .dataframe tbody tr th {\n",
       "        vertical-align: top;\n",
       "    }\n",
       "\n",
       "    .dataframe thead th {\n",
       "        text-align: right;\n",
       "    }\n",
       "</style>\n",
       "<table border=\"1\" class=\"dataframe\">\n",
       "  <thead>\n",
       "    <tr style=\"text-align: right;\">\n",
       "      <th></th>\n",
       "      <th>date</th>\n",
       "      <th>score</th>\n",
       "    </tr>\n",
       "  </thead>\n",
       "  <tbody>\n",
       "    <tr>\n",
       "      <th>0</th>\n",
       "      <td>2018-01-01</td>\n",
       "      <td>66.454444</td>\n",
       "    </tr>\n",
       "    <tr>\n",
       "      <th>1</th>\n",
       "      <td>2018-02-01</td>\n",
       "      <td>65.436667</td>\n",
       "    </tr>\n",
       "    <tr>\n",
       "      <th>2</th>\n",
       "      <td>2018-12-31</td>\n",
       "      <td>77.775000</td>\n",
       "    </tr>\n",
       "  </tbody>\n",
       "</table>\n",
       "</div>"
      ],
      "text/plain": [
       "        date      score\n",
       "0 2018-01-01  66.454444\n",
       "1 2018-02-01  65.436667\n",
       "2 2018-12-31  77.775000"
      ]
     },
     "execution_count": 50,
     "metadata": {
      "tags": []
     },
     "output_type": "execute_result"
    }
   ],
   "source": [
    "daily_score"
   ]
  },
  {
   "cell_type": "code",
   "execution_count": null,
   "metadata": {
    "colab": {
     "base_uri": "https://localhost:8080/"
    },
    "executionInfo": {
     "elapsed": 319,
     "status": "ok",
     "timestamp": 1621718767690,
     "user": {
      "displayName": "‎김보민(자연과학대학 통계학과)",
      "photoUrl": "",
      "userId": "15390259587588584717"
     },
     "user_tz": -540
    },
    "id": "nysBMkVFTile",
    "outputId": "b731e248-c0d5-4983-930e-65e15e6509a7"
   },
   "outputs": [
    {
     "name": "stdout",
     "output_type": "stream",
     "text": [
      "13    90.696667\n",
      "Name: value, dtype: float64\n",
      "7    23.375\n",
      "Name: value, dtype: float64\n",
      "5    85.291667\n",
      "Name: value, dtype: float64\n"
     ]
    }
   ],
   "source": [
    "# 확인\n",
    "print((df_melt[(df_melt['yymm']=='201801')&(df_melt['시도']=='서울')].value/100)*91)\n",
    "print((df_melt[(df_melt['yymm']=='201801')&(df_melt['시도']=='부산')].value/100)*25)\n",
    "print((df_melt[(df_melt['yymm']=='201801')&(df_melt['시도']=='대구경북')].value/100)*89)"
   ]
  },
  {
   "cell_type": "code",
   "execution_count": null,
   "metadata": {
    "colab": {
     "base_uri": "https://localhost:8080/"
    },
    "executionInfo": {
     "elapsed": 247,
     "status": "ok",
     "timestamp": 1621718781081,
     "user": {
      "displayName": "‎김보민(자연과학대학 통계학과)",
      "photoUrl": "",
      "userId": "15390259587588584717"
     },
     "user_tz": -540
    },
    "id": "TNdIx4qp8F86",
    "outputId": "1f34a945-3e54-4e09-ac28-1202d545e803"
   },
   "outputs": [
    {
     "data": {
      "text/plain": [
       "66.45444466666667"
      ]
     },
     "execution_count": 47,
     "metadata": {
      "tags": []
     },
     "output_type": "execute_result"
    }
   ],
   "source": [
    "# 확인\n",
    "(sum([90.696667,23.375,85.291667])/3)"
   ]
  },
  {
   "cell_type": "markdown",
   "metadata": {
    "id": "1kQtMAjwqoj4"
   },
   "source": [
    "# 3. 날씨 지수"
   ]
  },
  {
   "cell_type": "markdown",
   "metadata": {
    "id": "84zj91a-rcd7"
   },
   "source": [
    "## 0. Data Load"
   ]
  },
  {
   "cell_type": "code",
   "execution_count": null,
   "metadata": {
    "id": "j2_CJJLorX-t"
   },
   "outputs": [],
   "source": [
    "weather1 = pd.read_csv('weather1819.csv')\n",
    "weather2 = pd.read_csv('weather1819_2.csv', encoding='CP949')\n",
    "weather3 = pd.read_csv('weather_final.csv',encoding='CP949')\n",
    "customer = pd.read_csv('소비자심리지수.csv',encoding='CP949')\n",
    "online = pd.read_csv('data.csv',encoding='CP949')"
   ]
  },
  {
   "cell_type": "code",
   "execution_count": null,
   "metadata": {
    "colab": {
     "base_uri": "https://localhost:8080/",
     "height": 111
    },
    "executionInfo": {
     "elapsed": 430,
     "status": "ok",
     "timestamp": 1622097040670,
     "user": {
      "displayName": "‎김보민(자연과학대학 통계학과)",
      "photoUrl": "",
      "userId": "15390259587588584717"
     },
     "user_tz": -540
    },
    "id": "xZ8UP2KZFziq",
    "outputId": "6fe3f54a-e248-43a1-f1bd-020e816cc2ec"
   },
   "outputs": [
    {
     "data": {
      "text/html": [
       "<div>\n",
       "<style scoped>\n",
       "    .dataframe tbody tr th:only-of-type {\n",
       "        vertical-align: middle;\n",
       "    }\n",
       "\n",
       "    .dataframe tbody tr th {\n",
       "        vertical-align: top;\n",
       "    }\n",
       "\n",
       "    .dataframe thead th {\n",
       "        text-align: right;\n",
       "    }\n",
       "</style>\n",
       "<table border=\"1\" class=\"dataframe\">\n",
       "  <thead>\n",
       "    <tr style=\"text-align: right;\">\n",
       "      <th></th>\n",
       "      <th>date</th>\n",
       "      <th>stn_id</th>\n",
       "      <th>avg_ta</th>\n",
       "      <th>max_ta</th>\n",
       "      <th>min_ta</th>\n",
       "      <th>rn_day</th>\n",
       "      <th>rn_hr1</th>\n",
       "      <th>avg_ws</th>\n",
       "    </tr>\n",
       "  </thead>\n",
       "  <tbody>\n",
       "    <tr>\n",
       "      <th>0</th>\n",
       "      <td>2018-01-01</td>\n",
       "      <td>105</td>\n",
       "      <td>1.3</td>\n",
       "      <td>5.7</td>\n",
       "      <td>-2.1</td>\n",
       "      <td>0.0</td>\n",
       "      <td>0.0</td>\n",
       "      <td>3.7</td>\n",
       "    </tr>\n",
       "    <tr>\n",
       "      <th>1</th>\n",
       "      <td>2018-01-01</td>\n",
       "      <td>112</td>\n",
       "      <td>-0.3</td>\n",
       "      <td>2.7</td>\n",
       "      <td>-2.7</td>\n",
       "      <td>0.0</td>\n",
       "      <td>0.0</td>\n",
       "      <td>1.6</td>\n",
       "    </tr>\n",
       "  </tbody>\n",
       "</table>\n",
       "</div>"
      ],
      "text/plain": [
       "         date  stn_id  avg_ta  max_ta  min_ta  rn_day  rn_hr1  avg_ws\n",
       "0  2018-01-01     105     1.3     5.7    -2.1     0.0     0.0     3.7\n",
       "1  2018-01-01     112    -0.3     2.7    -2.7     0.0     0.0     1.6"
      ]
     },
     "execution_count": 80,
     "metadata": {
      "tags": []
     },
     "output_type": "execute_result"
    }
   ],
   "source": [
    "weather1.head(2)"
   ]
  },
  {
   "cell_type": "code",
   "execution_count": null,
   "metadata": {
    "colab": {
     "base_uri": "https://localhost:8080/",
     "height": 111
    },
    "executionInfo": {
     "elapsed": 406,
     "status": "ok",
     "timestamp": 1622097030929,
     "user": {
      "displayName": "‎김보민(자연과학대학 통계학과)",
      "photoUrl": "",
      "userId": "15390259587588584717"
     },
     "user_tz": -540
    },
    "id": "lTh4jEp1GJX1",
    "outputId": "f8dc9d16-78da-4a94-c8db-249d71d7eb08"
   },
   "outputs": [
    {
     "data": {
      "text/html": [
       "<div>\n",
       "<style scoped>\n",
       "    .dataframe tbody tr th:only-of-type {\n",
       "        vertical-align: middle;\n",
       "    }\n",
       "\n",
       "    .dataframe tbody tr th {\n",
       "        vertical-align: top;\n",
       "    }\n",
       "\n",
       "    .dataframe thead th {\n",
       "        text-align: right;\n",
       "    }\n",
       "</style>\n",
       "<table border=\"1\" class=\"dataframe\">\n",
       "  <thead>\n",
       "    <tr style=\"text-align: right;\">\n",
       "      <th></th>\n",
       "      <th>Unnamed: 0</th>\n",
       "      <th>date</th>\n",
       "      <th>aws_id</th>\n",
       "      <th>region</th>\n",
       "      <th>PM10</th>\n",
       "      <th>PM25</th>\n",
       "      <th>hm_max</th>\n",
       "      <th>sum_ss_hr</th>\n",
       "      <th>max_pa</th>\n",
       "    </tr>\n",
       "  </thead>\n",
       "  <tbody>\n",
       "    <tr>\n",
       "      <th>0</th>\n",
       "      <td>0</td>\n",
       "      <td>2018-01-01</td>\n",
       "      <td>105</td>\n",
       "      <td>강릉</td>\n",
       "      <td>20.066667</td>\n",
       "      <td>13.400000</td>\n",
       "      <td>25.4</td>\n",
       "      <td>57.9</td>\n",
       "      <td>1023.0</td>\n",
       "    </tr>\n",
       "    <tr>\n",
       "      <th>1</th>\n",
       "      <td>1</td>\n",
       "      <td>2018-01-01</td>\n",
       "      <td>108</td>\n",
       "      <td>서울</td>\n",
       "      <td>42.307692</td>\n",
       "      <td>21.470696</td>\n",
       "      <td>57.1</td>\n",
       "      <td>51.6</td>\n",
       "      <td>1018.1</td>\n",
       "    </tr>\n",
       "  </tbody>\n",
       "</table>\n",
       "</div>"
      ],
      "text/plain": [
       "   Unnamed: 0        date  aws_id region  ...       PM25  hm_max  sum_ss_hr  max_pa\n",
       "0           0  2018-01-01     105     강릉  ...  13.400000    25.4       57.9  1023.0\n",
       "1           1  2018-01-01     108     서울  ...  21.470696    57.1       51.6  1018.1\n",
       "\n",
       "[2 rows x 9 columns]"
      ]
     },
     "execution_count": 79,
     "metadata": {
      "tags": []
     },
     "output_type": "execute_result"
    }
   ],
   "source": [
    "weather2.head(2)"
   ]
  },
  {
   "cell_type": "code",
   "execution_count": null,
   "metadata": {
    "colab": {
     "base_uri": "https://localhost:8080/",
     "height": 182
    },
    "executionInfo": {
     "elapsed": 352,
     "status": "ok",
     "timestamp": 1622090036264,
     "user": {
      "displayName": "‎김보민(자연과학대학 통계학과)",
      "photoUrl": "",
      "userId": "15390259587588584717"
     },
     "user_tz": -540
    },
    "id": "4dX7dRU_GLTI",
    "outputId": "c7dfe181-c591-4a98-d186-accfc18e4018"
   },
   "outputs": [
    {
     "data": {
      "text/html": [
       "<div>\n",
       "<style scoped>\n",
       "    .dataframe tbody tr th:only-of-type {\n",
       "        vertical-align: middle;\n",
       "    }\n",
       "\n",
       "    .dataframe tbody tr th {\n",
       "        vertical-align: top;\n",
       "    }\n",
       "\n",
       "    .dataframe thead th {\n",
       "        text-align: right;\n",
       "    }\n",
       "</style>\n",
       "<table border=\"1\" class=\"dataframe\">\n",
       "  <thead>\n",
       "    <tr style=\"text-align: right;\">\n",
       "      <th></th>\n",
       "      <th>시도</th>\n",
       "      <th>2018. 01</th>\n",
       "      <th>2018. 02</th>\n",
       "      <th>2018. 03</th>\n",
       "      <th>2018. 04</th>\n",
       "      <th>2018. 05</th>\n",
       "      <th>2018. 06</th>\n",
       "      <th>2018. 07</th>\n",
       "      <th>2018. 08</th>\n",
       "      <th>2018. 09</th>\n",
       "      <th>2018. 10</th>\n",
       "      <th>2018. 11</th>\n",
       "      <th>2018. 12</th>\n",
       "      <th>2019. 01</th>\n",
       "      <th>2019. 02</th>\n",
       "      <th>2019. 03</th>\n",
       "      <th>2019. 04</th>\n",
       "      <th>2019. 05</th>\n",
       "      <th>2019. 06</th>\n",
       "      <th>2019. 07</th>\n",
       "      <th>2019. 08</th>\n",
       "      <th>2019. 09</th>\n",
       "      <th>2019. 10</th>\n",
       "      <th>2019. 11</th>\n",
       "      <th>2019. 12</th>\n",
       "      <th>2020. 01</th>\n",
       "      <th>2020. 02</th>\n",
       "      <th>2020. 03</th>\n",
       "      <th>2020. 04</th>\n",
       "      <th>2020. 05</th>\n",
       "      <th>2020. 06</th>\n",
       "      <th>2020. 07</th>\n",
       "      <th>2020. 08</th>\n",
       "      <th>2020. 09</th>\n",
       "      <th>2020. 10</th>\n",
       "      <th>2020. 11</th>\n",
       "      <th>2020. 12</th>\n",
       "    </tr>\n",
       "  </thead>\n",
       "  <tbody>\n",
       "    <tr>\n",
       "      <th>0</th>\n",
       "      <td>강릉</td>\n",
       "      <td>102.500000</td>\n",
       "      <td>98.333333</td>\n",
       "      <td>101.333333</td>\n",
       "      <td>97.333333</td>\n",
       "      <td>101.833333</td>\n",
       "      <td>99.0</td>\n",
       "      <td>97.666667</td>\n",
       "      <td>93.0</td>\n",
       "      <td>86.166667</td>\n",
       "      <td>86.333333</td>\n",
       "      <td>82.166667</td>\n",
       "      <td>82.666667</td>\n",
       "      <td>86.666667</td>\n",
       "      <td>88.0</td>\n",
       "      <td>87.500000</td>\n",
       "      <td>87.000000</td>\n",
       "      <td>84.166667</td>\n",
       "      <td>86.333333</td>\n",
       "      <td>86.166667</td>\n",
       "      <td>83.166667</td>\n",
       "      <td>87.333333</td>\n",
       "      <td>86.833333</td>\n",
       "      <td>88.500000</td>\n",
       "      <td>87.666667</td>\n",
       "      <td>89.666667</td>\n",
       "      <td>86.666667</td>\n",
       "      <td>70.000000</td>\n",
       "      <td>67.166667</td>\n",
       "      <td>75.000000</td>\n",
       "      <td>79.000000</td>\n",
       "      <td>79.000000</td>\n",
       "      <td>80.000000</td>\n",
       "      <td>71.333333</td>\n",
       "      <td>78.833333</td>\n",
       "      <td>83.833333</td>\n",
       "      <td>78.333333</td>\n",
       "    </tr>\n",
       "    <tr>\n",
       "      <th>1</th>\n",
       "      <td>강원</td>\n",
       "      <td>103.166667</td>\n",
       "      <td>100.000000</td>\n",
       "      <td>101.666667</td>\n",
       "      <td>98.333333</td>\n",
       "      <td>101.833333</td>\n",
       "      <td>98.5</td>\n",
       "      <td>95.000000</td>\n",
       "      <td>91.5</td>\n",
       "      <td>86.000000</td>\n",
       "      <td>87.333333</td>\n",
       "      <td>84.500000</td>\n",
       "      <td>84.500000</td>\n",
       "      <td>87.000000</td>\n",
       "      <td>88.5</td>\n",
       "      <td>88.166667</td>\n",
       "      <td>89.833333</td>\n",
       "      <td>86.833333</td>\n",
       "      <td>87.166667</td>\n",
       "      <td>87.000000</td>\n",
       "      <td>84.666667</td>\n",
       "      <td>88.166667</td>\n",
       "      <td>88.166667</td>\n",
       "      <td>88.333333</td>\n",
       "      <td>88.833333</td>\n",
       "      <td>90.666667</td>\n",
       "      <td>88.000000</td>\n",
       "      <td>72.833333</td>\n",
       "      <td>70.000000</td>\n",
       "      <td>75.666667</td>\n",
       "      <td>78.166667</td>\n",
       "      <td>79.166667</td>\n",
       "      <td>80.666667</td>\n",
       "      <td>72.833333</td>\n",
       "      <td>81.166667</td>\n",
       "      <td>85.000000</td>\n",
       "      <td>78.833333</td>\n",
       "    </tr>\n",
       "  </tbody>\n",
       "</table>\n",
       "</div>"
      ],
      "text/plain": [
       "   시도    2018. 01    2018. 02  ...   2020. 10   2020. 11   2020. 12\n",
       "0  강릉  102.500000   98.333333  ...  78.833333  83.833333  78.333333\n",
       "1  강원  103.166667  100.000000  ...  81.166667  85.000000  78.833333\n",
       "\n",
       "[2 rows x 37 columns]"
      ]
     },
     "execution_count": 15,
     "metadata": {
      "tags": []
     },
     "output_type": "execute_result"
    }
   ],
   "source": [
    "customer.head(2)"
   ]
  },
  {
   "cell_type": "code",
   "execution_count": null,
   "metadata": {
    "colab": {
     "base_uri": "https://localhost:8080/",
     "height": 111
    },
    "executionInfo": {
     "elapsed": 314,
     "status": "ok",
     "timestamp": 1622090134962,
     "user": {
      "displayName": "‎김보민(자연과학대학 통계학과)",
      "photoUrl": "",
      "userId": "15390259587588584717"
     },
     "user_tz": -540
    },
    "id": "UwENbWcMGbCx",
    "outputId": "016f36f0-acfd-4cea-bbab-188286026e90"
   },
   "outputs": [
    {
     "data": {
      "text/html": [
       "<div>\n",
       "<style scoped>\n",
       "    .dataframe tbody tr th:only-of-type {\n",
       "        vertical-align: middle;\n",
       "    }\n",
       "\n",
       "    .dataframe tbody tr th {\n",
       "        vertical-align: top;\n",
       "    }\n",
       "\n",
       "    .dataframe thead th {\n",
       "        text-align: right;\n",
       "    }\n",
       "</style>\n",
       "<table border=\"1\" class=\"dataframe\">\n",
       "  <thead>\n",
       "    <tr style=\"text-align: right;\">\n",
       "      <th></th>\n",
       "      <th>date</th>\n",
       "      <th>sex</th>\n",
       "      <th>age</th>\n",
       "      <th>big_cat</th>\n",
       "      <th>sm_cat</th>\n",
       "      <th>qty</th>\n",
       "      <th>cnt</th>\n",
       "    </tr>\n",
       "  </thead>\n",
       "  <tbody>\n",
       "    <tr>\n",
       "      <th>0</th>\n",
       "      <td>20180101</td>\n",
       "      <td>F</td>\n",
       "      <td>20</td>\n",
       "      <td>식품</td>\n",
       "      <td>가공란</td>\n",
       "      <td>37</td>\n",
       "      <td>0.480964</td>\n",
       "    </tr>\n",
       "    <tr>\n",
       "      <th>1</th>\n",
       "      <td>20180101</td>\n",
       "      <td>F</td>\n",
       "      <td>30</td>\n",
       "      <td>식품</td>\n",
       "      <td>가공란</td>\n",
       "      <td>16</td>\n",
       "      <td>0.480964</td>\n",
       "    </tr>\n",
       "  </tbody>\n",
       "</table>\n",
       "</div>"
      ],
      "text/plain": [
       "       date sex  age big_cat sm_cat  qty       cnt\n",
       "0  20180101   F   20      식품    가공란   37  0.480964\n",
       "1  20180101   F   30      식품    가공란   16  0.480964"
      ]
     },
     "execution_count": 19,
     "metadata": {
      "tags": []
     },
     "output_type": "execute_result"
    }
   ],
   "source": [
    "online.head(2)"
   ]
  },
  {
   "cell_type": "markdown",
   "metadata": {
    "id": "nXfVBbMtGrgZ"
   },
   "source": [
    "## 1. Data preprocessing"
   ]
  },
  {
   "cell_type": "code",
   "execution_count": null,
   "metadata": {
    "id": "mr8zvAHzGjO6"
   },
   "outputs": [],
   "source": [
    "# 데이터 재구조화\n",
    "df_melt = pd.melt(customer, id_vars=['시도'])"
   ]
  },
  {
   "cell_type": "code",
   "execution_count": null,
   "metadata": {
    "id": "DHkBMGNnKGmA"
   },
   "outputs": [],
   "source": [
    "# yymm 변수 생성\n",
    "df_melt['yymm'] = df_melt['variable'].apply(lambda x: x[:4] + x[6:8])"
   ]
  },
  {
   "cell_type": "code",
   "execution_count": null,
   "metadata": {
    "id": "9Cja2IiiJR3e"
   },
   "outputs": [],
   "source": [
    "# 열 이름 변경\n",
    "weather1.rename(columns={'stn_id':'aws_id'}, inplace=True)"
   ]
  },
  {
   "cell_type": "code",
   "execution_count": null,
   "metadata": {
    "id": "ujnS7cePG66U"
   },
   "outputs": [],
   "source": [
    "# 필요없는 열 제거\n",
    "weather2.drop(['Unnamed: 0'], axis=1, inplace=True)"
   ]
  },
  {
   "cell_type": "code",
   "execution_count": null,
   "metadata": {
    "id": "eqDxPZQWP5R7"
   },
   "outputs": [],
   "source": [
    "# 날짜 변수\n",
    "online['date'] = pd.to_datetime(online['date'], format='%Y%m%d')"
   ]
  },
  {
   "cell_type": "markdown",
   "metadata": {
    "id": "9C28yQKrHfBL"
   },
   "source": [
    "## 2. 소비자 심리지수 반영한 날씨지수 "
   ]
  },
  {
   "cell_type": "code",
   "execution_count": null,
   "metadata": {
    "id": "H_-0ArRfHOeT"
   },
   "outputs": [],
   "source": [
    "def score(data, col_name):\n",
    "    # 데이터 전처리\n",
    "    data['시도'] = data['aws_id'].map({108:'서울', 159:'부산', 143:'대구', 112:'인천', 156:'광주',\n",
    "                                     133:'대전', 152:'울산', 119:'경기', 105:'강원', 131:'충북', 232:'충남',\n",
    "                                     146:'전북', 168:'전남', 136:'경북', 155:'경남', 184:'제주'})\n",
    "    data['date'] = pd.to_datetime(data['date'], format='%Y-%m-%d')\n",
    "    data['year'] = data['date'].dt.year\n",
    "    data['month'] = data['date'].dt.month\n",
    "    data['yymm'] = data['year'].map(str) + data['month'].apply(lambda x: str(x) if x >= 10 else '0'+str(x))\n",
    "\n",
    "    # score 계산\n",
    "    data['score'] = np.nan\n",
    "    for i in tqdm(range(len(data))):\n",
    "        for j in range(len(df_melt)):\n",
    "            if (data.loc[i,'yymm'] == df_melt.loc[j,'yymm']) & (data.loc[i,'시도'] in df_melt.loc[j,'시도']):\n",
    "                data.loc[i,'score'] = data.loc[i,col_name]*(df_melt.loc[j,'value']/100)\n",
    "    return pd.DataFrame(data.groupby(['date'])['score'].mean()).reset_index()"
   ]
  },
  {
   "cell_type": "code",
   "execution_count": null,
   "metadata": {
    "colab": {
     "base_uri": "https://localhost:8080/"
    },
    "executionInfo": {
     "elapsed": 420,
     "status": "ok",
     "timestamp": 1622097170374,
     "user": {
      "displayName": "‎김보민(자연과학대학 통계학과)",
      "photoUrl": "",
      "userId": "15390259587588584717"
     },
     "user_tz": -540
    },
    "id": "8sec7yZBHqY7",
    "outputId": "a580edd4-3e55-40bf-95db-ab3299e6b619"
   },
   "outputs": [
    {
     "name": "stdout",
     "output_type": "stream",
     "text": [
      "[105, 108, 112, 119, 131, 133, 136, 143, 146, 152, 155, 156, 159, 168, 184, 232]\n",
      "[105, 108, 112, 119, 131, 133, 136, 143, 146, 152, 155, 156, 159, 168, 184, 232]\n"
     ]
    }
   ],
   "source": [
    "print(sorted(weather1.aws_id.unique()))\n",
    "print(sorted(weather2.aws_id.unique()))"
   ]
  },
  {
   "cell_type": "code",
   "execution_count": null,
   "metadata": {
    "colab": {
     "base_uri": "https://localhost:8080/"
    },
    "executionInfo": {
     "elapsed": 311,
     "status": "ok",
     "timestamp": 1622097317224,
     "user": {
      "displayName": "‎김보민(자연과학대학 통계학과)",
      "photoUrl": "",
      "userId": "15390259587588584717"
     },
     "user_tz": -540
    },
    "id": "ZyIt3qzlITrO",
    "outputId": "021c5659-8bd5-45e1-bd47-f9c4121462f3"
   },
   "outputs": [
    {
     "name": "stdout",
     "output_type": "stream",
     "text": [
      "['date', 'aws_id', 'avg_ta', 'max_ta', 'min_ta', 'rn_day', 'rn_hr1', 'avg_ws']\n",
      "['date', 'aws_id', 'region', 'PM10', 'PM25', 'hm_max', 'sum_ss_hr', 'max_pa']\n"
     ]
    }
   ],
   "source": [
    "print(weather1.columns.tolist())\n",
    "print(weather2.columns.tolist())"
   ]
  },
  {
   "cell_type": "code",
   "execution_count": null,
   "metadata": {
    "colab": {
     "base_uri": "https://localhost:8080/",
     "height": 111
    },
    "executionInfo": {
     "elapsed": 313,
     "status": "ok",
     "timestamp": 1622097175070,
     "user": {
      "displayName": "‎김보민(자연과학대학 통계학과)",
      "photoUrl": "",
      "userId": "15390259587588584717"
     },
     "user_tz": -540
    },
    "id": "vK7XuNjKIVpI",
    "outputId": "99f8e348-afc3-464f-a111-b6dc990902e0"
   },
   "outputs": [
    {
     "data": {
      "text/html": [
       "<div>\n",
       "<style scoped>\n",
       "    .dataframe tbody tr th:only-of-type {\n",
       "        vertical-align: middle;\n",
       "    }\n",
       "\n",
       "    .dataframe tbody tr th {\n",
       "        vertical-align: top;\n",
       "    }\n",
       "\n",
       "    .dataframe thead th {\n",
       "        text-align: right;\n",
       "    }\n",
       "</style>\n",
       "<table border=\"1\" class=\"dataframe\">\n",
       "  <thead>\n",
       "    <tr style=\"text-align: right;\">\n",
       "      <th></th>\n",
       "      <th>date</th>\n",
       "      <th>aws_id</th>\n",
       "      <th>avg_ta</th>\n",
       "      <th>max_ta</th>\n",
       "      <th>min_ta</th>\n",
       "      <th>rn_day</th>\n",
       "      <th>rn_hr1</th>\n",
       "      <th>avg_ws</th>\n",
       "    </tr>\n",
       "  </thead>\n",
       "  <tbody>\n",
       "    <tr>\n",
       "      <th>0</th>\n",
       "      <td>2018-01-01</td>\n",
       "      <td>105</td>\n",
       "      <td>1.3</td>\n",
       "      <td>5.7</td>\n",
       "      <td>-2.1</td>\n",
       "      <td>0.0</td>\n",
       "      <td>0.0</td>\n",
       "      <td>3.7</td>\n",
       "    </tr>\n",
       "    <tr>\n",
       "      <th>1</th>\n",
       "      <td>2018-01-01</td>\n",
       "      <td>112</td>\n",
       "      <td>-0.3</td>\n",
       "      <td>2.7</td>\n",
       "      <td>-2.7</td>\n",
       "      <td>0.0</td>\n",
       "      <td>0.0</td>\n",
       "      <td>1.6</td>\n",
       "    </tr>\n",
       "  </tbody>\n",
       "</table>\n",
       "</div>"
      ],
      "text/plain": [
       "         date  aws_id  avg_ta  max_ta  min_ta  rn_day  rn_hr1  avg_ws\n",
       "0  2018-01-01     105     1.3     5.7    -2.1     0.0     0.0     3.7\n",
       "1  2018-01-01     112    -0.3     2.7    -2.7     0.0     0.0     1.6"
      ]
     },
     "execution_count": 86,
     "metadata": {
      "tags": []
     },
     "output_type": "execute_result"
    }
   ],
   "source": [
    "weather1.head(2)"
   ]
  },
  {
   "cell_type": "code",
   "execution_count": null,
   "metadata": {
    "id": "_K7hBPnAHyKs"
   },
   "outputs": [],
   "source": [
    "# weather1에 대한 날씨지수\n",
    "avg_ta = score(weather1, 'avg_ta')\n",
    "max_ta = score(weather1, 'max_ta')\n",
    "min_ta = score(weather1, 'min_ta')\n",
    "rn_day = score(weather1, 'rn_day')\n",
    "rn_hr1 = score(weather1, 'rn_hr1')\n",
    "avg_ws = score(weather1, 'avg_ws')"
   ]
  },
  {
   "cell_type": "code",
   "execution_count": null,
   "metadata": {
    "id": "ZRuizkNaPR7B"
   },
   "outputs": [],
   "source": [
    "# 열 이름 변경\n",
    "avg_ta.columns = ['date', 'avg_ta']\n",
    "max_ta.columns = ['date', 'max_ta']\n",
    "min_ta.columns = ['date', 'min_ta']\n",
    "rn_day.columns = ['date', 'rn_day']\n",
    "rn_hr1.columns = ['date', 'rn_hr1']\n",
    "avg_ws.columns = ['date', 'avg_ws']"
   ]
  },
  {
   "cell_type": "code",
   "execution_count": null,
   "metadata": {
    "colab": {
     "base_uri": "https://localhost:8080/",
     "height": 111
    },
    "executionInfo": {
     "elapsed": 290,
     "status": "ok",
     "timestamp": 1622097200373,
     "user": {
      "displayName": "‎김보민(자연과학대학 통계학과)",
      "photoUrl": "",
      "userId": "15390259587588584717"
     },
     "user_tz": -540
    },
    "id": "mnPTz9P2JKGt",
    "outputId": "8e399ff0-fdc1-4155-91b8-c91e17dca497"
   },
   "outputs": [
    {
     "data": {
      "text/html": [
       "<div>\n",
       "<style scoped>\n",
       "    .dataframe tbody tr th:only-of-type {\n",
       "        vertical-align: middle;\n",
       "    }\n",
       "\n",
       "    .dataframe tbody tr th {\n",
       "        vertical-align: top;\n",
       "    }\n",
       "\n",
       "    .dataframe thead th {\n",
       "        text-align: right;\n",
       "    }\n",
       "</style>\n",
       "<table border=\"1\" class=\"dataframe\">\n",
       "  <thead>\n",
       "    <tr style=\"text-align: right;\">\n",
       "      <th></th>\n",
       "      <th>date</th>\n",
       "      <th>aws_id</th>\n",
       "      <th>region</th>\n",
       "      <th>PM10</th>\n",
       "      <th>PM25</th>\n",
       "      <th>hm_max</th>\n",
       "      <th>sum_ss_hr</th>\n",
       "      <th>max_pa</th>\n",
       "    </tr>\n",
       "  </thead>\n",
       "  <tbody>\n",
       "    <tr>\n",
       "      <th>0</th>\n",
       "      <td>2018-01-01</td>\n",
       "      <td>105</td>\n",
       "      <td>강릉</td>\n",
       "      <td>20.066667</td>\n",
       "      <td>13.400000</td>\n",
       "      <td>25.4</td>\n",
       "      <td>57.9</td>\n",
       "      <td>1023.0</td>\n",
       "    </tr>\n",
       "    <tr>\n",
       "      <th>1</th>\n",
       "      <td>2018-01-01</td>\n",
       "      <td>108</td>\n",
       "      <td>서울</td>\n",
       "      <td>42.307692</td>\n",
       "      <td>21.470696</td>\n",
       "      <td>57.1</td>\n",
       "      <td>51.6</td>\n",
       "      <td>1018.1</td>\n",
       "    </tr>\n",
       "  </tbody>\n",
       "</table>\n",
       "</div>"
      ],
      "text/plain": [
       "         date  aws_id region       PM10       PM25  hm_max  sum_ss_hr  max_pa\n",
       "0  2018-01-01     105     강릉  20.066667  13.400000    25.4       57.9  1023.0\n",
       "1  2018-01-01     108     서울  42.307692  21.470696    57.1       51.6  1018.1"
      ]
     },
     "execution_count": 87,
     "metadata": {
      "tags": []
     },
     "output_type": "execute_result"
    }
   ],
   "source": [
    "weather2.head(2)"
   ]
  },
  {
   "cell_type": "code",
   "execution_count": null,
   "metadata": {
    "colab": {
     "base_uri": "https://localhost:8080/",
     "height": 262,
     "referenced_widgets": [
      "fe89d4a19237480eadcb2faeaf31541f",
      "08082957564b42d2aafc10748214b28c",
      "0676a73db8e34ee5a53faa1deb960d63",
      "319e0b16eda040b58c8a28eb202a190a",
      "ebbb773d9d2c438188a85d3690f6073b",
      "65aff0910b8b4353b14dceae7aa14991",
      "ae33f3ef9c2e40e4bfd9df2122e1f5ec",
      "cde51159dbcc4295b61c8e98dda68c34",
      "37a1cff7bfe9400f89d61e87ff636dd3",
      "66fcaa39c9d842beba97a842e7d39076",
      "5e263ac4213042f2adbbe6580c9153ae",
      "7ee14ff5dcb449ddbc2316cbdcf223a1",
      "c4b5d24b0a344cc0a48887d1505863b5",
      "0c18a8cd03be4e6cb0239fe96e6326cc",
      "d877f8a52bd64b138664ce47cd0a8526",
      "9363b15e8d294947b4869dda45b9ea34",
      "62e7fda835d54fa69076e08c16735911",
      "b88ce4b4e35746ac861fd86810d9690c",
      "dbeeaff7ed9d4c72b0631544e04832bf",
      "8ab32fa1815548ac9b48464ecb51c789",
      "faeb0f14be234df4a3317f71cac88bae",
      "58161ba8ae0144d9859952deefc9edac",
      "e9fd6e023ddc410ca5ae05e7e1a2b27b",
      "1ec581254a6e4552836a144563399444",
      "759488df8b1f4844b4e47e90019e35ef",
      "a8af04549b91462fae84ee48bb2eeba1",
      "6f4eb401e92b445d88ab3f8cb9949663",
      "06fc151f4eed4ed4a84867b1914cf0cf",
      "eb7f49e9eb9642578e9e8e07ad0b2a40",
      "481ecf436f4448f899484344ac7742a9",
      "88ff0913ab544380a56157d2e1a514a9",
      "0fcd6225c41c41f4af7b9d31152761a4",
      "4064a2d23aff4c78987f0d4ae43f476e",
      "6e9d582c72ac473e9edc3edc28daf645",
      "f46b5d5b5ae0424a803e1ffb8f1f55fa",
      "0185bb67010b4c769c1f76ceeaa0d74d",
      "078c6724ff264c459f5e441171514932",
      "01de39cbd64b4fc6bb81040b1979db76",
      "a6b7265f48604a89b4dbd59203003abd",
      "b71dd2332d88411a9fb24f20dc12e048"
     ]
    },
    "executionInfo": {
     "elapsed": 1004339,
     "status": "ok",
     "timestamp": 1622098392715,
     "user": {
      "displayName": "‎김보민(자연과학대학 통계학과)",
      "photoUrl": "",
      "userId": "15390259587588584717"
     },
     "user_tz": -540
    },
    "id": "0zJ1_PsJhxaR",
    "outputId": "a834c6fd-2c09-496e-9fd4-054cf8f756b3"
   },
   "outputs": [
    {
     "data": {
      "application/vnd.jupyter.widget-view+json": {
       "model_id": "fe89d4a19237480eadcb2faeaf31541f",
       "version_major": 2,
       "version_minor": 0
      },
      "text/plain": [
       "HBox(children=(FloatProgress(value=0.0, max=11680.0), HTML(value='')))"
      ]
     },
     "metadata": {
      "tags": []
     },
     "output_type": "display_data"
    },
    {
     "name": "stdout",
     "output_type": "stream",
     "text": [
      "\n"
     ]
    },
    {
     "data": {
      "application/vnd.jupyter.widget-view+json": {
       "model_id": "37a1cff7bfe9400f89d61e87ff636dd3",
       "version_major": 2,
       "version_minor": 0
      },
      "text/plain": [
       "HBox(children=(FloatProgress(value=0.0, max=11680.0), HTML(value='')))"
      ]
     },
     "metadata": {
      "tags": []
     },
     "output_type": "display_data"
    },
    {
     "name": "stdout",
     "output_type": "stream",
     "text": [
      "\n"
     ]
    },
    {
     "data": {
      "application/vnd.jupyter.widget-view+json": {
       "model_id": "62e7fda835d54fa69076e08c16735911",
       "version_major": 2,
       "version_minor": 0
      },
      "text/plain": [
       "HBox(children=(FloatProgress(value=0.0, max=11680.0), HTML(value='')))"
      ]
     },
     "metadata": {
      "tags": []
     },
     "output_type": "display_data"
    },
    {
     "name": "stdout",
     "output_type": "stream",
     "text": [
      "\n"
     ]
    },
    {
     "data": {
      "application/vnd.jupyter.widget-view+json": {
       "model_id": "759488df8b1f4844b4e47e90019e35ef",
       "version_major": 2,
       "version_minor": 0
      },
      "text/plain": [
       "HBox(children=(FloatProgress(value=0.0, max=11680.0), HTML(value='')))"
      ]
     },
     "metadata": {
      "tags": []
     },
     "output_type": "display_data"
    },
    {
     "name": "stdout",
     "output_type": "stream",
     "text": [
      "\n"
     ]
    },
    {
     "data": {
      "application/vnd.jupyter.widget-view+json": {
       "model_id": "4064a2d23aff4c78987f0d4ae43f476e",
       "version_major": 2,
       "version_minor": 0
      },
      "text/plain": [
       "HBox(children=(FloatProgress(value=0.0, max=11680.0), HTML(value='')))"
      ]
     },
     "metadata": {
      "tags": []
     },
     "output_type": "display_data"
    },
    {
     "name": "stdout",
     "output_type": "stream",
     "text": [
      "\n"
     ]
    }
   ],
   "source": [
    "# weather2에 대한 날씨지수\n",
    "PM10 = score(weather2, 'PM10')\n",
    "PM25 = score(weather2, 'PM25')\n",
    "hm_max = score(weather2, 'hm_max')\n",
    "sum_ss_hr = score(weather2, 'sum_ss_hr')\n",
    "max_pa = score(weather2, 'max_pa')"
   ]
  },
  {
   "cell_type": "code",
   "execution_count": null,
   "metadata": {
    "id": "fHvtp7dbilFR"
   },
   "outputs": [],
   "source": [
    "# 열 이름 변경\n",
    "PM10.columns = ['date', 'PM10']\n",
    "PM25.columns = ['date', 'PM25']\n",
    "hm_max.columns = ['date', 'hm_max']\n",
    "sum_ss_hr.columns = ['date', 'sum_ss_hr']\n",
    "max_pa.columns = ['date', 'max_pa']"
   ]
  },
  {
   "cell_type": "code",
   "execution_count": null,
   "metadata": {
    "id": "8_Uwd7BWJmo4"
   },
   "outputs": [],
   "source": [
    "# 여러 데이터 프레임 merge\n",
    "dfs2 = [PM10, PM25, hm_max, sum_ss_hr, max_pa]\n",
    "df_merge2 = reduce(lambda left, right: pd.merge(left, right, on='date'), dfs2)"
   ]
  },
  {
   "cell_type": "code",
   "execution_count": null,
   "metadata": {
    "colab": {
     "base_uri": "https://localhost:8080/",
     "height": 111
    },
    "executionInfo": {
     "elapsed": 5,
     "status": "ok",
     "timestamp": 1622098729322,
     "user": {
      "displayName": "‎김보민(자연과학대학 통계학과)",
      "photoUrl": "",
      "userId": "15390259587588584717"
     },
     "user_tz": -540
    },
    "id": "_GBhFbPXPhh-",
    "outputId": "9ab2b500-3f77-4c50-a4af-d06f966ff4bb"
   },
   "outputs": [
    {
     "data": {
      "text/html": [
       "<div>\n",
       "<style scoped>\n",
       "    .dataframe tbody tr th:only-of-type {\n",
       "        vertical-align: middle;\n",
       "    }\n",
       "\n",
       "    .dataframe tbody tr th {\n",
       "        vertical-align: top;\n",
       "    }\n",
       "\n",
       "    .dataframe thead th {\n",
       "        text-align: right;\n",
       "    }\n",
       "</style>\n",
       "<table border=\"1\" class=\"dataframe\">\n",
       "  <thead>\n",
       "    <tr style=\"text-align: right;\">\n",
       "      <th></th>\n",
       "      <th>date</th>\n",
       "      <th>PM10</th>\n",
       "      <th>PM25</th>\n",
       "      <th>hm_max</th>\n",
       "      <th>sum_ss_hr</th>\n",
       "      <th>max_pa</th>\n",
       "    </tr>\n",
       "  </thead>\n",
       "  <tbody>\n",
       "    <tr>\n",
       "      <th>0</th>\n",
       "      <td>2018-01-01</td>\n",
       "      <td>44.015611</td>\n",
       "      <td>21.477208</td>\n",
       "      <td>61.923313</td>\n",
       "      <td>52.276365</td>\n",
       "      <td>1020.592385</td>\n",
       "    </tr>\n",
       "    <tr>\n",
       "      <th>1</th>\n",
       "      <td>2018-01-02</td>\n",
       "      <td>59.179487</td>\n",
       "      <td>33.836826</td>\n",
       "      <td>74.169781</td>\n",
       "      <td>37.996677</td>\n",
       "      <td>1021.524802</td>\n",
       "    </tr>\n",
       "  </tbody>\n",
       "</table>\n",
       "</div>"
      ],
      "text/plain": [
       "        date       PM10       PM25     hm_max  sum_ss_hr       max_pa\n",
       "0 2018-01-01  44.015611  21.477208  61.923313  52.276365  1020.592385\n",
       "1 2018-01-02  59.179487  33.836826  74.169781  37.996677  1021.524802"
      ]
     },
     "execution_count": 94,
     "metadata": {
      "tags": []
     },
     "output_type": "execute_result"
    }
   ],
   "source": [
    "df_merge2.head(2)"
   ]
  },
  {
   "cell_type": "markdown",
   "metadata": {
    "id": "hLuuz5m5PrPy"
   },
   "source": [
    "## 3. 온라인 구매건수 merge"
   ]
  },
  {
   "cell_type": "code",
   "execution_count": null,
   "metadata": {
    "colab": {
     "base_uri": "https://localhost:8080/",
     "height": 111
    },
    "executionInfo": {
     "elapsed": 588,
     "status": "ok",
     "timestamp": 1622092557944,
     "user": {
      "displayName": "‎김보민(자연과학대학 통계학과)",
      "photoUrl": "",
      "userId": "15390259587588584717"
     },
     "user_tz": -540
    },
    "id": "S_dged4SPjvi",
    "outputId": "1f802bf4-0477-447e-f158-2dae032688be"
   },
   "outputs": [
    {
     "data": {
      "text/html": [
       "<div>\n",
       "<style scoped>\n",
       "    .dataframe tbody tr th:only-of-type {\n",
       "        vertical-align: middle;\n",
       "    }\n",
       "\n",
       "    .dataframe tbody tr th {\n",
       "        vertical-align: top;\n",
       "    }\n",
       "\n",
       "    .dataframe thead th {\n",
       "        text-align: right;\n",
       "    }\n",
       "</style>\n",
       "<table border=\"1\" class=\"dataframe\">\n",
       "  <thead>\n",
       "    <tr style=\"text-align: right;\">\n",
       "      <th></th>\n",
       "      <th>date</th>\n",
       "      <th>sex</th>\n",
       "      <th>age</th>\n",
       "      <th>big_cat</th>\n",
       "      <th>sm_cat</th>\n",
       "      <th>qty</th>\n",
       "      <th>cnt</th>\n",
       "    </tr>\n",
       "  </thead>\n",
       "  <tbody>\n",
       "    <tr>\n",
       "      <th>0</th>\n",
       "      <td>2018-01-01</td>\n",
       "      <td>F</td>\n",
       "      <td>20</td>\n",
       "      <td>식품</td>\n",
       "      <td>가공란</td>\n",
       "      <td>37</td>\n",
       "      <td>0.480964</td>\n",
       "    </tr>\n",
       "    <tr>\n",
       "      <th>1</th>\n",
       "      <td>2018-01-01</td>\n",
       "      <td>F</td>\n",
       "      <td>30</td>\n",
       "      <td>식품</td>\n",
       "      <td>가공란</td>\n",
       "      <td>16</td>\n",
       "      <td>0.480964</td>\n",
       "    </tr>\n",
       "  </tbody>\n",
       "</table>\n",
       "</div>"
      ],
      "text/plain": [
       "        date sex  age big_cat sm_cat  qty       cnt\n",
       "0 2018-01-01   F   20      식품    가공란   37  0.480964\n",
       "1 2018-01-01   F   30      식품    가공란   16  0.480964"
      ]
     },
     "execution_count": 71,
     "metadata": {
      "tags": []
     },
     "output_type": "execute_result"
    }
   ],
   "source": [
    "online.head(2)"
   ]
  },
  {
   "cell_type": "code",
   "execution_count": null,
   "metadata": {
    "id": "_hifQDSuP0Se"
   },
   "outputs": [],
   "source": [
    "merge_1 = pd.merge(online, df_merge, how='left', on='date')\n",
    "df_final = pd.merge(merge_1, df_merge2, how='left', on='date')"
   ]
  },
  {
   "cell_type": "code",
   "execution_count": null,
   "metadata": {
    "colab": {
     "base_uri": "https://localhost:8080/",
     "height": 111
    },
    "executionInfo": {
     "elapsed": 4,
     "status": "ok",
     "timestamp": 1622098738452,
     "user": {
      "displayName": "‎김보민(자연과학대학 통계학과)",
      "photoUrl": "",
      "userId": "15390259587588584717"
     },
     "user_tz": -540
    },
    "id": "3pTBTE_tQJIa",
    "outputId": "209685bc-eb49-4f1c-f230-f7a6249cf44f"
   },
   "outputs": [
    {
     "data": {
      "text/html": [
       "<div>\n",
       "<style scoped>\n",
       "    .dataframe tbody tr th:only-of-type {\n",
       "        vertical-align: middle;\n",
       "    }\n",
       "\n",
       "    .dataframe tbody tr th {\n",
       "        vertical-align: top;\n",
       "    }\n",
       "\n",
       "    .dataframe thead th {\n",
       "        text-align: right;\n",
       "    }\n",
       "</style>\n",
       "<table border=\"1\" class=\"dataframe\">\n",
       "  <thead>\n",
       "    <tr style=\"text-align: right;\">\n",
       "      <th></th>\n",
       "      <th>date</th>\n",
       "      <th>sex</th>\n",
       "      <th>age</th>\n",
       "      <th>big_cat</th>\n",
       "      <th>sm_cat</th>\n",
       "      <th>qty</th>\n",
       "      <th>cnt</th>\n",
       "      <th>avg_ta</th>\n",
       "      <th>max_ta</th>\n",
       "      <th>min_ta</th>\n",
       "      <th>rn_day</th>\n",
       "      <th>rn_hr1</th>\n",
       "      <th>avg_ws</th>\n",
       "      <th>PM10</th>\n",
       "      <th>PM25</th>\n",
       "      <th>hm_max</th>\n",
       "      <th>sum_ss_hr</th>\n",
       "      <th>max_pa</th>\n",
       "    </tr>\n",
       "  </thead>\n",
       "  <tbody>\n",
       "    <tr>\n",
       "      <th>0</th>\n",
       "      <td>2018-01-01</td>\n",
       "      <td>F</td>\n",
       "      <td>20</td>\n",
       "      <td>식품</td>\n",
       "      <td>가공란</td>\n",
       "      <td>37</td>\n",
       "      <td>0.480964</td>\n",
       "      <td>0.885198</td>\n",
       "      <td>5.464146</td>\n",
       "      <td>-2.88074</td>\n",
       "      <td>0.0</td>\n",
       "      <td>0.0</td>\n",
       "      <td>2.157094</td>\n",
       "      <td>44.015611</td>\n",
       "      <td>21.477208</td>\n",
       "      <td>61.923313</td>\n",
       "      <td>52.276365</td>\n",
       "      <td>1020.592385</td>\n",
       "    </tr>\n",
       "    <tr>\n",
       "      <th>1</th>\n",
       "      <td>2018-01-01</td>\n",
       "      <td>F</td>\n",
       "      <td>30</td>\n",
       "      <td>식품</td>\n",
       "      <td>가공란</td>\n",
       "      <td>16</td>\n",
       "      <td>0.480964</td>\n",
       "      <td>0.885198</td>\n",
       "      <td>5.464146</td>\n",
       "      <td>-2.88074</td>\n",
       "      <td>0.0</td>\n",
       "      <td>0.0</td>\n",
       "      <td>2.157094</td>\n",
       "      <td>44.015611</td>\n",
       "      <td>21.477208</td>\n",
       "      <td>61.923313</td>\n",
       "      <td>52.276365</td>\n",
       "      <td>1020.592385</td>\n",
       "    </tr>\n",
       "  </tbody>\n",
       "</table>\n",
       "</div>"
      ],
      "text/plain": [
       "        date sex  age big_cat  ...       PM25     hm_max  sum_ss_hr       max_pa\n",
       "0 2018-01-01   F   20      식품  ...  21.477208  61.923313  52.276365  1020.592385\n",
       "1 2018-01-01   F   30      식품  ...  21.477208  61.923313  52.276365  1020.592385\n",
       "\n",
       "[2 rows x 18 columns]"
      ]
     },
     "execution_count": 96,
     "metadata": {
      "tags": []
     },
     "output_type": "execute_result"
    }
   ],
   "source": [
    "df_final.head(2)"
   ]
  },
  {
   "cell_type": "code",
   "execution_count": null,
   "metadata": {
    "id": "m23IkBm3QXUf"
   },
   "outputs": [],
   "source": [
    "df_final.to_csv('data_with_weather.csv', index=False, encoding='CP949')"
   ]
  },
  {
   "cell_type": "code",
   "execution_count": null,
   "metadata": {
    "colab": {
     "base_uri": "https://localhost:8080/",
     "height": 589
    },
    "executionInfo": {
     "elapsed": 8367,
     "status": "ok",
     "timestamp": 1622099015587,
     "user": {
      "displayName": "‎김보민(자연과학대학 통계학과)",
      "photoUrl": "",
      "userId": "15390259587588584717"
     },
     "user_tz": -540
    },
    "id": "V-D-OCncodQQ",
    "outputId": "1f62d808-5b62-4856-9fa0-2a86bf987865"
   },
   "outputs": [
    {
     "data": {
      "text/html": [
       "<div>\n",
       "<style scoped>\n",
       "    .dataframe tbody tr th:only-of-type {\n",
       "        vertical-align: middle;\n",
       "    }\n",
       "\n",
       "    .dataframe tbody tr th {\n",
       "        vertical-align: top;\n",
       "    }\n",
       "\n",
       "    .dataframe thead th {\n",
       "        text-align: right;\n",
       "    }\n",
       "</style>\n",
       "<table border=\"1\" class=\"dataframe\">\n",
       "  <thead>\n",
       "    <tr style=\"text-align: right;\">\n",
       "      <th></th>\n",
       "      <th>date</th>\n",
       "      <th>sex</th>\n",
       "      <th>age</th>\n",
       "      <th>big_cat</th>\n",
       "      <th>sm_cat</th>\n",
       "      <th>qty</th>\n",
       "      <th>cnt</th>\n",
       "      <th>avg_ta</th>\n",
       "      <th>max_ta</th>\n",
       "      <th>min_ta</th>\n",
       "      <th>rn_day</th>\n",
       "      <th>rn_hr1</th>\n",
       "      <th>avg_ws</th>\n",
       "      <th>PM10</th>\n",
       "      <th>PM25</th>\n",
       "      <th>hm_max</th>\n",
       "      <th>sum_ss_hr</th>\n",
       "      <th>max_pa</th>\n",
       "    </tr>\n",
       "  </thead>\n",
       "  <tbody>\n",
       "    <tr>\n",
       "      <th>0</th>\n",
       "      <td>2018-01-01</td>\n",
       "      <td>F</td>\n",
       "      <td>20</td>\n",
       "      <td>식품</td>\n",
       "      <td>가공란</td>\n",
       "      <td>37</td>\n",
       "      <td>0.480964</td>\n",
       "      <td>0.885198</td>\n",
       "      <td>5.464146</td>\n",
       "      <td>-2.880740</td>\n",
       "      <td>0.0</td>\n",
       "      <td>0.000000</td>\n",
       "      <td>2.157094</td>\n",
       "      <td>44.015611</td>\n",
       "      <td>21.477208</td>\n",
       "      <td>61.923313</td>\n",
       "      <td>52.276365</td>\n",
       "      <td>1020.592385</td>\n",
       "    </tr>\n",
       "    <tr>\n",
       "      <th>1</th>\n",
       "      <td>2018-01-01</td>\n",
       "      <td>F</td>\n",
       "      <td>30</td>\n",
       "      <td>식품</td>\n",
       "      <td>가공란</td>\n",
       "      <td>16</td>\n",
       "      <td>0.480964</td>\n",
       "      <td>0.885198</td>\n",
       "      <td>5.464146</td>\n",
       "      <td>-2.880740</td>\n",
       "      <td>0.0</td>\n",
       "      <td>0.000000</td>\n",
       "      <td>2.157094</td>\n",
       "      <td>44.015611</td>\n",
       "      <td>21.477208</td>\n",
       "      <td>61.923313</td>\n",
       "      <td>52.276365</td>\n",
       "      <td>1020.592385</td>\n",
       "    </tr>\n",
       "    <tr>\n",
       "      <th>2</th>\n",
       "      <td>2018-01-01</td>\n",
       "      <td>F</td>\n",
       "      <td>40</td>\n",
       "      <td>식품</td>\n",
       "      <td>가공란</td>\n",
       "      <td>9</td>\n",
       "      <td>0.480964</td>\n",
       "      <td>0.885198</td>\n",
       "      <td>5.464146</td>\n",
       "      <td>-2.880740</td>\n",
       "      <td>0.0</td>\n",
       "      <td>0.000000</td>\n",
       "      <td>2.157094</td>\n",
       "      <td>44.015611</td>\n",
       "      <td>21.477208</td>\n",
       "      <td>61.923313</td>\n",
       "      <td>52.276365</td>\n",
       "      <td>1020.592385</td>\n",
       "    </tr>\n",
       "    <tr>\n",
       "      <th>3</th>\n",
       "      <td>2018-01-01</td>\n",
       "      <td>F</td>\n",
       "      <td>50</td>\n",
       "      <td>식품</td>\n",
       "      <td>가공란</td>\n",
       "      <td>3</td>\n",
       "      <td>0.480964</td>\n",
       "      <td>0.885198</td>\n",
       "      <td>5.464146</td>\n",
       "      <td>-2.880740</td>\n",
       "      <td>0.0</td>\n",
       "      <td>0.000000</td>\n",
       "      <td>2.157094</td>\n",
       "      <td>44.015611</td>\n",
       "      <td>21.477208</td>\n",
       "      <td>61.923313</td>\n",
       "      <td>52.276365</td>\n",
       "      <td>1020.592385</td>\n",
       "    </tr>\n",
       "    <tr>\n",
       "      <th>4</th>\n",
       "      <td>2018-01-01</td>\n",
       "      <td>M</td>\n",
       "      <td>20</td>\n",
       "      <td>식품</td>\n",
       "      <td>가공란</td>\n",
       "      <td>13</td>\n",
       "      <td>0.480964</td>\n",
       "      <td>0.885198</td>\n",
       "      <td>5.464146</td>\n",
       "      <td>-2.880740</td>\n",
       "      <td>0.0</td>\n",
       "      <td>0.000000</td>\n",
       "      <td>2.157094</td>\n",
       "      <td>44.015611</td>\n",
       "      <td>21.477208</td>\n",
       "      <td>61.923313</td>\n",
       "      <td>52.276365</td>\n",
       "      <td>1020.592385</td>\n",
       "    </tr>\n",
       "    <tr>\n",
       "      <th>...</th>\n",
       "      <td>...</td>\n",
       "      <td>...</td>\n",
       "      <td>...</td>\n",
       "      <td>...</td>\n",
       "      <td>...</td>\n",
       "      <td>...</td>\n",
       "      <td>...</td>\n",
       "      <td>...</td>\n",
       "      <td>...</td>\n",
       "      <td>...</td>\n",
       "      <td>...</td>\n",
       "      <td>...</td>\n",
       "      <td>...</td>\n",
       "      <td>...</td>\n",
       "      <td>...</td>\n",
       "      <td>...</td>\n",
       "      <td>...</td>\n",
       "      <td>...</td>\n",
       "    </tr>\n",
       "    <tr>\n",
       "      <th>2056894</th>\n",
       "      <td>2019-12-31</td>\n",
       "      <td>M</td>\n",
       "      <td>20</td>\n",
       "      <td>냉난방가전</td>\n",
       "      <td>히터</td>\n",
       "      <td>8</td>\n",
       "      <td>71.295163</td>\n",
       "      <td>-3.153771</td>\n",
       "      <td>0.872542</td>\n",
       "      <td>-5.469094</td>\n",
       "      <td>0.0</td>\n",
       "      <td>0.005885</td>\n",
       "      <td>3.414438</td>\n",
       "      <td>19.590719</td>\n",
       "      <td>10.860786</td>\n",
       "      <td>61.658000</td>\n",
       "      <td>47.797865</td>\n",
       "      <td>927.437910</td>\n",
       "    </tr>\n",
       "    <tr>\n",
       "      <th>2056895</th>\n",
       "      <td>2019-12-31</td>\n",
       "      <td>M</td>\n",
       "      <td>30</td>\n",
       "      <td>냉난방가전</td>\n",
       "      <td>히터</td>\n",
       "      <td>22</td>\n",
       "      <td>71.295163</td>\n",
       "      <td>-3.153771</td>\n",
       "      <td>0.872542</td>\n",
       "      <td>-5.469094</td>\n",
       "      <td>0.0</td>\n",
       "      <td>0.005885</td>\n",
       "      <td>3.414438</td>\n",
       "      <td>19.590719</td>\n",
       "      <td>10.860786</td>\n",
       "      <td>61.658000</td>\n",
       "      <td>47.797865</td>\n",
       "      <td>927.437910</td>\n",
       "    </tr>\n",
       "    <tr>\n",
       "      <th>2056896</th>\n",
       "      <td>2019-12-31</td>\n",
       "      <td>M</td>\n",
       "      <td>40</td>\n",
       "      <td>냉난방가전</td>\n",
       "      <td>히터</td>\n",
       "      <td>38</td>\n",
       "      <td>71.295163</td>\n",
       "      <td>-3.153771</td>\n",
       "      <td>0.872542</td>\n",
       "      <td>-5.469094</td>\n",
       "      <td>0.0</td>\n",
       "      <td>0.005885</td>\n",
       "      <td>3.414438</td>\n",
       "      <td>19.590719</td>\n",
       "      <td>10.860786</td>\n",
       "      <td>61.658000</td>\n",
       "      <td>47.797865</td>\n",
       "      <td>927.437910</td>\n",
       "    </tr>\n",
       "    <tr>\n",
       "      <th>2056897</th>\n",
       "      <td>2019-12-31</td>\n",
       "      <td>M</td>\n",
       "      <td>50</td>\n",
       "      <td>냉난방가전</td>\n",
       "      <td>히터</td>\n",
       "      <td>23</td>\n",
       "      <td>71.295163</td>\n",
       "      <td>-3.153771</td>\n",
       "      <td>0.872542</td>\n",
       "      <td>-5.469094</td>\n",
       "      <td>0.0</td>\n",
       "      <td>0.005885</td>\n",
       "      <td>3.414438</td>\n",
       "      <td>19.590719</td>\n",
       "      <td>10.860786</td>\n",
       "      <td>61.658000</td>\n",
       "      <td>47.797865</td>\n",
       "      <td>927.437910</td>\n",
       "    </tr>\n",
       "    <tr>\n",
       "      <th>2056898</th>\n",
       "      <td>2019-12-31</td>\n",
       "      <td>M</td>\n",
       "      <td>60</td>\n",
       "      <td>냉난방가전</td>\n",
       "      <td>히터</td>\n",
       "      <td>10</td>\n",
       "      <td>71.295163</td>\n",
       "      <td>-3.153771</td>\n",
       "      <td>0.872542</td>\n",
       "      <td>-5.469094</td>\n",
       "      <td>0.0</td>\n",
       "      <td>0.005885</td>\n",
       "      <td>3.414438</td>\n",
       "      <td>19.590719</td>\n",
       "      <td>10.860786</td>\n",
       "      <td>61.658000</td>\n",
       "      <td>47.797865</td>\n",
       "      <td>927.437910</td>\n",
       "    </tr>\n",
       "  </tbody>\n",
       "</table>\n",
       "<p>2056899 rows × 18 columns</p>\n",
       "</div>"
      ],
      "text/plain": [
       "               date sex  age  ...     hm_max  sum_ss_hr       max_pa\n",
       "0        2018-01-01   F   20  ...  61.923313  52.276365  1020.592385\n",
       "1        2018-01-01   F   30  ...  61.923313  52.276365  1020.592385\n",
       "2        2018-01-01   F   40  ...  61.923313  52.276365  1020.592385\n",
       "3        2018-01-01   F   50  ...  61.923313  52.276365  1020.592385\n",
       "4        2018-01-01   M   20  ...  61.923313  52.276365  1020.592385\n",
       "...             ...  ..  ...  ...        ...        ...          ...\n",
       "2056894  2019-12-31   M   20  ...  61.658000  47.797865   927.437910\n",
       "2056895  2019-12-31   M   30  ...  61.658000  47.797865   927.437910\n",
       "2056896  2019-12-31   M   40  ...  61.658000  47.797865   927.437910\n",
       "2056897  2019-12-31   M   50  ...  61.658000  47.797865   927.437910\n",
       "2056898  2019-12-31   M   60  ...  61.658000  47.797865   927.437910\n",
       "\n",
       "[2056899 rows x 18 columns]"
      ]
     },
     "execution_count": 98,
     "metadata": {
      "tags": []
     },
     "output_type": "execute_result"
    }
   ],
   "source": [
    "pd.read_csv('data_with_weather.csv', encoding='CP949')"
   ]
  }
 ],
 "metadata": {
  "colab": {
   "collapsed_sections": [],
   "name": "날씨지수.ipynb",
   "provenance": []
  },
  "kernelspec": {
   "display_name": "Python 3",
   "language": "python",
   "name": "python3"
  },
  "language_info": {
   "codemirror_mode": {
    "name": "ipython",
    "version": 3
   },
   "file_extension": ".py",
   "mimetype": "text/x-python",
   "name": "python",
   "nbconvert_exporter": "python",
   "pygments_lexer": "ipython3",
   "version": "3.8.3"
  }
 },
 "nbformat": 4,
 "nbformat_minor": 4
}
