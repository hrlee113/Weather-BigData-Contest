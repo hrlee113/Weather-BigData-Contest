{
 "cells": [
  {
   "cell_type": "markdown",
   "metadata": {},
   "source": [
    "# 검색어 트렌드 크롤링 \n",
    "* https://datalab.naver.com/keyword/trendSearch.naver \n",
    "* **sm_cat** 에 해당하는 검색어 트렌드 값 산출 \n",
    "* `/` 로 나뉘어 있는 경우, 평균값 사용"
   ]
  },
  {
   "cell_type": "code",
   "execution_count": 1,
   "metadata": {},
   "outputs": [],
   "source": [
    "import warnings\n",
    "warnings.filterwarnings(action='ignore')\n",
    "\n",
    "import os\n",
    "import sys\n",
    "import urllib.request\n",
    "\n",
    "import pandas as pd \n",
    "import numpy as np \n",
    "from tqdm import tqdm\n",
    "\n",
    "import dataload\n",
    "\n",
    "import re\n",
    "from bs4 import BeautifulSoup\n",
    "\n",
    "import json\n",
    "from pandas.io.json import json_normalize"
   ]
  },
  {
   "cell_type": "code",
   "execution_count": 2,
   "metadata": {},
   "outputs": [
    {
     "name": "stdout",
     "output_type": "stream",
     "text": [
      "(2056899, 6)\n",
      "food : 212 | beauty : 131 | app : 40\n"
     ]
    }
   ],
   "source": [
    "# Data Load & Get Category\n",
    "buy_full = dataload.load_buy()\n",
    "print(buy_full.shape)\n",
    "\n",
    "food = list(buy_full[buy_full[\"big_cat\"]==\"식품\"].sm_cat.unique())\n",
    "beauty = list(buy_full[buy_full[\"big_cat\"]==\"뷰티\"].sm_cat.unique())\n",
    "app = list(buy_full[buy_full[\"big_cat\"]==\"냉난방가전\"].sm_cat.unique())\n",
    "print(\"food : {} | beauty : {} | app : {}\".format(len(food), len(beauty), len(app)))"
   ]
  },
  {
   "cell_type": "code",
   "execution_count": 3,
   "metadata": {},
   "outputs": [
    {
     "data": {
      "text/html": [
       "<div>\n",
       "<style scoped>\n",
       "    .dataframe tbody tr th:only-of-type {\n",
       "        vertical-align: middle;\n",
       "    }\n",
       "\n",
       "    .dataframe tbody tr th {\n",
       "        vertical-align: top;\n",
       "    }\n",
       "\n",
       "    .dataframe thead th {\n",
       "        text-align: right;\n",
       "    }\n",
       "</style>\n",
       "<table border=\"1\" class=\"dataframe\">\n",
       "  <thead>\n",
       "    <tr style=\"text-align: right;\">\n",
       "      <th></th>\n",
       "      <th>date</th>\n",
       "      <th>sex</th>\n",
       "      <th>age</th>\n",
       "      <th>big_cat</th>\n",
       "      <th>sm_cat</th>\n",
       "      <th>qty</th>\n",
       "    </tr>\n",
       "  </thead>\n",
       "  <tbody>\n",
       "    <tr>\n",
       "      <th>0</th>\n",
       "      <td>20180101</td>\n",
       "      <td>F</td>\n",
       "      <td>20</td>\n",
       "      <td>식품</td>\n",
       "      <td>가공란</td>\n",
       "      <td>37</td>\n",
       "    </tr>\n",
       "    <tr>\n",
       "      <th>1</th>\n",
       "      <td>20180101</td>\n",
       "      <td>F</td>\n",
       "      <td>30</td>\n",
       "      <td>식품</td>\n",
       "      <td>가공란</td>\n",
       "      <td>16</td>\n",
       "    </tr>\n",
       "    <tr>\n",
       "      <th>2</th>\n",
       "      <td>20180101</td>\n",
       "      <td>F</td>\n",
       "      <td>40</td>\n",
       "      <td>식품</td>\n",
       "      <td>가공란</td>\n",
       "      <td>9</td>\n",
       "    </tr>\n",
       "    <tr>\n",
       "      <th>3</th>\n",
       "      <td>20180101</td>\n",
       "      <td>F</td>\n",
       "      <td>50</td>\n",
       "      <td>식품</td>\n",
       "      <td>가공란</td>\n",
       "      <td>3</td>\n",
       "    </tr>\n",
       "    <tr>\n",
       "      <th>4</th>\n",
       "      <td>20180101</td>\n",
       "      <td>M</td>\n",
       "      <td>20</td>\n",
       "      <td>식품</td>\n",
       "      <td>가공란</td>\n",
       "      <td>13</td>\n",
       "    </tr>\n",
       "    <tr>\n",
       "      <th>5</th>\n",
       "      <td>20180101</td>\n",
       "      <td>M</td>\n",
       "      <td>30</td>\n",
       "      <td>식품</td>\n",
       "      <td>가공란</td>\n",
       "      <td>6</td>\n",
       "    </tr>\n",
       "    <tr>\n",
       "      <th>6</th>\n",
       "      <td>20180101</td>\n",
       "      <td>M</td>\n",
       "      <td>40</td>\n",
       "      <td>식품</td>\n",
       "      <td>가공란</td>\n",
       "      <td>6</td>\n",
       "    </tr>\n",
       "    <tr>\n",
       "      <th>7</th>\n",
       "      <td>20180101</td>\n",
       "      <td>F</td>\n",
       "      <td>20</td>\n",
       "      <td>냉난방가전</td>\n",
       "      <td>가열식 가습기</td>\n",
       "      <td>1</td>\n",
       "    </tr>\n",
       "    <tr>\n",
       "      <th>8</th>\n",
       "      <td>20180101</td>\n",
       "      <td>F</td>\n",
       "      <td>40</td>\n",
       "      <td>냉난방가전</td>\n",
       "      <td>가열식 가습기</td>\n",
       "      <td>3</td>\n",
       "    </tr>\n",
       "    <tr>\n",
       "      <th>9</th>\n",
       "      <td>20180101</td>\n",
       "      <td>M</td>\n",
       "      <td>20</td>\n",
       "      <td>냉난방가전</td>\n",
       "      <td>가열식 가습기</td>\n",
       "      <td>1</td>\n",
       "    </tr>\n",
       "  </tbody>\n",
       "</table>\n",
       "</div>"
      ],
      "text/plain": [
       "       date sex  age big_cat   sm_cat  qty\n",
       "0  20180101   F   20      식품      가공란   37\n",
       "1  20180101   F   30      식품      가공란   16\n",
       "2  20180101   F   40      식품      가공란    9\n",
       "3  20180101   F   50      식품      가공란    3\n",
       "4  20180101   M   20      식품      가공란   13\n",
       "5  20180101   M   30      식품      가공란    6\n",
       "6  20180101   M   40      식품      가공란    6\n",
       "7  20180101   F   20   냉난방가전  가열식 가습기    1\n",
       "8  20180101   F   40   냉난방가전  가열식 가습기    3\n",
       "9  20180101   M   20   냉난방가전  가열식 가습기    1"
      ]
     },
     "execution_count": 3,
     "metadata": {},
     "output_type": "execute_result"
    }
   ],
   "source": [
    "buy_full.head(10)"
   ]
  },
  {
   "cell_type": "code",
   "execution_count": 73,
   "metadata": {},
   "outputs": [],
   "source": [
    "pd.DataFrame(food).to_csv(\"food_category.csv\", encoding=\"cp949\")\n",
    "pd.DataFrame(beauty).to_csv(\"beauty_category.csv\", encoding=\"cp949\")\n",
    "pd.DataFrame(app).to_csv(\"app_category.csv\", encoding=\"cp949\")"
   ]
  },
  {
   "cell_type": "code",
   "execution_count": 92,
   "metadata": {},
   "outputs": [],
   "source": [
    "# category 수정 \n",
    "food2 = pd.read_csv(\"food_category.csv\", encoding=\"cp949\")\n",
    "beauty2 = pd.read_csv(\"beauty_category.csv\", encoding=\"cp949\")\n",
    "app2 = pd.read_csv(\"app_category.csv\", encoding=\"cp949\")"
   ]
  },
  {
   "cell_type": "code",
   "execution_count": 94,
   "metadata": {},
   "outputs": [
    {
     "name": "stdout",
     "output_type": "stream",
     "text": [
      "food : 212 | beauty : 131 | app : 40\n"
     ]
    }
   ],
   "source": [
    "food2 = food2['0'].tolist()\n",
    "beauty2 = beauty2['0'].tolist()\n",
    "app2 = app2['0'].tolist()\n",
    "\n",
    "print(\"food : {} | beauty : {} | app : {}\".format(len(food2), len(beauty2), len(app2)))"
   ]
  },
  {
   "cell_type": "code",
   "execution_count": 119,
   "metadata": {},
   "outputs": [],
   "source": [
    "# original category 정보 저장 \n",
    "food_cat = pd.concat([pd.DataFrame(food), pd.DataFrame(food2)], axis=1)\n",
    "beauty_cat = pd.concat([pd.DataFrame(beauty), pd.DataFrame(beauty2)], axis=1)\n",
    "app_cat = pd.concat([pd.DataFrame(app), pd.DataFrame(app2)], axis=1)"
   ]
  },
  {
   "cell_type": "markdown",
   "metadata": {},
   "source": [
    "# Naver Developers API \n",
    "* 참고 : [Parameters](https://developers.naver.com/docs/serviceapi/datalab/search/search.md#%EB%84%A4%EC%9D%B4%EB%B2%84-%ED%86%B5%ED%95%A9-%EA%B2%80%EC%83%89%EC%96%B4-%ED%8A%B8%EB%A0%8C%EB%93%9C-%EC%A1%B0%ED%9A%8C)\n",
    "* 함정 : 비교 척도 **100** 기준 ㅠㅠ "
   ]
  },
  {
   "cell_type": "code",
   "execution_count": 140,
   "metadata": {},
   "outputs": [],
   "source": [
    "client_id = \"x6_VTrxuFQF5fGLEGlTQ\" ; client_secret = \"Q0us4DPwgg\""
   ]
  },
  {
   "cell_type": "code",
   "execution_count": 63,
   "metadata": {},
   "outputs": [],
   "source": [
    "def keyword_search(client_id, client_secret, keyword) : \n",
    "    ages = {20:['3','4'], 30:['5','6'], 40:['7','8'], 50:['9','10'], 60:['11']} ; genders = [\"f\", \"m\"]\n",
    "    df = pd.DataFrame()\n",
    "    \n",
    "    for age, age_list in ages.items() : \n",
    "        for gender in genders : \n",
    "            client_id = client_id ; client_secret = client_secret\n",
    "            url = \"https://openapi.naver.com/v1/datalab/search\"\n",
    "            body = {\"startDate\":\"2018-01-01\",\n",
    "                    \"endDate\":\"2019-12-31\",\n",
    "                    \"timeUnit\":\"date\",\n",
    "                    \"keywordGroups\":[{\"groupName\":keyword,\"keywords\":[keyword]}],\n",
    "                    \"ages\": age_list ,\n",
    "                    \"gender\": gender}\n",
    "            body_j = json.dumps(body)\n",
    "\n",
    "            # get results \n",
    "            request = urllib.request.Request(url)\n",
    "            request.add_header(\"X-Naver-Client-Id\",client_id)\n",
    "            request.add_header(\"X-Naver-Client-Secret\",client_secret)\n",
    "            request.add_header(\"Content-Type\",\"application/json\")\n",
    "            response = urllib.request.urlopen(request, data=body_j.encode(\"utf-8\"))\n",
    "            rescode = response.getcode()\n",
    "\n",
    "            if(rescode==200):\n",
    "                response_body = response.read()\n",
    "                scraped = response_body.decode('utf-8')\n",
    "                \n",
    "                try : \n",
    "                    result = json_normalize(json.loads(scraped)[\"results\"][0][\"data\"])\n",
    "                    result.insert(1, \"age\", age) ; result.insert(1, \"sex\", gender.upper()) \n",
    "                    df = df.append(result, ignore_index=True)\n",
    "                except : \n",
    "                    pass\n",
    "\n",
    "            else:\n",
    "                print(\"Error Code:\" + rescode) \n",
    "    \n",
    "    try : \n",
    "        df.insert(3, \"sm_cat\", keyword)\n",
    "    except : \n",
    "        pass \n",
    "    \n",
    "    return df"
   ]
  },
  {
   "cell_type": "code",
   "execution_count": 156,
   "metadata": {},
   "outputs": [],
   "source": [
    "def category_search(big_cat) : \n",
    "    df = pd.DataFrame()\n",
    "    \n",
    "    for sm_cat in tqdm(big_cat) : \n",
    "        try: \n",
    "            if not '/' in sm_cat : \n",
    "                tmp = keyword_search(client_id, client_secret, sm_cat)\n",
    "                df = df.append(tmp, ignore_index=True)\n",
    "\n",
    "            # '/' 나뉘어져 있는 경우 \n",
    "            else : \n",
    "                tmp2 = pd.DataFrame()\n",
    "                sm_cats = sm_cat.split('/')\n",
    "                for sm in sm_cats : \n",
    "                    tmp = keyword_search(client_id, client_secret, sm)\n",
    "                    tmp2 = tmp2.append(tmp, ignore_index=True)\n",
    "                    \n",
    "                try : \n",
    "                    tmp2 = tmp2.groupby([\"period\", \"sex\", \"age\"]).agg({'ratio' : [('ratio', np.mean)]}).reset_index()\n",
    "                    tmp2.columns = tmp2.columns.get_level_values(0)\n",
    "                    tmp2.insert(3, \"sm_cat\", sm_cat)\n",
    "                except : \n",
    "                    pass\n",
    "\n",
    "                df = df.append(tmp2, ignore_index=True)\n",
    "        \n",
    "        except urllib.request.HTTPError : \n",
    "            print(\"Too Many Requests - at {}\".format(big_cat.index(\"sm_cat\")))\n",
    "            \n",
    "    if big_cat[0] in food2 : df.insert(3, \"big_cat\", \"식품\")\n",
    "    elif big_cat[0] in beauty2 : df.insert(3, \"big_cat\", \"뷰티\")\n",
    "    elif big_cat[0] in app2 : df.insert(3, \"big_cat\", \"냉난방가전\")\n",
    "    else : df.insert(3, \"big_cat\", \"날씨\")\n",
    "        \n",
    "    return df "
   ]
  },
  {
   "cell_type": "markdown",
   "metadata": {},
   "source": [
    "## 1. 날씨 정보 "
   ]
  },
  {
   "cell_type": "code",
   "execution_count": 65,
   "metadata": {},
   "outputs": [
    {
     "name": "stderr",
     "output_type": "stream",
     "text": [
      "100%|██████████| 5/5 [00:21<00:00,  4.28s/it]\n"
     ]
    }
   ],
   "source": [
    "weather_keywords = [\"오늘날씨\", \"미세먼지\", \"오늘 비\", \"기상정보\", \"태풍정보\"]\n",
    "weather_search = category_search(weather_keywords)"
   ]
  },
  {
   "cell_type": "code",
   "execution_count": 66,
   "metadata": {},
   "outputs": [
    {
     "name": "stdout",
     "output_type": "stream",
     "text": [
      "(33070, 6)\n"
     ]
    },
    {
     "data": {
      "text/html": [
       "<div>\n",
       "<style scoped>\n",
       "    .dataframe tbody tr th:only-of-type {\n",
       "        vertical-align: middle;\n",
       "    }\n",
       "\n",
       "    .dataframe tbody tr th {\n",
       "        vertical-align: top;\n",
       "    }\n",
       "\n",
       "    .dataframe thead th {\n",
       "        text-align: right;\n",
       "    }\n",
       "</style>\n",
       "<table border=\"1\" class=\"dataframe\">\n",
       "  <thead>\n",
       "    <tr style=\"text-align: right;\">\n",
       "      <th></th>\n",
       "      <th>period</th>\n",
       "      <th>sex</th>\n",
       "      <th>age</th>\n",
       "      <th>big_cat</th>\n",
       "      <th>sm_cat</th>\n",
       "      <th>ratio</th>\n",
       "    </tr>\n",
       "  </thead>\n",
       "  <tbody>\n",
       "    <tr>\n",
       "      <th>0</th>\n",
       "      <td>2018-01-01</td>\n",
       "      <td>F</td>\n",
       "      <td>20</td>\n",
       "      <td>날씨</td>\n",
       "      <td>오늘날씨</td>\n",
       "      <td>10.69387</td>\n",
       "    </tr>\n",
       "    <tr>\n",
       "      <th>1</th>\n",
       "      <td>2018-01-02</td>\n",
       "      <td>F</td>\n",
       "      <td>20</td>\n",
       "      <td>날씨</td>\n",
       "      <td>오늘날씨</td>\n",
       "      <td>16.83434</td>\n",
       "    </tr>\n",
       "    <tr>\n",
       "      <th>2</th>\n",
       "      <td>2018-01-03</td>\n",
       "      <td>F</td>\n",
       "      <td>20</td>\n",
       "      <td>날씨</td>\n",
       "      <td>오늘날씨</td>\n",
       "      <td>13.63583</td>\n",
       "    </tr>\n",
       "    <tr>\n",
       "      <th>3</th>\n",
       "      <td>2018-01-04</td>\n",
       "      <td>F</td>\n",
       "      <td>20</td>\n",
       "      <td>날씨</td>\n",
       "      <td>오늘날씨</td>\n",
       "      <td>12.33925</td>\n",
       "    </tr>\n",
       "    <tr>\n",
       "      <th>4</th>\n",
       "      <td>2018-01-05</td>\n",
       "      <td>F</td>\n",
       "      <td>20</td>\n",
       "      <td>날씨</td>\n",
       "      <td>오늘날씨</td>\n",
       "      <td>12.84071</td>\n",
       "    </tr>\n",
       "    <tr>\n",
       "      <th>5</th>\n",
       "      <td>2018-01-06</td>\n",
       "      <td>F</td>\n",
       "      <td>20</td>\n",
       "      <td>날씨</td>\n",
       "      <td>오늘날씨</td>\n",
       "      <td>12.89477</td>\n",
       "    </tr>\n",
       "    <tr>\n",
       "      <th>6</th>\n",
       "      <td>2018-01-07</td>\n",
       "      <td>F</td>\n",
       "      <td>20</td>\n",
       "      <td>날씨</td>\n",
       "      <td>오늘날씨</td>\n",
       "      <td>19.33421</td>\n",
       "    </tr>\n",
       "    <tr>\n",
       "      <th>7</th>\n",
       "      <td>2018-01-08</td>\n",
       "      <td>F</td>\n",
       "      <td>20</td>\n",
       "      <td>날씨</td>\n",
       "      <td>오늘날씨</td>\n",
       "      <td>34.82321</td>\n",
       "    </tr>\n",
       "    <tr>\n",
       "      <th>8</th>\n",
       "      <td>2018-01-09</td>\n",
       "      <td>F</td>\n",
       "      <td>20</td>\n",
       "      <td>날씨</td>\n",
       "      <td>오늘날씨</td>\n",
       "      <td>22.80943</td>\n",
       "    </tr>\n",
       "    <tr>\n",
       "      <th>9</th>\n",
       "      <td>2018-01-10</td>\n",
       "      <td>F</td>\n",
       "      <td>20</td>\n",
       "      <td>날씨</td>\n",
       "      <td>오늘날씨</td>\n",
       "      <td>16.20355</td>\n",
       "    </tr>\n",
       "  </tbody>\n",
       "</table>\n",
       "</div>"
      ],
      "text/plain": [
       "       period sex  age big_cat sm_cat     ratio\n",
       "0  2018-01-01   F   20      날씨   오늘날씨  10.69387\n",
       "1  2018-01-02   F   20      날씨   오늘날씨  16.83434\n",
       "2  2018-01-03   F   20      날씨   오늘날씨  13.63583\n",
       "3  2018-01-04   F   20      날씨   오늘날씨  12.33925\n",
       "4  2018-01-05   F   20      날씨   오늘날씨  12.84071\n",
       "5  2018-01-06   F   20      날씨   오늘날씨  12.89477\n",
       "6  2018-01-07   F   20      날씨   오늘날씨  19.33421\n",
       "7  2018-01-08   F   20      날씨   오늘날씨  34.82321\n",
       "8  2018-01-09   F   20      날씨   오늘날씨  22.80943\n",
       "9  2018-01-10   F   20      날씨   오늘날씨  16.20355"
      ]
     },
     "execution_count": 66,
     "metadata": {},
     "output_type": "execute_result"
    }
   ],
   "source": [
    "print(weather_search.shape)\n",
    "weather_search.head(10)"
   ]
  },
  {
   "cell_type": "code",
   "execution_count": 67,
   "metadata": {},
   "outputs": [
    {
     "data": {
      "text/plain": [
       "미세먼지    7300\n",
       "오늘날씨    7300\n",
       "기상정보    6928\n",
       "태풍정보    6143\n",
       "오늘 비    5399\n",
       "Name: sm_cat, dtype: int64"
      ]
     },
     "execution_count": 67,
     "metadata": {},
     "output_type": "execute_result"
    }
   ],
   "source": [
    "weather_search.sm_cat.value_counts()"
   ]
  },
  {
   "cell_type": "code",
   "execution_count": 68,
   "metadata": {},
   "outputs": [],
   "source": [
    "weather_search.to_csv(\"weather_trend.csv\", index=False, encoding='cp949')"
   ]
  },
  {
   "cell_type": "markdown",
   "metadata": {},
   "source": [
    "## 2. 가전 "
   ]
  },
  {
   "cell_type": "code",
   "execution_count": 120,
   "metadata": {},
   "outputs": [],
   "source": [
    "def to_original_category_name(searchdf, categorydf) : \n",
    "    categorydf.columns = [\"original\", \"rename\"]\n",
    "    searchdf = searchdf.merge(categorydf, left_on=\"sm_cat\", right_on=\"rename\").drop([\"sm_cat\", \"rename\"], axis=1).rename(columns={'original' : 'sm_cat'})\n",
    "    searchdf = searchdf[['period', 'sex', 'age', 'big_cat', 'sm_cat', 'ratio']]\n",
    "    return searchdf"
   ]
  },
  {
   "cell_type": "code",
   "execution_count": 97,
   "metadata": {},
   "outputs": [
    {
     "name": "stderr",
     "output_type": "stream",
     "text": [
      "100%|██████████| 40/40 [01:55<00:00,  2.89s/it]\n"
     ]
    }
   ],
   "source": [
    "app_search = category_search(app2)"
   ]
  },
  {
   "cell_type": "code",
   "execution_count": 121,
   "metadata": {},
   "outputs": [],
   "source": [
    "app_search2 = to_original_category_name(app_search, app_cat)"
   ]
  },
  {
   "cell_type": "code",
   "execution_count": 122,
   "metadata": {},
   "outputs": [
    {
     "name": "stdout",
     "output_type": "stream",
     "text": [
      "(208971, 6)\n"
     ]
    },
    {
     "data": {
      "text/html": [
       "<div>\n",
       "<style scoped>\n",
       "    .dataframe tbody tr th:only-of-type {\n",
       "        vertical-align: middle;\n",
       "    }\n",
       "\n",
       "    .dataframe tbody tr th {\n",
       "        vertical-align: top;\n",
       "    }\n",
       "\n",
       "    .dataframe thead th {\n",
       "        text-align: right;\n",
       "    }\n",
       "</style>\n",
       "<table border=\"1\" class=\"dataframe\">\n",
       "  <thead>\n",
       "    <tr style=\"text-align: right;\">\n",
       "      <th></th>\n",
       "      <th>period</th>\n",
       "      <th>sex</th>\n",
       "      <th>age</th>\n",
       "      <th>big_cat</th>\n",
       "      <th>sm_cat</th>\n",
       "      <th>ratio</th>\n",
       "    </tr>\n",
       "  </thead>\n",
       "  <tbody>\n",
       "    <tr>\n",
       "      <th>0</th>\n",
       "      <td>2018-01-01</td>\n",
       "      <td>F</td>\n",
       "      <td>20</td>\n",
       "      <td>냉난방가전</td>\n",
       "      <td>가열식 가습기</td>\n",
       "      <td>24.75961</td>\n",
       "    </tr>\n",
       "    <tr>\n",
       "      <th>1</th>\n",
       "      <td>2018-01-02</td>\n",
       "      <td>F</td>\n",
       "      <td>20</td>\n",
       "      <td>냉난방가전</td>\n",
       "      <td>가열식 가습기</td>\n",
       "      <td>27.64423</td>\n",
       "    </tr>\n",
       "    <tr>\n",
       "      <th>2</th>\n",
       "      <td>2018-01-03</td>\n",
       "      <td>F</td>\n",
       "      <td>20</td>\n",
       "      <td>냉난방가전</td>\n",
       "      <td>가열식 가습기</td>\n",
       "      <td>30.16826</td>\n",
       "    </tr>\n",
       "    <tr>\n",
       "      <th>3</th>\n",
       "      <td>2018-01-04</td>\n",
       "      <td>F</td>\n",
       "      <td>20</td>\n",
       "      <td>냉난방가전</td>\n",
       "      <td>가열식 가습기</td>\n",
       "      <td>35.81730</td>\n",
       "    </tr>\n",
       "    <tr>\n",
       "      <th>4</th>\n",
       "      <td>2018-01-05</td>\n",
       "      <td>F</td>\n",
       "      <td>20</td>\n",
       "      <td>냉난방가전</td>\n",
       "      <td>가열식 가습기</td>\n",
       "      <td>31.37019</td>\n",
       "    </tr>\n",
       "  </tbody>\n",
       "</table>\n",
       "</div>"
      ],
      "text/plain": [
       "       period sex  age big_cat   sm_cat     ratio\n",
       "0  2018-01-01   F   20   냉난방가전  가열식 가습기  24.75961\n",
       "1  2018-01-02   F   20   냉난방가전  가열식 가습기  27.64423\n",
       "2  2018-01-03   F   20   냉난방가전  가열식 가습기  30.16826\n",
       "3  2018-01-04   F   20   냉난방가전  가열식 가습기  35.81730\n",
       "4  2018-01-05   F   20   냉난방가전  가열식 가습기  31.37019"
      ]
     },
     "execution_count": 122,
     "metadata": {},
     "output_type": "execute_result"
    }
   ],
   "source": [
    "print(app_search2.shape)\n",
    "app_search2.head()"
   ]
  },
  {
   "cell_type": "code",
   "execution_count": 123,
   "metadata": {},
   "outputs": [],
   "source": [
    "app_search2.to_csv(\"app_trend.csv\", index=False, encoding='cp949')"
   ]
  },
  {
   "cell_type": "markdown",
   "metadata": {},
   "source": [
    "## 3. 뷰티 "
   ]
  },
  {
   "cell_type": "code",
   "execution_count": 130,
   "metadata": {},
   "outputs": [
    {
     "name": "stderr",
     "output_type": "stream",
     "text": [
      "100%|██████████| 90/90 [02:14<00:00,  1.50s/it]\n"
     ]
    }
   ],
   "source": [
    "beauty_search1 = category_search(beauty2[:90])"
   ]
  },
  {
   "cell_type": "code",
   "execution_count": 149,
   "metadata": {},
   "outputs": [
    {
     "name": "stderr",
     "output_type": "stream",
     "text": [
      "100%|██████████| 41/41 [01:06<00:00,  1.63s/it]\n"
     ]
    }
   ],
   "source": [
    "beauty_search2 = category_search(beauty2[90:])"
   ]
  },
  {
   "cell_type": "code",
   "execution_count": 151,
   "metadata": {},
   "outputs": [
    {
     "name": "stdout",
     "output_type": "stream",
     "text": [
      "(718099, 6)\n"
     ]
    },
    {
     "data": {
      "text/html": [
       "<div>\n",
       "<style scoped>\n",
       "    .dataframe tbody tr th:only-of-type {\n",
       "        vertical-align: middle;\n",
       "    }\n",
       "\n",
       "    .dataframe tbody tr th {\n",
       "        vertical-align: top;\n",
       "    }\n",
       "\n",
       "    .dataframe thead th {\n",
       "        text-align: right;\n",
       "    }\n",
       "</style>\n",
       "<table border=\"1\" class=\"dataframe\">\n",
       "  <thead>\n",
       "    <tr style=\"text-align: right;\">\n",
       "      <th></th>\n",
       "      <th>period</th>\n",
       "      <th>sex</th>\n",
       "      <th>age</th>\n",
       "      <th>big_cat</th>\n",
       "      <th>sm_cat</th>\n",
       "      <th>ratio</th>\n",
       "    </tr>\n",
       "  </thead>\n",
       "  <tbody>\n",
       "    <tr>\n",
       "      <th>0</th>\n",
       "      <td>2018-01-01</td>\n",
       "      <td>F</td>\n",
       "      <td>20</td>\n",
       "      <td>뷰티</td>\n",
       "      <td>기능성 링클케어 화장품</td>\n",
       "      <td>25.00000</td>\n",
       "    </tr>\n",
       "    <tr>\n",
       "      <th>1</th>\n",
       "      <td>2018-01-02</td>\n",
       "      <td>F</td>\n",
       "      <td>20</td>\n",
       "      <td>뷰티</td>\n",
       "      <td>기능성 링클케어 화장품</td>\n",
       "      <td>25.00000</td>\n",
       "    </tr>\n",
       "    <tr>\n",
       "      <th>2</th>\n",
       "      <td>2018-01-03</td>\n",
       "      <td>F</td>\n",
       "      <td>20</td>\n",
       "      <td>뷰티</td>\n",
       "      <td>기능성 링클케어 화장품</td>\n",
       "      <td>50.00000</td>\n",
       "    </tr>\n",
       "    <tr>\n",
       "      <th>3</th>\n",
       "      <td>2018-01-04</td>\n",
       "      <td>F</td>\n",
       "      <td>20</td>\n",
       "      <td>뷰티</td>\n",
       "      <td>기능성 링클케어 화장품</td>\n",
       "      <td>58.33333</td>\n",
       "    </tr>\n",
       "    <tr>\n",
       "      <th>4</th>\n",
       "      <td>2018-01-05</td>\n",
       "      <td>F</td>\n",
       "      <td>20</td>\n",
       "      <td>뷰티</td>\n",
       "      <td>기능성 링클케어 화장품</td>\n",
       "      <td>8.33333</td>\n",
       "    </tr>\n",
       "  </tbody>\n",
       "</table>\n",
       "</div>"
      ],
      "text/plain": [
       "       period sex  age big_cat        sm_cat     ratio\n",
       "0  2018-01-01   F   20      뷰티  기능성 링클케어 화장품  25.00000\n",
       "1  2018-01-02   F   20      뷰티  기능성 링클케어 화장품  25.00000\n",
       "2  2018-01-03   F   20      뷰티  기능성 링클케어 화장품  50.00000\n",
       "3  2018-01-04   F   20      뷰티  기능성 링클케어 화장품  58.33333\n",
       "4  2018-01-05   F   20      뷰티  기능성 링클케어 화장품   8.33333"
      ]
     },
     "execution_count": 151,
     "metadata": {},
     "output_type": "execute_result"
    }
   ],
   "source": [
    "beauty_search = pd.concat([beauty_search1, beauty_search2], axis=0).reset_index(drop=True)\n",
    "beauty_search = to_original_category_name(beauty_search, beauty_cat)\n",
    "\n",
    "print(beauty_search.shape)\n",
    "beauty_search.head()"
   ]
  },
  {
   "cell_type": "code",
   "execution_count": 152,
   "metadata": {},
   "outputs": [],
   "source": [
    "beauty_search.to_csv(\"beauty_trend.csv\", index=False, encoding='cp949')"
   ]
  },
  {
   "cell_type": "markdown",
   "metadata": {},
   "source": [
    "## 4. 식품 "
   ]
  },
  {
   "cell_type": "code",
   "execution_count": 157,
   "metadata": {},
   "outputs": [
    {
     "name": "stderr",
     "output_type": "stream",
     "text": [
      "100%|██████████| 30/30 [01:11<00:00,  2.37s/it]\n"
     ]
    }
   ],
   "source": [
    "food_search1 = category_search(food2[:30])"
   ]
  },
  {
   "cell_type": "code",
   "execution_count": null,
   "metadata": {},
   "outputs": [],
   "source": []
  }
 ],
 "metadata": {
  "kernelspec": {
   "display_name": "Python 3",
   "language": "python",
   "name": "python3"
  },
  "language_info": {
   "codemirror_mode": {
    "name": "ipython",
    "version": 3
   },
   "file_extension": ".py",
   "mimetype": "text/x-python",
   "name": "python",
   "nbconvert_exporter": "python",
   "pygments_lexer": "ipython3",
   "version": "3.8.3"
  }
 },
 "nbformat": 4,
 "nbformat_minor": 4
}
