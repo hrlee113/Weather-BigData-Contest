{
  "nbformat": 4,
  "nbformat_minor": 0,
  "metadata": {
    "colab": {
      "name": "6-Sampling.ipynb",
      "provenance": [],
      "collapsed_sections": [],
      "machine_shape": "hm"
    },
    "kernelspec": {
      "name": "python3",
      "display_name": "Python 3"
    },
    "language_info": {
      "name": "python"
    }
  },
  "cells": [
    {
      "cell_type": "markdown",
      "metadata": {
        "id": "AsdESfXq_Wrp"
      },
      "source": [
        "# Sampling"
      ]
    },
    {
      "cell_type": "markdown",
      "metadata": {
        "id": "d25KDtJV_avf"
      },
      "source": [
        "## 0. 데이터 불러오기"
      ]
    },
    {
      "cell_type": "code",
      "metadata": {
        "colab": {
          "base_uri": "https://localhost:8080/"
        },
        "id": "q5Nnf1Nc_dt-",
        "outputId": "f7d6c6bd-2aa9-4ea8-d680-bc175c385501"
      },
      "source": [
        "from google.colab import drive\n",
        "drive.mount('/content/drive')"
      ],
      "execution_count": null,
      "outputs": [
        {
          "output_type": "stream",
          "text": [
            "Mounted at /content/drive\n"
          ],
          "name": "stdout"
        }
      ]
    },
    {
      "cell_type": "code",
      "metadata": {
        "id": "_xosBwqZ_i--"
      },
      "source": [
        "import os\n",
        "os.chdir('/content/drive/MyDrive/기상청/데이터')"
      ],
      "execution_count": null,
      "outputs": []
    },
    {
      "cell_type": "code",
      "metadata": {
        "colab": {
          "base_uri": "https://localhost:8080/"
        },
        "id": "cfPpRubk-1x8",
        "outputId": "163d117d-e1fc-4754-a191-05053dc69e8f"
      },
      "source": [
        "import numpy as np\n",
        "import pandas as pd\n",
        "import datetime\n",
        "from datetime import timedelta\n",
        "from tqdm.notebook import tqdm\n",
        "tqdm.pandas()\n",
        "\n",
        "import random\n",
        "\n",
        "import matplotlib.pyplot as plt\n",
        "from matplotlib import rc\n",
        "import seaborn as sns\n",
        "%matplotlib inline\n",
        "\n",
        "rc('font', family='MalgunGothic')\n",
        "plt.rcParams['axes.unicode_minus'] = False"
      ],
      "execution_count": null,
      "outputs": [
        {
          "output_type": "stream",
          "text": [
            "/usr/local/lib/python3.7/dist-packages/tqdm/std.py:658: FutureWarning: The Panel class is removed from pandas. Accessing it from the top-level namespace will also be removed in the next version\n",
            "  from pandas import Panel\n"
          ],
          "name": "stderr"
        }
      ]
    },
    {
      "cell_type": "code",
      "metadata": {
        "id": "gqzQUqse_ftz"
      },
      "source": [
        "data = pd.read_csv('data.csv', encoding='CP949')"
      ],
      "execution_count": null,
      "outputs": []
    },
    {
      "cell_type": "code",
      "metadata": {
        "colab": {
          "base_uri": "https://localhost:8080/",
          "height": 204
        },
        "id": "bHvbnahB_nF7",
        "outputId": "d6743b72-db41-4440-d830-46a4b78fdc91"
      },
      "source": [
        "data.head()"
      ],
      "execution_count": null,
      "outputs": [
        {
          "output_type": "execute_result",
          "data": {
            "text/html": [
              "<div>\n",
              "<style scoped>\n",
              "    .dataframe tbody tr th:only-of-type {\n",
              "        vertical-align: middle;\n",
              "    }\n",
              "\n",
              "    .dataframe tbody tr th {\n",
              "        vertical-align: top;\n",
              "    }\n",
              "\n",
              "    .dataframe thead th {\n",
              "        text-align: right;\n",
              "    }\n",
              "</style>\n",
              "<table border=\"1\" class=\"dataframe\">\n",
              "  <thead>\n",
              "    <tr style=\"text-align: right;\">\n",
              "      <th></th>\n",
              "      <th>date</th>\n",
              "      <th>sex</th>\n",
              "      <th>age</th>\n",
              "      <th>big_cat</th>\n",
              "      <th>sm_cat</th>\n",
              "      <th>qty</th>\n",
              "      <th>cnt</th>\n",
              "    </tr>\n",
              "  </thead>\n",
              "  <tbody>\n",
              "    <tr>\n",
              "      <th>0</th>\n",
              "      <td>20180101</td>\n",
              "      <td>F</td>\n",
              "      <td>20</td>\n",
              "      <td>식품</td>\n",
              "      <td>가공란</td>\n",
              "      <td>37</td>\n",
              "      <td>0.480964</td>\n",
              "    </tr>\n",
              "    <tr>\n",
              "      <th>1</th>\n",
              "      <td>20180101</td>\n",
              "      <td>F</td>\n",
              "      <td>30</td>\n",
              "      <td>식품</td>\n",
              "      <td>가공란</td>\n",
              "      <td>16</td>\n",
              "      <td>0.480964</td>\n",
              "    </tr>\n",
              "    <tr>\n",
              "      <th>2</th>\n",
              "      <td>20180101</td>\n",
              "      <td>F</td>\n",
              "      <td>40</td>\n",
              "      <td>식품</td>\n",
              "      <td>가공란</td>\n",
              "      <td>9</td>\n",
              "      <td>0.480964</td>\n",
              "    </tr>\n",
              "    <tr>\n",
              "      <th>3</th>\n",
              "      <td>20180101</td>\n",
              "      <td>F</td>\n",
              "      <td>50</td>\n",
              "      <td>식품</td>\n",
              "      <td>가공란</td>\n",
              "      <td>3</td>\n",
              "      <td>0.480964</td>\n",
              "    </tr>\n",
              "    <tr>\n",
              "      <th>4</th>\n",
              "      <td>20180101</td>\n",
              "      <td>M</td>\n",
              "      <td>20</td>\n",
              "      <td>식품</td>\n",
              "      <td>가공란</td>\n",
              "      <td>13</td>\n",
              "      <td>0.480964</td>\n",
              "    </tr>\n",
              "  </tbody>\n",
              "</table>\n",
              "</div>"
            ],
            "text/plain": [
              "       date sex  age big_cat sm_cat  qty       cnt\n",
              "0  20180101   F   20      식품    가공란   37  0.480964\n",
              "1  20180101   F   30      식품    가공란   16  0.480964\n",
              "2  20180101   F   40      식품    가공란    9  0.480964\n",
              "3  20180101   F   50      식품    가공란    3  0.480964\n",
              "4  20180101   M   20      식품    가공란   13  0.480964"
            ]
          },
          "metadata": {
            "tags": []
          },
          "execution_count": 5
        }
      ]
    },
    {
      "cell_type": "markdown",
      "metadata": {
        "id": "Trkh4ex1_rgu"
      },
      "source": [
        "## 1. 데이터 전처리"
      ]
    },
    {
      "cell_type": "markdown",
      "metadata": {
        "id": "hhcdKuNZe006"
      },
      "source": [
        "### 1-1. 시간 변수 생성"
      ]
    },
    {
      "cell_type": "code",
      "metadata": {
        "id": "RMoiyYwF_olc"
      },
      "source": [
        "data['date'] = pd.to_datetime(data['date'], format='%Y%m%d')\n",
        "data['year'] = data['date'].dt.year\n",
        "data['month'] = data['date'].dt.month\n",
        "data['day'] = data['date'].dt.day\n",
        "data['weekday'] = data['date'].dt.strftime(\"%A\")"
      ],
      "execution_count": null,
      "outputs": []
    },
    {
      "cell_type": "code",
      "metadata": {
        "colab": {
          "base_uri": "https://localhost:8080/",
          "height": 111
        },
        "id": "STpomvey_yJb",
        "outputId": "644dd3d0-c578-4d65-fbf6-bf503a1148f3"
      },
      "source": [
        "data.head(2)"
      ],
      "execution_count": null,
      "outputs": [
        {
          "output_type": "execute_result",
          "data": {
            "text/html": [
              "<div>\n",
              "<style scoped>\n",
              "    .dataframe tbody tr th:only-of-type {\n",
              "        vertical-align: middle;\n",
              "    }\n",
              "\n",
              "    .dataframe tbody tr th {\n",
              "        vertical-align: top;\n",
              "    }\n",
              "\n",
              "    .dataframe thead th {\n",
              "        text-align: right;\n",
              "    }\n",
              "</style>\n",
              "<table border=\"1\" class=\"dataframe\">\n",
              "  <thead>\n",
              "    <tr style=\"text-align: right;\">\n",
              "      <th></th>\n",
              "      <th>date</th>\n",
              "      <th>sex</th>\n",
              "      <th>age</th>\n",
              "      <th>big_cat</th>\n",
              "      <th>sm_cat</th>\n",
              "      <th>qty</th>\n",
              "      <th>cnt</th>\n",
              "      <th>year</th>\n",
              "      <th>month</th>\n",
              "      <th>day</th>\n",
              "      <th>weekday</th>\n",
              "    </tr>\n",
              "  </thead>\n",
              "  <tbody>\n",
              "    <tr>\n",
              "      <th>0</th>\n",
              "      <td>2018-01-01</td>\n",
              "      <td>F</td>\n",
              "      <td>20</td>\n",
              "      <td>식품</td>\n",
              "      <td>가공란</td>\n",
              "      <td>37</td>\n",
              "      <td>0.480964</td>\n",
              "      <td>2018</td>\n",
              "      <td>1</td>\n",
              "      <td>1</td>\n",
              "      <td>Monday</td>\n",
              "    </tr>\n",
              "    <tr>\n",
              "      <th>1</th>\n",
              "      <td>2018-01-01</td>\n",
              "      <td>F</td>\n",
              "      <td>30</td>\n",
              "      <td>식품</td>\n",
              "      <td>가공란</td>\n",
              "      <td>16</td>\n",
              "      <td>0.480964</td>\n",
              "      <td>2018</td>\n",
              "      <td>1</td>\n",
              "      <td>1</td>\n",
              "      <td>Monday</td>\n",
              "    </tr>\n",
              "  </tbody>\n",
              "</table>\n",
              "</div>"
            ],
            "text/plain": [
              "        date sex  age big_cat sm_cat  qty       cnt  year  month  day weekday\n",
              "0 2018-01-01   F   20      식품    가공란   37  0.480964  2018      1    1  Monday\n",
              "1 2018-01-01   F   30      식품    가공란   16  0.480964  2018      1    1  Monday"
            ]
          },
          "metadata": {
            "tags": []
          },
          "execution_count": 16
        }
      ]
    },
    {
      "cell_type": "code",
      "metadata": {
        "colab": {
          "base_uri": "https://localhost:8080/",
          "height": 111
        },
        "id": "UMJCPpZvCyUi",
        "outputId": "49fc9f9a-f1a1-4b71-bbbe-8540c7a17d22"
      },
      "source": [
        "data.tail(2)"
      ],
      "execution_count": null,
      "outputs": [
        {
          "output_type": "execute_result",
          "data": {
            "text/html": [
              "<div>\n",
              "<style scoped>\n",
              "    .dataframe tbody tr th:only-of-type {\n",
              "        vertical-align: middle;\n",
              "    }\n",
              "\n",
              "    .dataframe tbody tr th {\n",
              "        vertical-align: top;\n",
              "    }\n",
              "\n",
              "    .dataframe thead th {\n",
              "        text-align: right;\n",
              "    }\n",
              "</style>\n",
              "<table border=\"1\" class=\"dataframe\">\n",
              "  <thead>\n",
              "    <tr style=\"text-align: right;\">\n",
              "      <th></th>\n",
              "      <th>date</th>\n",
              "      <th>sex</th>\n",
              "      <th>age</th>\n",
              "      <th>big_cat</th>\n",
              "      <th>sm_cat</th>\n",
              "      <th>qty</th>\n",
              "      <th>cnt</th>\n",
              "      <th>year</th>\n",
              "      <th>month</th>\n",
              "      <th>day</th>\n",
              "      <th>weekday</th>\n",
              "    </tr>\n",
              "  </thead>\n",
              "  <tbody>\n",
              "    <tr>\n",
              "      <th>2056897</th>\n",
              "      <td>2019-12-31</td>\n",
              "      <td>M</td>\n",
              "      <td>50</td>\n",
              "      <td>냉난방가전</td>\n",
              "      <td>히터</td>\n",
              "      <td>23</td>\n",
              "      <td>71.295163</td>\n",
              "      <td>2019</td>\n",
              "      <td>12</td>\n",
              "      <td>31</td>\n",
              "      <td>Tuesday</td>\n",
              "    </tr>\n",
              "    <tr>\n",
              "      <th>2056898</th>\n",
              "      <td>2019-12-31</td>\n",
              "      <td>M</td>\n",
              "      <td>60</td>\n",
              "      <td>냉난방가전</td>\n",
              "      <td>히터</td>\n",
              "      <td>10</td>\n",
              "      <td>71.295163</td>\n",
              "      <td>2019</td>\n",
              "      <td>12</td>\n",
              "      <td>31</td>\n",
              "      <td>Tuesday</td>\n",
              "    </tr>\n",
              "  </tbody>\n",
              "</table>\n",
              "</div>"
            ],
            "text/plain": [
              "              date sex  age big_cat  ...  year  month  day  weekday\n",
              "2056897 2019-12-31   M   50   냉난방가전  ...  2019     12   31  Tuesday\n",
              "2056898 2019-12-31   M   60   냉난방가전  ...  2019     12   31  Tuesday\n",
              "\n",
              "[2 rows x 11 columns]"
            ]
          },
          "metadata": {
            "tags": []
          },
          "execution_count": 17
        }
      ]
    },
    {
      "cell_type": "markdown",
      "metadata": {
        "id": "3WM7ZDJMe3HU"
      },
      "source": [
        "### 1-2. groupby"
      ]
    },
    {
      "cell_type": "code",
      "metadata": {
        "id": "zcQbP2CGe8kP"
      },
      "source": [
        "df_groupby = data.groupby(['date','big_cat','sm_cat'])['qty'].mean().reset_index()"
      ],
      "execution_count": null,
      "outputs": []
    },
    {
      "cell_type": "code",
      "metadata": {
        "colab": {
          "base_uri": "https://localhost:8080/",
          "height": 111
        },
        "id": "tgGlIKGxUMOl",
        "outputId": "f7c63496-97d1-4683-ea89-b34964b8be4d"
      },
      "source": [
        "df_groupby.head(2)"
      ],
      "execution_count": null,
      "outputs": [
        {
          "output_type": "execute_result",
          "data": {
            "text/html": [
              "<div>\n",
              "<style scoped>\n",
              "    .dataframe tbody tr th:only-of-type {\n",
              "        vertical-align: middle;\n",
              "    }\n",
              "\n",
              "    .dataframe tbody tr th {\n",
              "        vertical-align: top;\n",
              "    }\n",
              "\n",
              "    .dataframe thead th {\n",
              "        text-align: right;\n",
              "    }\n",
              "</style>\n",
              "<table border=\"1\" class=\"dataframe\">\n",
              "  <thead>\n",
              "    <tr style=\"text-align: right;\">\n",
              "      <th></th>\n",
              "      <th>date</th>\n",
              "      <th>big_cat</th>\n",
              "      <th>sm_cat</th>\n",
              "      <th>qty</th>\n",
              "    </tr>\n",
              "  </thead>\n",
              "  <tbody>\n",
              "    <tr>\n",
              "      <th>0</th>\n",
              "      <td>2018-01-01</td>\n",
              "      <td>냉난방가전</td>\n",
              "      <td>가열식 가습기</td>\n",
              "      <td>1.75</td>\n",
              "    </tr>\n",
              "    <tr>\n",
              "      <th>1</th>\n",
              "      <td>2018-01-01</td>\n",
              "      <td>냉난방가전</td>\n",
              "      <td>공기정화 용품</td>\n",
              "      <td>12.00</td>\n",
              "    </tr>\n",
              "  </tbody>\n",
              "</table>\n",
              "</div>"
            ],
            "text/plain": [
              "        date big_cat   sm_cat    qty\n",
              "0 2018-01-01   냉난방가전  가열식 가습기   1.75\n",
              "1 2018-01-01   냉난방가전  공기정화 용품  12.00"
            ]
          },
          "metadata": {
            "tags": []
          },
          "execution_count": 12
        }
      ]
    },
    {
      "cell_type": "code",
      "metadata": {
        "colab": {
          "base_uri": "https://localhost:8080/",
          "height": 111
        },
        "id": "qa4y-TJcU3Ox",
        "outputId": "dff509d0-5420-48f3-d661-8b81dc88dbff"
      },
      "source": [
        "df_groupby.tail(2)"
      ],
      "execution_count": null,
      "outputs": [
        {
          "output_type": "execute_result",
          "data": {
            "text/html": [
              "<div>\n",
              "<style scoped>\n",
              "    .dataframe tbody tr th:only-of-type {\n",
              "        vertical-align: middle;\n",
              "    }\n",
              "\n",
              "    .dataframe tbody tr th {\n",
              "        vertical-align: top;\n",
              "    }\n",
              "\n",
              "    .dataframe thead th {\n",
              "        text-align: right;\n",
              "    }\n",
              "</style>\n",
              "<table border=\"1\" class=\"dataframe\">\n",
              "  <thead>\n",
              "    <tr style=\"text-align: right;\">\n",
              "      <th></th>\n",
              "      <th>date</th>\n",
              "      <th>big_cat</th>\n",
              "      <th>sm_cat</th>\n",
              "      <th>qty</th>\n",
              "    </tr>\n",
              "  </thead>\n",
              "  <tbody>\n",
              "    <tr>\n",
              "      <th>267705</th>\n",
              "      <td>2019-12-31</td>\n",
              "      <td>식품</td>\n",
              "      <td>회</td>\n",
              "      <td>245.9</td>\n",
              "    </tr>\n",
              "    <tr>\n",
              "      <th>267706</th>\n",
              "      <td>2019-12-31</td>\n",
              "      <td>식품</td>\n",
              "      <td>흰우유</td>\n",
              "      <td>78.2</td>\n",
              "    </tr>\n",
              "  </tbody>\n",
              "</table>\n",
              "</div>"
            ],
            "text/plain": [
              "             date big_cat sm_cat    qty\n",
              "267705 2019-12-31      식품      회  245.9\n",
              "267706 2019-12-31      식품    흰우유   78.2"
            ]
          },
          "metadata": {
            "tags": []
          },
          "execution_count": 13
        }
      ]
    },
    {
      "cell_type": "markdown",
      "metadata": {
        "id": "3f7aQv81_6fp"
      },
      "source": [
        "## 2. Sampling 함수"
      ]
    },
    {
      "cell_type": "markdown",
      "metadata": {
        "id": "Ci98o2MzAyaG"
      },
      "source": [
        "**Rule**\n",
        "* test set\n",
        "* 1주일에 하루 랜덤한 요일\n",
        "* 클러스터 내에서는 동일"
      ]
    },
    {
      "cell_type": "markdown",
      "metadata": {
        "id": "XQQRNGUyBJBh"
      },
      "source": [
        "**Idea**\n",
        "* test set을 위한 index\n",
        "* 클러스터끼리 모델링하므로 각 클러스터마다 아래 함수 사용할 것\n",
        "* 모든 소분류 같은 요일 샘플링"
      ]
    },
    {
      "cell_type": "code",
      "metadata": {
        "id": "ITj6semf_1lT"
      },
      "source": [
        "def sampling(data):\n",
        "    # 랜덤으로 요일 선택\n",
        "    sample_day = []; sample_idx = []\n",
        "    count = 730//7 \n",
        "    day_list = day_list = [1,2,3,4,5,6,7]\n",
        "    sample_list = [random.choice(day_list) for i in range(count)]\n",
        "\n",
        "    # 랜덤으로 선택된 요일의 날짜\n",
        "    start = datetime.datetime(2018, 1, 1)\n",
        "    for days in sample_list:\n",
        "        sample_day.append(start + datetime.timedelta(days = days))\n",
        "        start = start + datetime.timedelta(weeks = 1)\n",
        "\n",
        "    # 샘플링\n",
        "    for date in sample_day:\n",
        "        sample_idx.extend(data[data['date']==date].index)\n",
        "        \n",
        "    all_idx = data.index.tolist()\n",
        "    train_idx = list(set(all_idx) - set(sample_idx))\n",
        "    return data.iloc[train_idx].reset_index(drop=True), data.iloc[sample_idx].reset_index(drop=True)"
      ],
      "execution_count": null,
      "outputs": []
    },
    {
      "cell_type": "code",
      "metadata": {
        "id": "k76R6iTpHJT7"
      },
      "source": [
        "train, test = sampling(df_groupby)"
      ],
      "execution_count": null,
      "outputs": []
    },
    {
      "cell_type": "code",
      "metadata": {
        "colab": {
          "base_uri": "https://localhost:8080/"
        },
        "id": "PkMLb-wVASHh",
        "outputId": "ac0b0e17-0694-4d57-dfe4-ea77637cff4a"
      },
      "source": [
        "print(train.shape)\n",
        "print(test.shape)"
      ],
      "execution_count": null,
      "outputs": [
        {
          "output_type": "stream",
          "text": [
            "(229589, 4)\n",
            "(38118, 4)\n"
          ],
          "name": "stdout"
        }
      ]
    },
    {
      "cell_type": "code",
      "metadata": {
        "colab": {
          "base_uri": "https://localhost:8080/",
          "height": 111
        },
        "id": "gyYUQcDy_TUh",
        "outputId": "4681990a-2bbf-43ee-a8bf-f73037155946"
      },
      "source": [
        "train.head(2)"
      ],
      "execution_count": null,
      "outputs": [
        {
          "output_type": "execute_result",
          "data": {
            "text/html": [
              "<div>\n",
              "<style scoped>\n",
              "    .dataframe tbody tr th:only-of-type {\n",
              "        vertical-align: middle;\n",
              "    }\n",
              "\n",
              "    .dataframe tbody tr th {\n",
              "        vertical-align: top;\n",
              "    }\n",
              "\n",
              "    .dataframe thead th {\n",
              "        text-align: right;\n",
              "    }\n",
              "</style>\n",
              "<table border=\"1\" class=\"dataframe\">\n",
              "  <thead>\n",
              "    <tr style=\"text-align: right;\">\n",
              "      <th></th>\n",
              "      <th>date</th>\n",
              "      <th>big_cat</th>\n",
              "      <th>sm_cat</th>\n",
              "      <th>qty</th>\n",
              "    </tr>\n",
              "  </thead>\n",
              "  <tbody>\n",
              "    <tr>\n",
              "      <th>0</th>\n",
              "      <td>2018-01-01</td>\n",
              "      <td>냉난방가전</td>\n",
              "      <td>가열식 가습기</td>\n",
              "      <td>1.75</td>\n",
              "    </tr>\n",
              "    <tr>\n",
              "      <th>1</th>\n",
              "      <td>2018-01-01</td>\n",
              "      <td>냉난방가전</td>\n",
              "      <td>공기정화 용품</td>\n",
              "      <td>12.00</td>\n",
              "    </tr>\n",
              "  </tbody>\n",
              "</table>\n",
              "</div>"
            ],
            "text/plain": [
              "        date big_cat   sm_cat    qty\n",
              "0 2018-01-01   냉난방가전  가열식 가습기   1.75\n",
              "1 2018-01-01   냉난방가전  공기정화 용품  12.00"
            ]
          },
          "metadata": {
            "tags": []
          },
          "execution_count": 19
        }
      ]
    },
    {
      "cell_type": "code",
      "metadata": {
        "colab": {
          "base_uri": "https://localhost:8080/",
          "height": 111
        },
        "id": "UQwnNvB-_dvX",
        "outputId": "de87c250-c92f-4d9a-813d-e6cbbf2590a2"
      },
      "source": [
        "test.head(2)"
      ],
      "execution_count": null,
      "outputs": [
        {
          "output_type": "execute_result",
          "data": {
            "text/html": [
              "<div>\n",
              "<style scoped>\n",
              "    .dataframe tbody tr th:only-of-type {\n",
              "        vertical-align: middle;\n",
              "    }\n",
              "\n",
              "    .dataframe tbody tr th {\n",
              "        vertical-align: top;\n",
              "    }\n",
              "\n",
              "    .dataframe thead th {\n",
              "        text-align: right;\n",
              "    }\n",
              "</style>\n",
              "<table border=\"1\" class=\"dataframe\">\n",
              "  <thead>\n",
              "    <tr style=\"text-align: right;\">\n",
              "      <th></th>\n",
              "      <th>date</th>\n",
              "      <th>big_cat</th>\n",
              "      <th>sm_cat</th>\n",
              "      <th>qty</th>\n",
              "    </tr>\n",
              "  </thead>\n",
              "  <tbody>\n",
              "    <tr>\n",
              "      <th>0</th>\n",
              "      <td>2018-01-07</td>\n",
              "      <td>냉난방가전</td>\n",
              "      <td>가열식 가습기</td>\n",
              "      <td>2.833333</td>\n",
              "    </tr>\n",
              "    <tr>\n",
              "      <th>1</th>\n",
              "      <td>2018-01-07</td>\n",
              "      <td>냉난방가전</td>\n",
              "      <td>공기정화 용품</td>\n",
              "      <td>11.111111</td>\n",
              "    </tr>\n",
              "  </tbody>\n",
              "</table>\n",
              "</div>"
            ],
            "text/plain": [
              "        date big_cat   sm_cat        qty\n",
              "0 2018-01-07   냉난방가전  가열식 가습기   2.833333\n",
              "1 2018-01-07   냉난방가전  공기정화 용품  11.111111"
            ]
          },
          "metadata": {
            "tags": []
          },
          "execution_count": 20
        }
      ]
    },
    {
      "cell_type": "code",
      "metadata": {
        "colab": {
          "base_uri": "https://localhost:8080/",
          "height": 111
        },
        "id": "4GG5cLEaVGi7",
        "outputId": "91d8bfbf-b60a-4e15-ee8a-02e8f90dac00"
      },
      "source": [
        "train.tail(2)"
      ],
      "execution_count": null,
      "outputs": [
        {
          "output_type": "execute_result",
          "data": {
            "text/html": [
              "<div>\n",
              "<style scoped>\n",
              "    .dataframe tbody tr th:only-of-type {\n",
              "        vertical-align: middle;\n",
              "    }\n",
              "\n",
              "    .dataframe tbody tr th {\n",
              "        vertical-align: top;\n",
              "    }\n",
              "\n",
              "    .dataframe thead th {\n",
              "        text-align: right;\n",
              "    }\n",
              "</style>\n",
              "<table border=\"1\" class=\"dataframe\">\n",
              "  <thead>\n",
              "    <tr style=\"text-align: right;\">\n",
              "      <th></th>\n",
              "      <th>date</th>\n",
              "      <th>big_cat</th>\n",
              "      <th>sm_cat</th>\n",
              "      <th>qty</th>\n",
              "    </tr>\n",
              "  </thead>\n",
              "  <tbody>\n",
              "    <tr>\n",
              "      <th>229587</th>\n",
              "      <td>2019-12-31</td>\n",
              "      <td>식품</td>\n",
              "      <td>회</td>\n",
              "      <td>245.9</td>\n",
              "    </tr>\n",
              "    <tr>\n",
              "      <th>229588</th>\n",
              "      <td>2019-12-31</td>\n",
              "      <td>식품</td>\n",
              "      <td>흰우유</td>\n",
              "      <td>78.2</td>\n",
              "    </tr>\n",
              "  </tbody>\n",
              "</table>\n",
              "</div>"
            ],
            "text/plain": [
              "             date big_cat sm_cat    qty\n",
              "229587 2019-12-31      식품      회  245.9\n",
              "229588 2019-12-31      식품    흰우유   78.2"
            ]
          },
          "metadata": {
            "tags": []
          },
          "execution_count": 22
        }
      ]
    },
    {
      "cell_type": "code",
      "metadata": {
        "colab": {
          "base_uri": "https://localhost:8080/",
          "height": 111
        },
        "id": "5krXSOQfVEwX",
        "outputId": "77af557e-f71c-4b88-c5ce-9943577b08f8"
      },
      "source": [
        "test.tail(2)"
      ],
      "execution_count": null,
      "outputs": [
        {
          "output_type": "execute_result",
          "data": {
            "text/html": [
              "<div>\n",
              "<style scoped>\n",
              "    .dataframe tbody tr th:only-of-type {\n",
              "        vertical-align: middle;\n",
              "    }\n",
              "\n",
              "    .dataframe tbody tr th {\n",
              "        vertical-align: top;\n",
              "    }\n",
              "\n",
              "    .dataframe thead th {\n",
              "        text-align: right;\n",
              "    }\n",
              "</style>\n",
              "<table border=\"1\" class=\"dataframe\">\n",
              "  <thead>\n",
              "    <tr style=\"text-align: right;\">\n",
              "      <th></th>\n",
              "      <th>date</th>\n",
              "      <th>big_cat</th>\n",
              "      <th>sm_cat</th>\n",
              "      <th>qty</th>\n",
              "    </tr>\n",
              "  </thead>\n",
              "  <tbody>\n",
              "    <tr>\n",
              "      <th>38116</th>\n",
              "      <td>2019-12-29</td>\n",
              "      <td>식품</td>\n",
              "      <td>회</td>\n",
              "      <td>157.6</td>\n",
              "    </tr>\n",
              "    <tr>\n",
              "      <th>38117</th>\n",
              "      <td>2019-12-29</td>\n",
              "      <td>식품</td>\n",
              "      <td>흰우유</td>\n",
              "      <td>83.3</td>\n",
              "    </tr>\n",
              "  </tbody>\n",
              "</table>\n",
              "</div>"
            ],
            "text/plain": [
              "            date big_cat sm_cat    qty\n",
              "38116 2019-12-29      식품      회  157.6\n",
              "38117 2019-12-29      식품    흰우유   83.3"
            ]
          },
          "metadata": {
            "tags": []
          },
          "execution_count": 21
        }
      ]
    },
    {
      "cell_type": "code",
      "metadata": {
        "colab": {
          "base_uri": "https://localhost:8080/"
        },
        "id": "tn1N5i0OAX6C",
        "outputId": "c78c8582-d9fe-4e96-b08e-7c5759a4bdad"
      },
      "source": [
        "# 매주 한 요일씩 추출된 것 확인\n",
        "len(test['date'].unique())"
      ],
      "execution_count": null,
      "outputs": [
        {
          "output_type": "execute_result",
          "data": {
            "text/plain": [
              "104"
            ]
          },
          "metadata": {
            "tags": []
          },
          "execution_count": 23
        }
      ]
    }
  ]
}