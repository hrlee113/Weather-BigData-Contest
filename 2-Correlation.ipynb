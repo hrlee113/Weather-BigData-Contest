{
 "cells": [
  {
   "cell_type": "markdown",
   "metadata": {
    "id": "rrz4-pMLKcMn"
   },
   "source": [
    "# #2. 상관관계 분석 \n",
    "* 날씨와 민감한 상품군을 파악하는 과정입니다. "
   ]
  },
  {
   "cell_type": "code",
   "execution_count": null,
   "metadata": {
    "id": "gIoeQSe6KcMq"
   },
   "outputs": [],
   "source": [
    "import warnings\n",
    "warnings.filterwarnings(action='ignore')\n",
    "\n",
    "import pandas as pd \n",
    "import numpy as np\n",
    "from statsmodels.tsa.stattools import adfuller\n",
    "pd.set_option(\"max_rows\", 500)\n",
    "pd.set_option(\"max_columns\", 500)\n",
    "pd.set_option('float_format', '{:f}'.format)\n",
    "\n",
    "import dataload\n",
    "\n",
    "import os \n",
    "import datetime\n",
    "from tqdm import tqdm \n",
    "from functools import reduce\n",
    "tqdm.pandas()\n",
    "\n",
    "%matplotlib inline\n",
    "import seaborn as sns\n",
    "import matplotlib.pyplot as plt \n",
    "plt.style.use('seaborn')\n",
    "plt.rc('font', family='AppleGothic')\n",
    "plt.rc('axes', unicode_minus=False)"
   ]
  },
  {
   "cell_type": "markdown",
   "metadata": {
    "id": "cOuDAZ8aKcMr"
   },
   "source": [
    "# Data Load "
   ]
  },
  {
   "cell_type": "code",
   "execution_count": null,
   "metadata": {
    "id": "CYa-gzlqKcMr",
    "outputId": "1738c56b-64a5-443b-e719-3b1bce9201f4"
   },
   "outputs": [
    {
     "name": "stdout",
     "output_type": "stream",
     "text": [
      "(11680, 16)\n"
     ]
    },
    {
     "data": {
      "text/plain": [
       "True"
      ]
     },
     "execution_count": 10,
     "metadata": {
      "tags": []
     },
     "output_type": "execute_result"
    }
   ],
   "source": [
    "weather = pd.read_csv(os.path.join('최종데이터', 'weather_final2.csv'), encoding='cp949')\n",
    "weather = weather.drop(['연', '월', '일', '분기', '요일', '공휴일명', '공휴일여부', '주말여부', '계절', '폭염여부', '강수여부', 'year', 'month'], axis=1)\n",
    "weather = weather.rename(columns = {'날짜':'date'})\n",
    "\n",
    "print(weather.shape)\n",
    "weather.shape[0] == weather.date.nunique() * weather.지역.nunique()"
   ]
  },
  {
   "cell_type": "code",
   "execution_count": null,
   "metadata": {
    "id": "HK8udFTxKcMt",
    "outputId": "3b8b7ef4-bf46-4575-99f8-68b099974b23"
   },
   "outputs": [
    {
     "data": {
      "text/html": [
       "<div>\n",
       "<style scoped>\n",
       "    .dataframe tbody tr th:only-of-type {\n",
       "        vertical-align: middle;\n",
       "    }\n",
       "\n",
       "    .dataframe tbody tr th {\n",
       "        vertical-align: top;\n",
       "    }\n",
       "\n",
       "    .dataframe thead th {\n",
       "        text-align: right;\n",
       "    }\n",
       "</style>\n",
       "<table border=\"1\" class=\"dataframe\">\n",
       "  <thead>\n",
       "    <tr style=\"text-align: right;\">\n",
       "      <th></th>\n",
       "      <th>date</th>\n",
       "      <th>지점번호</th>\n",
       "      <th>평균기온</th>\n",
       "      <th>최고기온</th>\n",
       "      <th>최저기온</th>\n",
       "      <th>일별강수량</th>\n",
       "      <th>1시간최대강수량</th>\n",
       "      <th>평균풍속</th>\n",
       "      <th>지역</th>\n",
       "      <th>PM10</th>\n",
       "      <th>PM25</th>\n",
       "      <th>1시간최대습도</th>\n",
       "      <th>일조시간합</th>\n",
       "      <th>최고현지기압</th>\n",
       "      <th>체감온도</th>\n",
       "      <th>열지수</th>\n",
       "    </tr>\n",
       "  </thead>\n",
       "  <tbody>\n",
       "    <tr>\n",
       "      <th>0</th>\n",
       "      <td>2018-01-01</td>\n",
       "      <td>105</td>\n",
       "      <td>1.300000</td>\n",
       "      <td>5.700000</td>\n",
       "      <td>-2.100000</td>\n",
       "      <td>0.000000</td>\n",
       "      <td>0.000000</td>\n",
       "      <td>3.700000</td>\n",
       "      <td>강릉</td>\n",
       "      <td>20.066667</td>\n",
       "      <td>13.400000</td>\n",
       "      <td>25.400000</td>\n",
       "      <td>57.900000</td>\n",
       "      <td>1023.000000</td>\n",
       "      <td>7.502056</td>\n",
       "      <td>-39.701524</td>\n",
       "    </tr>\n",
       "    <tr>\n",
       "      <th>1</th>\n",
       "      <td>2018-01-01</td>\n",
       "      <td>112</td>\n",
       "      <td>-0.300000</td>\n",
       "      <td>2.700000</td>\n",
       "      <td>-2.700000</td>\n",
       "      <td>0.000000</td>\n",
       "      <td>0.000000</td>\n",
       "      <td>1.600000</td>\n",
       "      <td>인천</td>\n",
       "      <td>37.518681</td>\n",
       "      <td>18.641758</td>\n",
       "      <td>67.200000</td>\n",
       "      <td>53.800000</td>\n",
       "      <td>1020.300000</td>\n",
       "      <td>9.992379</td>\n",
       "      <td>-42.924922</td>\n",
       "    </tr>\n",
       "    <tr>\n",
       "      <th>2</th>\n",
       "      <td>2018-01-01</td>\n",
       "      <td>119</td>\n",
       "      <td>-1.700000</td>\n",
       "      <td>4.700000</td>\n",
       "      <td>-6.900000</td>\n",
       "      <td>0.000000</td>\n",
       "      <td>0.000000</td>\n",
       "      <td>1.000000</td>\n",
       "      <td>수원</td>\n",
       "      <td>42.782895</td>\n",
       "      <td>21.375000</td>\n",
       "      <td>84.700000</td>\n",
       "      <td>52.700000</td>\n",
       "      <td>1025.100000</td>\n",
       "      <td>10.136402</td>\n",
       "      <td>-45.791893</td>\n",
       "    </tr>\n",
       "    <tr>\n",
       "      <th>3</th>\n",
       "      <td>2018-01-01</td>\n",
       "      <td>136</td>\n",
       "      <td>-1.000000</td>\n",
       "      <td>4.700000</td>\n",
       "      <td>-6.500000</td>\n",
       "      <td>0.000000</td>\n",
       "      <td>0.000000</td>\n",
       "      <td>2.200000</td>\n",
       "      <td>안동</td>\n",
       "      <td>39.750000</td>\n",
       "      <td>28.583333</td>\n",
       "      <td>56.400000</td>\n",
       "      <td>58.300000</td>\n",
       "      <td>1010.600000</td>\n",
       "      <td>8.356692</td>\n",
       "      <td>-44.375704</td>\n",
       "    </tr>\n",
       "    <tr>\n",
       "      <th>4</th>\n",
       "      <td>2018-01-01</td>\n",
       "      <td>152</td>\n",
       "      <td>2.100000</td>\n",
       "      <td>6.200000</td>\n",
       "      <td>-0.400000</td>\n",
       "      <td>0.000000</td>\n",
       "      <td>0.000000</td>\n",
       "      <td>3.300000</td>\n",
       "      <td>울산</td>\n",
       "      <td>38.548193</td>\n",
       "      <td>15.433735</td>\n",
       "      <td>42.800000</td>\n",
       "      <td>58.300000</td>\n",
       "      <td>1017.100000</td>\n",
       "      <td>8.861429</td>\n",
       "      <td>-38.064334</td>\n",
       "    </tr>\n",
       "  </tbody>\n",
       "</table>\n",
       "</div>"
      ],
      "text/plain": [
       "         date  지점번호      평균기온     최고기온      최저기온    일별강수량  1시간최대강수량     평균풍속  \\\n",
       "0  2018-01-01   105  1.300000 5.700000 -2.100000 0.000000  0.000000 3.700000   \n",
       "1  2018-01-01   112 -0.300000 2.700000 -2.700000 0.000000  0.000000 1.600000   \n",
       "2  2018-01-01   119 -1.700000 4.700000 -6.900000 0.000000  0.000000 1.000000   \n",
       "3  2018-01-01   136 -1.000000 4.700000 -6.500000 0.000000  0.000000 2.200000   \n",
       "4  2018-01-01   152  2.100000 6.200000 -0.400000 0.000000  0.000000 3.300000   \n",
       "\n",
       "   지역      PM10      PM25   1시간최대습도     일조시간합      최고현지기압      체감온도        열지수  \n",
       "0  강릉 20.066667 13.400000 25.400000 57.900000 1023.000000  7.502056 -39.701524  \n",
       "1  인천 37.518681 18.641758 67.200000 53.800000 1020.300000  9.992379 -42.924922  \n",
       "2  수원 42.782895 21.375000 84.700000 52.700000 1025.100000 10.136402 -45.791893  \n",
       "3  안동 39.750000 28.583333 56.400000 58.300000 1010.600000  8.356692 -44.375704  \n",
       "4  울산 38.548193 15.433735 42.800000 58.300000 1017.100000  8.861429 -38.064334  "
      ]
     },
     "execution_count": 15,
     "metadata": {
      "tags": []
     },
     "output_type": "execute_result"
    }
   ],
   "source": [
    "weather.head()"
   ]
  },
  {
   "cell_type": "code",
   "execution_count": null,
   "metadata": {
    "id": "26bqFHMxKcMt",
    "outputId": "b0362dd1-8b61-43f9-9d69-439621bf35c6"
   },
   "outputs": [
    {
     "name": "stdout",
     "output_type": "stream",
     "text": [
      "(2056899, 6)\n"
     ]
    },
    {
     "data": {
      "text/html": [
       "<div>\n",
       "<style scoped>\n",
       "    .dataframe tbody tr th:only-of-type {\n",
       "        vertical-align: middle;\n",
       "    }\n",
       "\n",
       "    .dataframe tbody tr th {\n",
       "        vertical-align: top;\n",
       "    }\n",
       "\n",
       "    .dataframe thead th {\n",
       "        text-align: right;\n",
       "    }\n",
       "</style>\n",
       "<table border=\"1\" class=\"dataframe\">\n",
       "  <thead>\n",
       "    <tr style=\"text-align: right;\">\n",
       "      <th></th>\n",
       "      <th>date</th>\n",
       "      <th>sex</th>\n",
       "      <th>age</th>\n",
       "      <th>big_cat</th>\n",
       "      <th>sm_cat</th>\n",
       "      <th>qty</th>\n",
       "    </tr>\n",
       "  </thead>\n",
       "  <tbody>\n",
       "    <tr>\n",
       "      <th>0</th>\n",
       "      <td>20180101</td>\n",
       "      <td>F</td>\n",
       "      <td>20</td>\n",
       "      <td>식품</td>\n",
       "      <td>가공란</td>\n",
       "      <td>37</td>\n",
       "    </tr>\n",
       "    <tr>\n",
       "      <th>1</th>\n",
       "      <td>20180101</td>\n",
       "      <td>F</td>\n",
       "      <td>30</td>\n",
       "      <td>식품</td>\n",
       "      <td>가공란</td>\n",
       "      <td>16</td>\n",
       "    </tr>\n",
       "    <tr>\n",
       "      <th>2</th>\n",
       "      <td>20180101</td>\n",
       "      <td>F</td>\n",
       "      <td>40</td>\n",
       "      <td>식품</td>\n",
       "      <td>가공란</td>\n",
       "      <td>9</td>\n",
       "    </tr>\n",
       "    <tr>\n",
       "      <th>3</th>\n",
       "      <td>20180101</td>\n",
       "      <td>F</td>\n",
       "      <td>50</td>\n",
       "      <td>식품</td>\n",
       "      <td>가공란</td>\n",
       "      <td>3</td>\n",
       "    </tr>\n",
       "    <tr>\n",
       "      <th>4</th>\n",
       "      <td>20180101</td>\n",
       "      <td>M</td>\n",
       "      <td>20</td>\n",
       "      <td>식품</td>\n",
       "      <td>가공란</td>\n",
       "      <td>13</td>\n",
       "    </tr>\n",
       "  </tbody>\n",
       "</table>\n",
       "</div>"
      ],
      "text/plain": [
       "       date sex  age big_cat sm_cat  qty\n",
       "0  20180101   F   20      식품    가공란   37\n",
       "1  20180101   F   30      식품    가공란   16\n",
       "2  20180101   F   40      식품    가공란    9\n",
       "3  20180101   F   50      식품    가공란    3\n",
       "4  20180101   M   20      식품    가공란   13"
      ]
     },
     "execution_count": 12,
     "metadata": {
      "tags": []
     },
     "output_type": "execute_result"
    }
   ],
   "source": [
    "buy_full = dataload.load_buy()\n",
    "print(buy_full.shape)\n",
    "buy_full.head()"
   ]
  },
  {
   "cell_type": "code",
   "execution_count": null,
   "metadata": {
    "id": "M-hkvUpEKcMt",
    "outputId": "a908a7a6-2c1b-4f25-d346-3d74efa6c90f"
   },
   "outputs": [
    {
     "name": "stderr",
     "output_type": "stream",
     "text": [
      "100%|██████████| 11680/11680 [00:00<00:00, 12606.08it/s]\n",
      "100%|██████████| 2056899/2056899 [02:35<00:00, 13188.54it/s]\n"
     ]
    }
   ],
   "source": [
    "weather[\"date\"] = weather[\"date\"].progress_apply(lambda x : pd.to_datetime(str(x), format=\"%Y-%m-%d\"))\n",
    "buy_full[\"date\"] = buy_full[\"date\"].progress_apply(lambda x : pd.to_datetime(str(x), format=\"%Y-%m-%d\"))"
   ]
  },
  {
   "cell_type": "code",
   "execution_count": null,
   "metadata": {
    "id": "KsD6ePEMKcMu",
    "outputId": "9c9a67d3-74f6-459f-a18b-482a6bf89204"
   },
   "outputs": [
    {
     "data": {
      "text/plain": [
       "(267707, 3)"
      ]
     },
     "execution_count": 18,
     "metadata": {
      "tags": []
     },
     "output_type": "execute_result"
    }
   ],
   "source": [
    "buy = buy_full.groupby(['date', 'sm_cat']).sum('qty').reset_index()[[\"sm_cat\", \"date\", \"qty\"]]\n",
    "buy.shape"
   ]
  },
  {
   "cell_type": "markdown",
   "metadata": {
    "id": "34R6q0XOKcMu"
   },
   "source": [
    "# Correlation Check \n",
    "* 날씨 변수 선별 : '평균기온', '일별강수량', '평균풍속', 'PM10', '1시간최대습도', '일조시간합'"
   ]
  },
  {
   "cell_type": "code",
   "execution_count": null,
   "metadata": {
    "id": "ZgWuIb0yKcMv"
   },
   "outputs": [],
   "source": [
    "weather = weather[[\"date\", \"지역\", '평균기온', '일별강수량', '평균풍속', 'PM10', '1시간최대습도', '일조시간합']]"
   ]
  },
  {
   "cell_type": "code",
   "execution_count": null,
   "metadata": {
    "id": "iqPWPfGwKcMv"
   },
   "outputs": [],
   "source": [
    "def weather_correlation(weather, product, loc) : \n",
    "    df1 = weather[weather.지역 == loc].reset_index(drop=True)\n",
    "    df2 = buy[buy.sm_cat == product]\n",
    "    df = df1.merge(df2, on=\"date\", how='right')\n",
    "    df['sm_cat'] = df['sm_cat'].fillna(product) ; df['qty'] = df['qty'].fillna(0)\n",
    "    co = dict(np.abs(df.corr(method='spearman')[\"qty\"][:-1]))\n",
    "    co[\"category\"] = product\n",
    "    return co"
   ]
  },
  {
   "cell_type": "code",
   "execution_count": null,
   "metadata": {
    "id": "0obY0gcrKcMv",
    "outputId": "744de3ee-2a45-4c8b-d536-f71122a57ca4"
   },
   "outputs": [
    {
     "name": "stderr",
     "output_type": "stream",
     "text": [
      "100%|██████████| 383/383 [00:07<00:00, 51.02it/s]\n"
     ]
    }
   ],
   "source": [
    "result = pd.DataFrame()\n",
    "\n",
    "for cat in tqdm(buy.sm_cat.unique()) : \n",
    "    result = result.append(pd.DataFrame(weather_correlation(weather, cat, '서울'), index=[0]), ignore_index=True)"
   ]
  },
  {
   "cell_type": "code",
   "execution_count": null,
   "metadata": {
    "id": "PJFMA9gmKcMw"
   },
   "outputs": [],
   "source": [
    "buy_category = buy_full[[\"big_cat\", 'sm_cat']].drop_duplicates().reset_index(drop=True)\n",
    "buy_category = buy_category.merge(result, left_on='sm_cat', right_on=\"category\", how='left')\n",
    "buy_category = buy_category.drop('category', axis=1)\n",
    "\n",
    "# score \n",
    "buy_category[\"score\"] = buy_category.loc[:,list(buy_category.columns)[2:]].sum(axis=1)\n",
    "buy_category = buy_category.sort_values('score', ascending=False).reset_index(drop=True)"
   ]
  },
  {
   "cell_type": "code",
   "execution_count": null,
   "metadata": {
    "id": "Nn8yYo3lKcMw",
    "outputId": "8f3fc234-cb54-456d-e178-4b979b2723d9"
   },
   "outputs": [
    {
     "data": {
      "text/html": [
       "<div>\n",
       "<style scoped>\n",
       "    .dataframe tbody tr th:only-of-type {\n",
       "        vertical-align: middle;\n",
       "    }\n",
       "\n",
       "    .dataframe tbody tr th {\n",
       "        vertical-align: top;\n",
       "    }\n",
       "\n",
       "    .dataframe thead th {\n",
       "        text-align: right;\n",
       "    }\n",
       "</style>\n",
       "<table border=\"1\" class=\"dataframe\">\n",
       "  <thead>\n",
       "    <tr style=\"text-align: right;\">\n",
       "      <th></th>\n",
       "      <th>평균기온</th>\n",
       "      <th>일별강수량</th>\n",
       "      <th>평균풍속</th>\n",
       "      <th>PM10</th>\n",
       "      <th>1시간최대습도</th>\n",
       "      <th>일조시간합</th>\n",
       "      <th>score</th>\n",
       "    </tr>\n",
       "  </thead>\n",
       "  <tbody>\n",
       "    <tr>\n",
       "      <th>count</th>\n",
       "      <td>383.000000</td>\n",
       "      <td>383.000000</td>\n",
       "      <td>383.000000</td>\n",
       "      <td>383.000000</td>\n",
       "      <td>383.000000</td>\n",
       "      <td>383.000000</td>\n",
       "      <td>383.000000</td>\n",
       "    </tr>\n",
       "    <tr>\n",
       "      <th>mean</th>\n",
       "      <td>0.249870</td>\n",
       "      <td>0.065854</td>\n",
       "      <td>0.080325</td>\n",
       "      <td>0.118320</td>\n",
       "      <td>0.085571</td>\n",
       "      <td>0.054952</td>\n",
       "      <td>0.654891</td>\n",
       "    </tr>\n",
       "    <tr>\n",
       "      <th>std</th>\n",
       "      <td>0.204447</td>\n",
       "      <td>0.055696</td>\n",
       "      <td>0.053475</td>\n",
       "      <td>0.093951</td>\n",
       "      <td>0.073784</td>\n",
       "      <td>0.041940</td>\n",
       "      <td>0.398753</td>\n",
       "    </tr>\n",
       "    <tr>\n",
       "      <th>min</th>\n",
       "      <td>0.001421</td>\n",
       "      <td>0.000029</td>\n",
       "      <td>0.000666</td>\n",
       "      <td>0.001224</td>\n",
       "      <td>0.000319</td>\n",
       "      <td>0.000730</td>\n",
       "      <td>0.050317</td>\n",
       "    </tr>\n",
       "    <tr>\n",
       "      <th>25%</th>\n",
       "      <td>0.086267</td>\n",
       "      <td>0.020545</td>\n",
       "      <td>0.036780</td>\n",
       "      <td>0.042375</td>\n",
       "      <td>0.023711</td>\n",
       "      <td>0.021595</td>\n",
       "      <td>0.351506</td>\n",
       "    </tr>\n",
       "    <tr>\n",
       "      <th>50%</th>\n",
       "      <td>0.188603</td>\n",
       "      <td>0.049055</td>\n",
       "      <td>0.072902</td>\n",
       "      <td>0.093782</td>\n",
       "      <td>0.069420</td>\n",
       "      <td>0.045784</td>\n",
       "      <td>0.549655</td>\n",
       "    </tr>\n",
       "    <tr>\n",
       "      <th>75%</th>\n",
       "      <td>0.366753</td>\n",
       "      <td>0.101640</td>\n",
       "      <td>0.114823</td>\n",
       "      <td>0.179307</td>\n",
       "      <td>0.124436</td>\n",
       "      <td>0.076340</td>\n",
       "      <td>0.856828</td>\n",
       "    </tr>\n",
       "    <tr>\n",
       "      <th>max</th>\n",
       "      <td>0.819175</td>\n",
       "      <td>0.290211</td>\n",
       "      <td>0.254873</td>\n",
       "      <td>0.556420</td>\n",
       "      <td>0.343261</td>\n",
       "      <td>0.189992</td>\n",
       "      <td>1.866211</td>\n",
       "    </tr>\n",
       "  </tbody>\n",
       "</table>\n",
       "</div>"
      ],
      "text/plain": [
       "            평균기온      일별강수량       평균풍속       PM10    1시간최대습도      일조시간합  \\\n",
       "count 383.000000 383.000000 383.000000 383.000000 383.000000 383.000000   \n",
       "mean    0.249870   0.065854   0.080325   0.118320   0.085571   0.054952   \n",
       "std     0.204447   0.055696   0.053475   0.093951   0.073784   0.041940   \n",
       "min     0.001421   0.000029   0.000666   0.001224   0.000319   0.000730   \n",
       "25%     0.086267   0.020545   0.036780   0.042375   0.023711   0.021595   \n",
       "50%     0.188603   0.049055   0.072902   0.093782   0.069420   0.045784   \n",
       "75%     0.366753   0.101640   0.114823   0.179307   0.124436   0.076340   \n",
       "max     0.819175   0.290211   0.254873   0.556420   0.343261   0.189992   \n",
       "\n",
       "           score  \n",
       "count 383.000000  \n",
       "mean    0.654891  \n",
       "std     0.398753  \n",
       "min     0.050317  \n",
       "25%     0.351506  \n",
       "50%     0.549655  \n",
       "75%     0.856828  \n",
       "max     1.866211  "
      ]
     },
     "execution_count": 266,
     "metadata": {
      "tags": []
     },
     "output_type": "execute_result"
    }
   ],
   "source": [
    "buy_category.describe()"
   ]
  },
  {
   "cell_type": "code",
   "execution_count": null,
   "metadata": {
    "id": "RjpsShMGKcMw",
    "outputId": "1fb6c835-b4eb-463e-cfd4-6764b264582c"
   },
   "outputs": [
    {
     "data": {
      "text/html": [
       "<div>\n",
       "<style scoped>\n",
       "    .dataframe tbody tr th:only-of-type {\n",
       "        vertical-align: middle;\n",
       "    }\n",
       "\n",
       "    .dataframe tbody tr th {\n",
       "        vertical-align: top;\n",
       "    }\n",
       "\n",
       "    .dataframe thead th {\n",
       "        text-align: right;\n",
       "    }\n",
       "</style>\n",
       "<table border=\"1\" class=\"dataframe\">\n",
       "  <thead>\n",
       "    <tr style=\"text-align: right;\">\n",
       "      <th></th>\n",
       "      <th>big_cat</th>\n",
       "      <th>sm_cat</th>\n",
       "      <th>평균기온</th>\n",
       "      <th>일별강수량</th>\n",
       "      <th>평균풍속</th>\n",
       "      <th>PM10</th>\n",
       "      <th>1시간최대습도</th>\n",
       "      <th>일조시간합</th>\n",
       "      <th>score</th>\n",
       "    </tr>\n",
       "  </thead>\n",
       "  <tbody>\n",
       "    <tr>\n",
       "      <th>0</th>\n",
       "      <td>식품</td>\n",
       "      <td>감귤/한라봉/오렌지</td>\n",
       "      <td>0.781819</td>\n",
       "      <td>0.220087</td>\n",
       "      <td>0.143872</td>\n",
       "      <td>0.339007</td>\n",
       "      <td>0.264361</td>\n",
       "      <td>0.117065</td>\n",
       "      <td>1.866211</td>\n",
       "    </tr>\n",
       "    <tr>\n",
       "      <th>1</th>\n",
       "      <td>냉난방가전</td>\n",
       "      <td>복합식 가습기</td>\n",
       "      <td>0.799613</td>\n",
       "      <td>0.247738</td>\n",
       "      <td>0.070702</td>\n",
       "      <td>0.335301</td>\n",
       "      <td>0.319788</td>\n",
       "      <td>0.060826</td>\n",
       "      <td>1.833968</td>\n",
       "    </tr>\n",
       "    <tr>\n",
       "      <th>2</th>\n",
       "      <td>냉난방가전</td>\n",
       "      <td>초음파식 가습기</td>\n",
       "      <td>0.819175</td>\n",
       "      <td>0.249171</td>\n",
       "      <td>0.057451</td>\n",
       "      <td>0.315716</td>\n",
       "      <td>0.323280</td>\n",
       "      <td>0.062754</td>\n",
       "      <td>1.827546</td>\n",
       "    </tr>\n",
       "    <tr>\n",
       "      <th>3</th>\n",
       "      <td>식품</td>\n",
       "      <td>굴 생물</td>\n",
       "      <td>0.778428</td>\n",
       "      <td>0.209510</td>\n",
       "      <td>0.091692</td>\n",
       "      <td>0.335131</td>\n",
       "      <td>0.262712</td>\n",
       "      <td>0.121048</td>\n",
       "      <td>1.798522</td>\n",
       "    </tr>\n",
       "    <tr>\n",
       "      <th>4</th>\n",
       "      <td>냉난방가전</td>\n",
       "      <td>에어워셔</td>\n",
       "      <td>0.735215</td>\n",
       "      <td>0.240862</td>\n",
       "      <td>0.080973</td>\n",
       "      <td>0.346412</td>\n",
       "      <td>0.296342</td>\n",
       "      <td>0.042640</td>\n",
       "      <td>1.742445</td>\n",
       "    </tr>\n",
       "    <tr>\n",
       "      <th>5</th>\n",
       "      <td>식품</td>\n",
       "      <td>해초류</td>\n",
       "      <td>0.709691</td>\n",
       "      <td>0.196477</td>\n",
       "      <td>0.090531</td>\n",
       "      <td>0.358012</td>\n",
       "      <td>0.272941</td>\n",
       "      <td>0.068113</td>\n",
       "      <td>1.695766</td>\n",
       "    </tr>\n",
       "    <tr>\n",
       "      <th>6</th>\n",
       "      <td>냉난방가전</td>\n",
       "      <td>업소용 선풍기</td>\n",
       "      <td>0.742508</td>\n",
       "      <td>0.207005</td>\n",
       "      <td>0.060012</td>\n",
       "      <td>0.289943</td>\n",
       "      <td>0.274205</td>\n",
       "      <td>0.101560</td>\n",
       "      <td>1.675233</td>\n",
       "    </tr>\n",
       "    <tr>\n",
       "      <th>7</th>\n",
       "      <td>뷰티</td>\n",
       "      <td>뷰티 타투</td>\n",
       "      <td>0.722963</td>\n",
       "      <td>0.177168</td>\n",
       "      <td>0.080317</td>\n",
       "      <td>0.294297</td>\n",
       "      <td>0.263440</td>\n",
       "      <td>0.125605</td>\n",
       "      <td>1.663790</td>\n",
       "    </tr>\n",
       "    <tr>\n",
       "      <th>8</th>\n",
       "      <td>뷰티</td>\n",
       "      <td>핸드크림</td>\n",
       "      <td>0.731759</td>\n",
       "      <td>0.193824</td>\n",
       "      <td>0.101470</td>\n",
       "      <td>0.258004</td>\n",
       "      <td>0.245471</td>\n",
       "      <td>0.090728</td>\n",
       "      <td>1.621257</td>\n",
       "    </tr>\n",
       "    <tr>\n",
       "      <th>9</th>\n",
       "      <td>식품</td>\n",
       "      <td>코코아/핫초코</td>\n",
       "      <td>0.702257</td>\n",
       "      <td>0.137033</td>\n",
       "      <td>0.157499</td>\n",
       "      <td>0.256525</td>\n",
       "      <td>0.233131</td>\n",
       "      <td>0.113123</td>\n",
       "      <td>1.599569</td>\n",
       "    </tr>\n",
       "  </tbody>\n",
       "</table>\n",
       "</div>"
      ],
      "text/plain": [
       "  big_cat      sm_cat     평균기온    일별강수량     평균풍속     PM10  1시간최대습도    일조시간합  \\\n",
       "0      식품  감귤/한라봉/오렌지 0.781819 0.220087 0.143872 0.339007 0.264361 0.117065   \n",
       "1   냉난방가전     복합식 가습기 0.799613 0.247738 0.070702 0.335301 0.319788 0.060826   \n",
       "2   냉난방가전    초음파식 가습기 0.819175 0.249171 0.057451 0.315716 0.323280 0.062754   \n",
       "3      식품        굴 생물 0.778428 0.209510 0.091692 0.335131 0.262712 0.121048   \n",
       "4   냉난방가전        에어워셔 0.735215 0.240862 0.080973 0.346412 0.296342 0.042640   \n",
       "5      식품        해초류  0.709691 0.196477 0.090531 0.358012 0.272941 0.068113   \n",
       "6   냉난방가전     업소용 선풍기 0.742508 0.207005 0.060012 0.289943 0.274205 0.101560   \n",
       "7      뷰티       뷰티 타투 0.722963 0.177168 0.080317 0.294297 0.263440 0.125605   \n",
       "8      뷰티        핸드크림 0.731759 0.193824 0.101470 0.258004 0.245471 0.090728   \n",
       "9      식품     코코아/핫초코 0.702257 0.137033 0.157499 0.256525 0.233131 0.113123   \n",
       "\n",
       "     score  \n",
       "0 1.866211  \n",
       "1 1.833968  \n",
       "2 1.827546  \n",
       "3 1.798522  \n",
       "4 1.742445  \n",
       "5 1.695766  \n",
       "6 1.675233  \n",
       "7 1.663790  \n",
       "8 1.621257  \n",
       "9 1.599569  "
      ]
     },
     "execution_count": 276,
     "metadata": {
      "tags": []
     },
     "output_type": "execute_result"
    }
   ],
   "source": [
    "buy_category.head(10)"
   ]
  },
  {
   "cell_type": "markdown",
   "metadata": {
    "id": "Bv8VbzatKcMx"
   },
   "source": [
    "# Data Save (추후 수정) "
   ]
  },
  {
   "cell_type": "markdown",
   "metadata": {},
   "source": [
    "## ADF Test (정상 / 비정상)"
   ]
  },
  {
   "cell_type": "code",
   "execution_count": null,
   "metadata": {},
   "outputs": [],
   "source": [
    "buy_full['year'] = buy_full['date'].apply(lambda x : x.year)\n",
    "\n",
    "# 피벗테이블 정규화 함수\n",
    "def normalization(data):\n",
    "    avg_lst = []; std_lst = []\n",
    "    for idx, item in tqdm(data.iteritems()):\n",
    "        avg_lst.append(item.mean())\n",
    "        std_lst.append(item.std())\n",
    "    for i in tqdm(range(data.shape[1])):\n",
    "        for j in range(365):\n",
    "            data.iloc[j,i] = (data.iloc[j,i] - avg_lst[i])/std_lst[i]\n",
    "    return data\n",
    "\n",
    "adf_data = buy_full[['date', 'sm_cat', 'qty']].groupby(['date', 'sm_cat']).sum().reset_index()\n",
    "adf_data = pd.pivot_table(adf_data, values='qty', index='date', columns='sm_cat').fillna(0)"
   ]
  },
  {
   "cell_type": "code",
   "execution_count": null,
   "metadata": {},
   "outputs": [],
   "source": [
    "# ADF Test\n",
    "adf_res = pd.DataFrame()\n",
    "sm_cat_list = list(adf_data.columns)\n",
    "\n",
    "def adf_test(data, sm_cat):\n",
    "    item = data[sm_cat]\n",
    "    result = adfuller(item.values)\n",
    "    if result[1] <= 0.05:\n",
    "        test_res = '정상' # 기각\n",
    "    else:\n",
    "        test_res = '비정상' \n",
    "    return pd.DataFrame([{'sm_cat':sm_cat, 'ADF_stats':result[0], 'p-value':result[1], 'test_res':test_res}])\n",
    "\n",
    "for sm_cat in sm_cat_list:\n",
    "    adf_res = pd.concat([adf_res, adf_test(adf_data, sm_cat)], axis=0)\n",
    "    \n",
    "adf = adf_res[['sm_cat', 'test_res']] # 상품별 정상 / 비정상 정보\n",
    "adf.to_csv(os.path.join(\"최종데이터\", \"adf_res.csv\"), encoding=\"cp949\")"
   ]
  },
  {
   "cell_type": "code",
   "execution_count": null,
   "metadata": {
    "id": "_83ldi0UKcMx",
    "outputId": "b7c5b682-2def-4a68-c577-739416572fc9"
   },
   "outputs": [
    {
     "name": "stdout",
     "output_type": "stream",
     "text": [
      "(383, 3)\n"
     ]
    },
    {
     "data": {
      "text/html": [
       "<div>\n",
       "<style scoped>\n",
       "    .dataframe tbody tr th:only-of-type {\n",
       "        vertical-align: middle;\n",
       "    }\n",
       "\n",
       "    .dataframe tbody tr th {\n",
       "        vertical-align: top;\n",
       "    }\n",
       "\n",
       "    .dataframe thead th {\n",
       "        text-align: right;\n",
       "    }\n",
       "</style>\n",
       "<table border=\"1\" class=\"dataframe\">\n",
       "  <thead>\n",
       "    <tr style=\"text-align: right;\">\n",
       "      <th></th>\n",
       "      <th>Unnamed: 0</th>\n",
       "      <th>sm_cat</th>\n",
       "      <th>test_res</th>\n",
       "    </tr>\n",
       "  </thead>\n",
       "  <tbody>\n",
       "    <tr>\n",
       "      <th>0</th>\n",
       "      <td>0</td>\n",
       "      <td>가공란</td>\n",
       "      <td>정상</td>\n",
       "    </tr>\n",
       "    <tr>\n",
       "      <th>1</th>\n",
       "      <td>0</td>\n",
       "      <td>가스온수기</td>\n",
       "      <td>정상</td>\n",
       "    </tr>\n",
       "    <tr>\n",
       "      <th>2</th>\n",
       "      <td>0</td>\n",
       "      <td>가열식 가습기</td>\n",
       "      <td>비정상</td>\n",
       "    </tr>\n",
       "    <tr>\n",
       "      <th>3</th>\n",
       "      <td>0</td>\n",
       "      <td>가자미</td>\n",
       "      <td>정상</td>\n",
       "    </tr>\n",
       "    <tr>\n",
       "      <th>4</th>\n",
       "      <td>0</td>\n",
       "      <td>갈비/찜/바비큐용 돈육</td>\n",
       "      <td>비정상</td>\n",
       "    </tr>\n",
       "  </tbody>\n",
       "</table>\n",
       "</div>"
      ],
      "text/plain": [
       "   Unnamed: 0        sm_cat test_res\n",
       "0           0           가공란       정상\n",
       "1           0         가스온수기       정상\n",
       "2           0       가열식 가습기      비정상\n",
       "3           0           가자미       정상\n",
       "4           0  갈비/찜/바비큐용 돈육      비정상"
      ]
     },
     "execution_count": 321,
     "metadata": {
      "tags": []
     },
     "output_type": "execute_result"
    }
   ],
   "source": [
    "# adf test\n",
    "adf = pd.read_csv(os.path.join(\"최종데이터\", \"adf_res.csv\"), encoding=\"cp949\")\n",
    "print(adf.shape)\n",
    "adf.head()"
   ]
  },
  {
   "cell_type": "code",
   "execution_count": null,
   "metadata": {
    "id": "V4rmzf6mKcMx",
    "outputId": "d366be50-9abf-41a8-c955-4c67b803f793"
   },
   "outputs": [
    {
     "data": {
      "text/plain": [
       "((154, 3), (229, 3))"
      ]
     },
     "execution_count": 323,
     "metadata": {
      "tags": []
     },
     "output_type": "execute_result"
    }
   ],
   "source": [
    "adf_0 = adf[adf[\"test_res\"] == \"비정상\"]  # 비정상 \n",
    "adf_1 = adf[adf[\"test_res\"] == \"정상\"]  # 정상 \n",
    "\n",
    "adf_0.shape, adf_1.shape"
   ]
  },
  {
   "cell_type": "code",
   "execution_count": null,
   "metadata": {
    "id": "ibUtVTOVKcMx"
   },
   "outputs": [],
   "source": [
    "corr0 = buy_category[buy_category.sm_cat.isin(adf_0.sm_cat.unique())]\n",
    "corr1 = buy_category[buy_category.sm_cat.isin(adf_1.sm_cat.unique())]"
   ]
  },
  {
   "cell_type": "code",
   "execution_count": null,
   "metadata": {
    "id": "xCmBR1wbKcMy"
   },
   "outputs": [],
   "source": [
    "corr0 = corr0.drop('일조시간합', axis=1) ; corr1 = corr1.drop('일조시간합', axis=1)"
   ]
  },
  {
   "cell_type": "code",
   "execution_count": null,
   "metadata": {
    "id": "fnfXkGbbKcMy",
    "outputId": "865d3b3a-93d3-40d4-c727-1c2ba08b23d3"
   },
   "outputs": [
    {
     "data": {
      "text/plain": [
       "((134, 8), (20, 8))"
      ]
     },
     "execution_count": 326,
     "metadata": {
      "tags": []
     },
     "output_type": "execute_result"
    }
   ],
   "source": [
    "# 비정상 \n",
    "corr0_high = corr0[(corr0.평균기온 >= 0.188603) | (corr0.일별강수량 >= 0.101640) | (corr0.평균풍속 >= 0.114823) | (corr0.PM10 >= 0.179307) | (corr0['1시간최대습도'] >= 0.124436)]\n",
    "corr0_low = corr0[~corr0.sm_cat.isin(corr0_high.sm_cat.unique())]\n",
    "\n",
    "corr0_high.shape, corr0_low.shape"
   ]
  },
  {
   "cell_type": "code",
   "execution_count": null,
   "metadata": {
    "id": "MOTjFhbZKcMy",
    "outputId": "e6d47f26-4bcc-4b04-dd9d-a62b0f5a4b5d"
   },
   "outputs": [
    {
     "data": {
      "text/plain": [
       "((130, 8), (99, 8))"
      ]
     },
     "execution_count": 327,
     "metadata": {
      "tags": []
     },
     "output_type": "execute_result"
    }
   ],
   "source": [
    "# 정상 \n",
    "corr1_high = corr1[(corr1.평균기온 >= 0.188603) | (corr1.일별강수량 >= 0.101640) | (corr1.평균풍속 >= 0.114823) | (corr1.PM10 >= 0.179307) | (corr1['1시간최대습도'] >= 0.124436) ]\n",
    "corr1_low = corr1[~corr1.sm_cat.isin(corr1_high.sm_cat.unique())]\n",
    "\n",
    "corr1_high.shape, corr1_low.shape"
   ]
  },
  {
   "cell_type": "code",
   "execution_count": null,
   "metadata": {
    "id": "G5_2p3wxKcMy"
   },
   "outputs": [],
   "source": [
    "corr0_high[\"group\"] = \"비정상_high\" ; corr0_low[\"group\"] = \"비정상_low\"\n",
    "corr1_high[\"group\"] = \"정상_high\" ; corr1_low[\"group\"] = \"정상_low\""
   ]
  },
  {
   "cell_type": "code",
   "execution_count": null,
   "metadata": {
    "id": "Q1vimmxDKcMy"
   },
   "outputs": [],
   "source": [
    "corr_result = pd.concat([corr0_high, corr0_low, corr1_high, corr1_low], axis=0)"
   ]
  },
  {
   "cell_type": "code",
   "execution_count": null,
   "metadata": {
    "id": "E7kV9XYqKcMz"
   },
   "outputs": [],
   "source": [
    "corr_result = corr_result.sort_index()\n",
    "corr_result = corr_result[[\"big_cat\", \"sm_cat\", \"group\"]]"
   ]
  },
  {
   "cell_type": "code",
   "execution_count": null,
   "metadata": {
    "id": "re3pLixHKcMz"
   },
   "outputs": [],
   "source": [
    "corr_result.to_csv(os.path.join(\"최종데이터\", \"adf_corr_group_0617.csv\"), index=False, encoding=\"cp949\")"
   ]
  },
  {
   "cell_type": "code",
   "execution_count": null,
   "metadata": {
    "id": "tSjOdkauKcMz",
    "outputId": "bd742747-a7bf-4c24-e7c6-e753f2cc364f"
   },
   "outputs": [
    {
     "data": {
      "text/plain": [
       "비정상_high    134\n",
       "정상_high     130\n",
       "정상_low       99\n",
       "비정상_low      20\n",
       "Name: group, dtype: int64"
      ]
     },
     "execution_count": 332,
     "metadata": {
      "tags": []
     },
     "output_type": "execute_result"
    }
   ],
   "source": [
    "corr_result.group.value_counts()"
   ]
  }
 ],
 "metadata": {
  "colab": {
   "name": "2-Correlation.ipynb",
   "provenance": []
  },
  "interpreter": {
   "hash": "32b7839f529c9e6786985dabb88121f1870060a6cb4252c66ad21673957b0110"
  },
  "kernelspec": {
   "display_name": "Python 3",
   "language": "python",
   "name": "python3"
  },
  "language_info": {
   "codemirror_mode": {
    "name": "ipython",
    "version": 3
   },
   "file_extension": ".py",
   "mimetype": "text/x-python",
   "name": "python",
   "nbconvert_exporter": "python",
   "pygments_lexer": "ipython3",
   "version": "3.8.8"
  }
 },
 "nbformat": 4,
 "nbformat_minor": 4
}
